{
  "nbformat": 4,
  "nbformat_minor": 0,
  "metadata": {
    "colab": {
      "name": "Bank_loan_sanctioned.ipynb",
      "provenance": []
    },
    "kernelspec": {
      "name": "python3",
      "display_name": "Python 3"
    },
    "language_info": {
      "name": "python"
    }
  },
  "cells": [
    {
      "cell_type": "markdown",
      "metadata": {
        "id": "XbEGmzah1Ibl"
      },
      "source": [
        "# Bank Personal Loan Sanctioned"
      ]
    },
    {
      "cell_type": "code",
      "metadata": {
        "colab": {
          "base_uri": "https://localhost:8080/"
        },
        "id": "908peKz11aV8",
        "outputId": "ec28b35e-362c-4c11-b075-59f7eaff1bc1"
      },
      "source": [
        "import os\n",
        "from google.colab import drive\n",
        "drive.mount('/content/gdrive')"
      ],
      "execution_count": 396,
      "outputs": [
        {
          "output_type": "stream",
          "text": [
            "Drive already mounted at /content/gdrive; to attempt to forcibly remount, call drive.mount(\"/content/gdrive\", force_remount=True).\n"
          ],
          "name": "stdout"
        }
      ]
    },
    {
      "cell_type": "code",
      "metadata": {
        "id": "bs85swBG1aYg"
      },
      "source": [
        "#Change the current working directory to the specified path.\n",
        "#path may always be specified as a string.\n",
        "#On some platforms, path may also be specified as an open file descriptor.\n",
        "#If this functionality is unavailable, using it raises an exception\n",
        "import pandas as pd\n",
        "os.chdir('/content/gdrive/My Drive/placement/IIBM/stats')\n",
        "df = pd.read_excel('Bank_Personal_Loan_Modelling.xlsx',sheet_name=1)"
      ],
      "execution_count": 397,
      "outputs": []
    },
    {
      "cell_type": "markdown",
      "metadata": {
        "id": "fXsXLfwG_EHy"
      },
      "source": [
        "**Exploratory Data Analysis**"
      ]
    },
    {
      "cell_type": "code",
      "metadata": {
        "colab": {
          "base_uri": "https://localhost:8080/",
          "height": 203
        },
        "id": "0wia33GI1ab6",
        "outputId": "5fe8635f-bb8f-43af-ac17-3cd37c78bd52"
      },
      "source": [
        "df.head()\n",
        "#here zipcode and id is of no use remove that"
      ],
      "execution_count": 398,
      "outputs": [
        {
          "output_type": "execute_result",
          "data": {
            "text/html": [
              "<div>\n",
              "<style scoped>\n",
              "    .dataframe tbody tr th:only-of-type {\n",
              "        vertical-align: middle;\n",
              "    }\n",
              "\n",
              "    .dataframe tbody tr th {\n",
              "        vertical-align: top;\n",
              "    }\n",
              "\n",
              "    .dataframe thead th {\n",
              "        text-align: right;\n",
              "    }\n",
              "</style>\n",
              "<table border=\"1\" class=\"dataframe\">\n",
              "  <thead>\n",
              "    <tr style=\"text-align: right;\">\n",
              "      <th></th>\n",
              "      <th>ID</th>\n",
              "      <th>Age</th>\n",
              "      <th>Experience</th>\n",
              "      <th>Income</th>\n",
              "      <th>ZIP Code</th>\n",
              "      <th>Family</th>\n",
              "      <th>CCAvg</th>\n",
              "      <th>Education</th>\n",
              "      <th>Mortgage</th>\n",
              "      <th>Personal Loan</th>\n",
              "      <th>Securities Account</th>\n",
              "      <th>CD Account</th>\n",
              "      <th>Online</th>\n",
              "      <th>CreditCard</th>\n",
              "    </tr>\n",
              "  </thead>\n",
              "  <tbody>\n",
              "    <tr>\n",
              "      <th>0</th>\n",
              "      <td>1</td>\n",
              "      <td>25</td>\n",
              "      <td>1</td>\n",
              "      <td>49</td>\n",
              "      <td>91107</td>\n",
              "      <td>4</td>\n",
              "      <td>1.6</td>\n",
              "      <td>1</td>\n",
              "      <td>0</td>\n",
              "      <td>0</td>\n",
              "      <td>1</td>\n",
              "      <td>0</td>\n",
              "      <td>0</td>\n",
              "      <td>0</td>\n",
              "    </tr>\n",
              "    <tr>\n",
              "      <th>1</th>\n",
              "      <td>2</td>\n",
              "      <td>45</td>\n",
              "      <td>19</td>\n",
              "      <td>34</td>\n",
              "      <td>90089</td>\n",
              "      <td>3</td>\n",
              "      <td>1.5</td>\n",
              "      <td>1</td>\n",
              "      <td>0</td>\n",
              "      <td>0</td>\n",
              "      <td>1</td>\n",
              "      <td>0</td>\n",
              "      <td>0</td>\n",
              "      <td>0</td>\n",
              "    </tr>\n",
              "    <tr>\n",
              "      <th>2</th>\n",
              "      <td>3</td>\n",
              "      <td>39</td>\n",
              "      <td>15</td>\n",
              "      <td>11</td>\n",
              "      <td>94720</td>\n",
              "      <td>1</td>\n",
              "      <td>1.0</td>\n",
              "      <td>1</td>\n",
              "      <td>0</td>\n",
              "      <td>0</td>\n",
              "      <td>0</td>\n",
              "      <td>0</td>\n",
              "      <td>0</td>\n",
              "      <td>0</td>\n",
              "    </tr>\n",
              "    <tr>\n",
              "      <th>3</th>\n",
              "      <td>4</td>\n",
              "      <td>35</td>\n",
              "      <td>9</td>\n",
              "      <td>100</td>\n",
              "      <td>94112</td>\n",
              "      <td>1</td>\n",
              "      <td>2.7</td>\n",
              "      <td>2</td>\n",
              "      <td>0</td>\n",
              "      <td>0</td>\n",
              "      <td>0</td>\n",
              "      <td>0</td>\n",
              "      <td>0</td>\n",
              "      <td>0</td>\n",
              "    </tr>\n",
              "    <tr>\n",
              "      <th>4</th>\n",
              "      <td>5</td>\n",
              "      <td>35</td>\n",
              "      <td>8</td>\n",
              "      <td>45</td>\n",
              "      <td>91330</td>\n",
              "      <td>4</td>\n",
              "      <td>1.0</td>\n",
              "      <td>2</td>\n",
              "      <td>0</td>\n",
              "      <td>0</td>\n",
              "      <td>0</td>\n",
              "      <td>0</td>\n",
              "      <td>0</td>\n",
              "      <td>1</td>\n",
              "    </tr>\n",
              "  </tbody>\n",
              "</table>\n",
              "</div>"
            ],
            "text/plain": [
              "   ID  Age  Experience  ...  CD Account  Online  CreditCard\n",
              "0   1   25           1  ...           0       0           0\n",
              "1   2   45          19  ...           0       0           0\n",
              "2   3   39          15  ...           0       0           0\n",
              "3   4   35           9  ...           0       0           0\n",
              "4   5   35           8  ...           0       0           1\n",
              "\n",
              "[5 rows x 14 columns]"
            ]
          },
          "metadata": {
            "tags": []
          },
          "execution_count": 398
        }
      ]
    },
    {
      "cell_type": "code",
      "metadata": {
        "colab": {
          "base_uri": "https://localhost:8080/"
        },
        "id": "0xsMrKqV3bGG",
        "outputId": "fe77285a-9c13-4b48-cc44-4c24ac79c37e"
      },
      "source": [
        "df.columns"
      ],
      "execution_count": 399,
      "outputs": [
        {
          "output_type": "execute_result",
          "data": {
            "text/plain": [
              "Index(['ID', 'Age', 'Experience', 'Income', 'ZIP Code', 'Family', 'CCAvg',\n",
              "       'Education', 'Mortgage', 'Personal Loan', 'Securities Account',\n",
              "       'CD Account', 'Online', 'CreditCard'],\n",
              "      dtype='object')"
            ]
          },
          "metadata": {
            "tags": []
          },
          "execution_count": 399
        }
      ]
    },
    {
      "cell_type": "code",
      "metadata": {
        "id": "PxN2KS141aeS"
      },
      "source": [
        "df = df.drop(['ID','ZIP Code'],axis=1)"
      ],
      "execution_count": 400,
      "outputs": []
    },
    {
      "cell_type": "code",
      "metadata": {
        "id": "WW5EOU2n1ahZ"
      },
      "source": [
        "df = df.drop_duplicates()"
      ],
      "execution_count": 401,
      "outputs": []
    },
    {
      "cell_type": "code",
      "metadata": {
        "colab": {
          "base_uri": "https://localhost:8080/"
        },
        "id": "9F6EobKt1akO",
        "outputId": "4e40d787-19ad-4321-e9d0-b981832140dd"
      },
      "source": [
        "df.isnull().sum()"
      ],
      "execution_count": 402,
      "outputs": [
        {
          "output_type": "execute_result",
          "data": {
            "text/plain": [
              "Age                   0\n",
              "Experience            0\n",
              "Income                0\n",
              "Family                0\n",
              "CCAvg                 0\n",
              "Education             0\n",
              "Mortgage              0\n",
              "Personal Loan         0\n",
              "Securities Account    0\n",
              "CD Account            0\n",
              "Online                0\n",
              "CreditCard            0\n",
              "dtype: int64"
            ]
          },
          "metadata": {
            "tags": []
          },
          "execution_count": 402
        }
      ]
    },
    {
      "cell_type": "code",
      "metadata": {
        "colab": {
          "base_uri": "https://localhost:8080/"
        },
        "id": "BCtzicbw4Yc2",
        "outputId": "d0cc87f7-fe3c-4e21-8b18-80d29165f25d"
      },
      "source": [
        "df.info()"
      ],
      "execution_count": 403,
      "outputs": [
        {
          "output_type": "stream",
          "text": [
            "<class 'pandas.core.frame.DataFrame'>\n",
            "Int64Index: 4987 entries, 0 to 4999\n",
            "Data columns (total 12 columns):\n",
            " #   Column              Non-Null Count  Dtype  \n",
            "---  ------              --------------  -----  \n",
            " 0   Age                 4987 non-null   int64  \n",
            " 1   Experience          4987 non-null   int64  \n",
            " 2   Income              4987 non-null   int64  \n",
            " 3   Family              4987 non-null   int64  \n",
            " 4   CCAvg               4987 non-null   float64\n",
            " 5   Education           4987 non-null   int64  \n",
            " 6   Mortgage            4987 non-null   int64  \n",
            " 7   Personal Loan       4987 non-null   int64  \n",
            " 8   Securities Account  4987 non-null   int64  \n",
            " 9   CD Account          4987 non-null   int64  \n",
            " 10  Online              4987 non-null   int64  \n",
            " 11  CreditCard          4987 non-null   int64  \n",
            "dtypes: float64(1), int64(11)\n",
            "memory usage: 506.5 KB\n"
          ],
          "name": "stdout"
        }
      ]
    },
    {
      "cell_type": "code",
      "metadata": {
        "id": "nV84gann1anl"
      },
      "source": [
        "df = df.dropna()"
      ],
      "execution_count": 404,
      "outputs": []
    },
    {
      "cell_type": "code",
      "metadata": {
        "colab": {
          "base_uri": "https://localhost:8080/",
          "height": 295
        },
        "id": "fWO9Mwjn1aqD",
        "outputId": "c05936a0-eee7-4464-d74f-70b04269c87c"
      },
      "source": [
        "df.describe()\n",
        "\n",
        "#Most people who buy a home do so with a mortgage. A mortgage is a necessity if you can’t pay the full cost of a home out of pocket.\n",
        "#A mortgage is a loan that the borrower uses to purchase or maintain a home or \n",
        "# other form of real estate and agrees to pay back over time, typically in a series of regular payments."
      ],
      "execution_count": 405,
      "outputs": [
        {
          "output_type": "execute_result",
          "data": {
            "text/html": [
              "<div>\n",
              "<style scoped>\n",
              "    .dataframe tbody tr th:only-of-type {\n",
              "        vertical-align: middle;\n",
              "    }\n",
              "\n",
              "    .dataframe tbody tr th {\n",
              "        vertical-align: top;\n",
              "    }\n",
              "\n",
              "    .dataframe thead th {\n",
              "        text-align: right;\n",
              "    }\n",
              "</style>\n",
              "<table border=\"1\" class=\"dataframe\">\n",
              "  <thead>\n",
              "    <tr style=\"text-align: right;\">\n",
              "      <th></th>\n",
              "      <th>Age</th>\n",
              "      <th>Experience</th>\n",
              "      <th>Income</th>\n",
              "      <th>Family</th>\n",
              "      <th>CCAvg</th>\n",
              "      <th>Education</th>\n",
              "      <th>Mortgage</th>\n",
              "      <th>Personal Loan</th>\n",
              "      <th>Securities Account</th>\n",
              "      <th>CD Account</th>\n",
              "      <th>Online</th>\n",
              "      <th>CreditCard</th>\n",
              "    </tr>\n",
              "  </thead>\n",
              "  <tbody>\n",
              "    <tr>\n",
              "      <th>count</th>\n",
              "      <td>4987.000000</td>\n",
              "      <td>4987.000000</td>\n",
              "      <td>4987.000000</td>\n",
              "      <td>4987.000000</td>\n",
              "      <td>4987.000000</td>\n",
              "      <td>4987.000000</td>\n",
              "      <td>4987.000000</td>\n",
              "      <td>4987.000000</td>\n",
              "      <td>4987.000000</td>\n",
              "      <td>4987.000000</td>\n",
              "      <td>4987.000000</td>\n",
              "      <td>4987.000000</td>\n",
              "    </tr>\n",
              "    <tr>\n",
              "      <th>mean</th>\n",
              "      <td>45.347704</td>\n",
              "      <td>20.114498</td>\n",
              "      <td>73.824544</td>\n",
              "      <td>2.396631</td>\n",
              "      <td>1.940606</td>\n",
              "      <td>1.879286</td>\n",
              "      <td>56.646080</td>\n",
              "      <td>0.096250</td>\n",
              "      <td>0.104672</td>\n",
              "      <td>0.060557</td>\n",
              "      <td>0.596150</td>\n",
              "      <td>0.294566</td>\n",
              "    </tr>\n",
              "    <tr>\n",
              "      <th>std</th>\n",
              "      <td>11.460838</td>\n",
              "      <td>11.464902</td>\n",
              "      <td>46.062728</td>\n",
              "      <td>1.147510</td>\n",
              "      <td>1.748831</td>\n",
              "      <td>0.839667</td>\n",
              "      <td>101.805341</td>\n",
              "      <td>0.294964</td>\n",
              "      <td>0.306161</td>\n",
              "      <td>0.238541</td>\n",
              "      <td>0.490717</td>\n",
              "      <td>0.455893</td>\n",
              "    </tr>\n",
              "    <tr>\n",
              "      <th>min</th>\n",
              "      <td>23.000000</td>\n",
              "      <td>-3.000000</td>\n",
              "      <td>8.000000</td>\n",
              "      <td>1.000000</td>\n",
              "      <td>0.000000</td>\n",
              "      <td>1.000000</td>\n",
              "      <td>0.000000</td>\n",
              "      <td>0.000000</td>\n",
              "      <td>0.000000</td>\n",
              "      <td>0.000000</td>\n",
              "      <td>0.000000</td>\n",
              "      <td>0.000000</td>\n",
              "    </tr>\n",
              "    <tr>\n",
              "      <th>25%</th>\n",
              "      <td>35.000000</td>\n",
              "      <td>10.000000</td>\n",
              "      <td>39.000000</td>\n",
              "      <td>1.000000</td>\n",
              "      <td>0.700000</td>\n",
              "      <td>1.000000</td>\n",
              "      <td>0.000000</td>\n",
              "      <td>0.000000</td>\n",
              "      <td>0.000000</td>\n",
              "      <td>0.000000</td>\n",
              "      <td>0.000000</td>\n",
              "      <td>0.000000</td>\n",
              "    </tr>\n",
              "    <tr>\n",
              "      <th>50%</th>\n",
              "      <td>45.000000</td>\n",
              "      <td>20.000000</td>\n",
              "      <td>64.000000</td>\n",
              "      <td>2.000000</td>\n",
              "      <td>1.500000</td>\n",
              "      <td>2.000000</td>\n",
              "      <td>0.000000</td>\n",
              "      <td>0.000000</td>\n",
              "      <td>0.000000</td>\n",
              "      <td>0.000000</td>\n",
              "      <td>1.000000</td>\n",
              "      <td>0.000000</td>\n",
              "    </tr>\n",
              "    <tr>\n",
              "      <th>75%</th>\n",
              "      <td>55.000000</td>\n",
              "      <td>30.000000</td>\n",
              "      <td>98.000000</td>\n",
              "      <td>3.000000</td>\n",
              "      <td>2.600000</td>\n",
              "      <td>3.000000</td>\n",
              "      <td>101.000000</td>\n",
              "      <td>0.000000</td>\n",
              "      <td>0.000000</td>\n",
              "      <td>0.000000</td>\n",
              "      <td>1.000000</td>\n",
              "      <td>1.000000</td>\n",
              "    </tr>\n",
              "    <tr>\n",
              "      <th>max</th>\n",
              "      <td>67.000000</td>\n",
              "      <td>43.000000</td>\n",
              "      <td>224.000000</td>\n",
              "      <td>4.000000</td>\n",
              "      <td>10.000000</td>\n",
              "      <td>3.000000</td>\n",
              "      <td>635.000000</td>\n",
              "      <td>1.000000</td>\n",
              "      <td>1.000000</td>\n",
              "      <td>1.000000</td>\n",
              "      <td>1.000000</td>\n",
              "      <td>1.000000</td>\n",
              "    </tr>\n",
              "  </tbody>\n",
              "</table>\n",
              "</div>"
            ],
            "text/plain": [
              "               Age   Experience  ...       Online   CreditCard\n",
              "count  4987.000000  4987.000000  ...  4987.000000  4987.000000\n",
              "mean     45.347704    20.114498  ...     0.596150     0.294566\n",
              "std      11.460838    11.464902  ...     0.490717     0.455893\n",
              "min      23.000000    -3.000000  ...     0.000000     0.000000\n",
              "25%      35.000000    10.000000  ...     0.000000     0.000000\n",
              "50%      45.000000    20.000000  ...     1.000000     0.000000\n",
              "75%      55.000000    30.000000  ...     1.000000     1.000000\n",
              "max      67.000000    43.000000  ...     1.000000     1.000000\n",
              "\n",
              "[8 rows x 12 columns]"
            ]
          },
          "metadata": {
            "tags": []
          },
          "execution_count": 405
        }
      ]
    },
    {
      "cell_type": "code",
      "metadata": {
        "id": "fPFdGXFK1asr"
      },
      "source": [
        "df_no = df[df['Personal Loan']==0]\n",
        "#personal loan no"
      ],
      "execution_count": 406,
      "outputs": []
    },
    {
      "cell_type": "code",
      "metadata": {
        "colab": {
          "base_uri": "https://localhost:8080/"
        },
        "id": "-mm6GL71abW-",
        "outputId": "7510d5a5-cbeb-4969-fe09-9c128c54a5db"
      },
      "source": [
        "df_no.shape"
      ],
      "execution_count": 407,
      "outputs": [
        {
          "output_type": "execute_result",
          "data": {
            "text/plain": [
              "(4507, 12)"
            ]
          },
          "metadata": {
            "tags": []
          },
          "execution_count": 407
        }
      ]
    },
    {
      "cell_type": "code",
      "metadata": {
        "id": "XLdMYyzb1auw"
      },
      "source": [
        "df_yes = df[df['Personal Loan']==1]\n",
        "#personal loan yes"
      ],
      "execution_count": 408,
      "outputs": []
    },
    {
      "cell_type": "code",
      "metadata": {
        "colab": {
          "base_uri": "https://localhost:8080/"
        },
        "id": "rB1cJreWad3b",
        "outputId": "a5144f32-f66e-4b0a-cf90-cfcf2a2bc82a"
      },
      "source": [
        "df_yes.shape"
      ],
      "execution_count": 409,
      "outputs": [
        {
          "output_type": "execute_result",
          "data": {
            "text/plain": [
              "(480, 12)"
            ]
          },
          "metadata": {
            "tags": []
          },
          "execution_count": 409
        }
      ]
    },
    {
      "cell_type": "code",
      "metadata": {
        "colab": {
          "base_uri": "https://localhost:8080/"
        },
        "id": "D6pHZ5K1_gqQ",
        "outputId": "698b6fd8-979a-4c35-e484-4b7d01561d9e"
      },
      "source": [
        "for i,j in zip(range(len(df.columns)),df.columns):\n",
        "  print(i,j)"
      ],
      "execution_count": 410,
      "outputs": [
        {
          "output_type": "stream",
          "text": [
            "0 Age\n",
            "1 Experience\n",
            "2 Income\n",
            "3 Family\n",
            "4 CCAvg\n",
            "5 Education\n",
            "6 Mortgage\n",
            "7 Personal Loan\n",
            "8 Securities Account\n",
            "9 CD Account\n",
            "10 Online\n",
            "11 CreditCard\n"
          ],
          "name": "stdout"
        }
      ]
    },
    {
      "cell_type": "code",
      "metadata": {
        "colab": {
          "base_uri": "https://localhost:8080/",
          "height": 565
        },
        "id": "r9L6j_Ih1ayo",
        "outputId": "3b03ed86-7eb8-44ff-dfc6-f4e005557827"
      },
      "source": [
        "# distribution of variables\n",
        "import matplotlib.pyplot as plt\n",
        "plt.figure(figsize=(12,12))\n",
        "for i,j in zip(range(len(df.columns)),df.columns):\n",
        "  plt.subplot(5,3,i+1)\n",
        "  plt.hist(df[j])"
      ],
      "execution_count": 411,
      "outputs": [
        {
          "output_type": "display_data",
          "data": {
            "image/png": "[encoded data removed]",
            "text/plain": [
              "<Figure size 864x864 with 12 Axes>"
            ]
          },
          "metadata": {
            "tags": [],
            "needs_background": "light"
          }
        }
      ]
    },
    {
      "cell_type": "code",
      "metadata": {
        "colab": {
          "base_uri": "https://localhost:8080/",
          "height": 565
        },
        "id": "SOM2Gx58F2Ee",
        "outputId": "4ca10ebb-db8c-4952-d9a2-a84df7dd1085"
      },
      "source": [
        "import matplotlib.pyplot as plt\n",
        "plt.figure(figsize=(12,12))\n",
        "for i,j in zip(range(len(df.columns)),df.columns):\n",
        "  plt.subplot(5,3,i+1)\n",
        "  plt.scatter(df[j],df['Personal Loan'],marker='+')"
      ],
      "execution_count": 412,
      "outputs": [
        {
          "output_type": "display_data",
          "data": {
            "image/png": "[encoded data removed]",
            "text/plain": [
              "<Figure size 864x864 with 12 Axes>"
            ]
          },
          "metadata": {
            "tags": [],
            "needs_background": "light"
          }
        }
      ]
    },
    {
      "cell_type": "code",
      "metadata": {
        "colab": {
          "base_uri": "https://localhost:8080/",
          "height": 565
        },
        "id": "LkA1SteS-Jll",
        "outputId": "f3d42c33-2dae-473c-bb8e-cd85ad67987c"
      },
      "source": [
        "plt.figure(figsize=(12,12))\n",
        "for i,j in zip(range(len(df.columns)),df.columns):\n",
        "  plt.subplot(5,3,i+1)\n",
        "  plt.boxplot(df[j])"
      ],
      "execution_count": 413,
      "outputs": [
        {
          "output_type": "display_data",
          "data": {
            "image/png": "[encoded data removed]",
            "text/plain": [
              "<Figure size 864x864 with 12 Axes>"
            ]
          },
          "metadata": {
            "tags": [],
            "needs_background": "light"
          }
        }
      ]
    },
    {
      "cell_type": "markdown",
      "metadata": {
        "id": "RyLpTjrmSWtr"
      },
      "source": [
        "#Machine learning Algorithm application on bank loan data set"
      ]
    },
    {
      "cell_type": "code",
      "metadata": {
        "colab": {
          "base_uri": "https://localhost:8080/",
          "height": 804
        },
        "id": "H5kuX4FiRLvR",
        "outputId": "e91739a6-3e7d-4da4-fd10-a0792b45a76f"
      },
      "source": [
        "cm = df.corr()\n",
        "import seaborn as sns\n",
        "plt.figure(figsize=(12,12))\n",
        "sns.heatmap(cm,cmap='Wistia_r',annot=True)"
      ],
      "execution_count": 414,
      "outputs": [
        {
          "output_type": "execute_result",
          "data": {
            "text/plain": [
              "<matplotlib.axes._subplots.AxesSubplot at 0x7f7bcfaf94d0>"
            ]
          },
          "metadata": {
            "tags": []
          },
          "execution_count": 414
        },
        {
          "output_type": "display_data",
          "data": {
            "image/png": "[encoded data removed]",
            "text/plain": [
              "<Figure size 864x864 with 2 Axes>"
            ]
          },
          "metadata": {
            "tags": [],
            "needs_background": "light"
          }
        }
      ]
    },
    {
      "cell_type": "code",
      "metadata": {
        "id": "OuZzJGEwV48O"
      },
      "source": [
        "import statsmodels.api as sm\n",
        "y = df['Personal Loan']\n",
        "x = df[['Age', 'Experience', 'Income', 'Family', 'CCAvg', 'Education',\n",
        "       'Mortgage', 'Securities Account', 'CD Account',\n",
        "       'Online', 'CreditCard']]"
      ],
      "execution_count": 415,
      "outputs": []
    },
    {
      "cell_type": "code",
      "metadata": {
        "colab": {
          "base_uri": "https://localhost:8080/",
          "height": 265
        },
        "id": "eKkjlwg_NpnS",
        "outputId": "56ee9603-6e17-42f0-c14d-57c896b3ea22"
      },
      "source": [
        "from sklearn.feature_selection import mutual_info_classif\n",
        "imp = mutual_info_classif(x,y)\n",
        "fea_imp = pd.Series(imp,x.columns)\n",
        "fea_imp.plot(kind='barh')\n",
        "plt.show()"
      ],
      "execution_count": 416,
      "outputs": [
        {
          "output_type": "display_data",
          "data": {
            "image/png": "[encoded data removed]",
            "text/plain": [
              "<Figure size 432x288 with 1 Axes>"
            ]
          },
          "metadata": {
            "tags": [],
            "needs_background": "light"
          }
        }
      ]
    },
    {
      "cell_type": "code",
      "metadata": {
        "id": "N-_GExq6Op1g"
      },
      "source": [
        "x = df[['Income', 'CCAvg', 'Education','CD Account','Mortgage']]"
      ],
      "execution_count": 417,
      "outputs": []
    },
    {
      "cell_type": "code",
      "metadata": {
        "id": "d49ZSPVnSG-t"
      },
      "source": [
        "from sklearn.model_selection import train_test_split\n",
        "x_train,x_test,y_train,y_test = train_test_split(x,y,test_size=0.2,random_state=11)"
      ],
      "execution_count": 418,
      "outputs": []
    },
    {
      "cell_type": "code",
      "metadata": {
        "colab": {
          "base_uri": "https://localhost:8080/"
        },
        "id": "bpTcLAT0SZbs",
        "outputId": "5ee4cf65-ac60-49c8-df85-574fc2dd7371"
      },
      "source": [
        "len(x_train)"
      ],
      "execution_count": 419,
      "outputs": [
        {
          "output_type": "execute_result",
          "data": {
            "text/plain": [
              "3989"
            ]
          },
          "metadata": {
            "tags": []
          },
          "execution_count": 419
        }
      ]
    },
    {
      "cell_type": "code",
      "metadata": {
        "colab": {
          "base_uri": "https://localhost:8080/"
        },
        "id": "NAg51vF9Sd_O",
        "outputId": "3c6f7765-15d2-4d9f-dfd1-54b742abda9c"
      },
      "source": [
        "len(x_test)"
      ],
      "execution_count": 420,
      "outputs": [
        {
          "output_type": "execute_result",
          "data": {
            "text/plain": [
              "998"
            ]
          },
          "metadata": {
            "tags": []
          },
          "execution_count": 420
        }
      ]
    },
    {
      "cell_type": "code",
      "metadata": {
        "colab": {
          "base_uri": "https://localhost:8080/"
        },
        "id": "wMwflUAQRLyX",
        "outputId": "0fdcd19a-2b9d-415f-8f3a-23c5cf3dcfca"
      },
      "source": [
        "from sklearn.linear_model import LogisticRegression\n",
        "mdl = LogisticRegression()\n",
        "mdl.fit(x_train,y_train)"
      ],
      "execution_count": 421,
      "outputs": [
        {
          "output_type": "execute_result",
          "data": {
            "text/plain": [
              "LogisticRegression(C=1.0, class_weight=None, dual=False, fit_intercept=True,\n",
              "                   intercept_scaling=1, l1_ratio=None, max_iter=100,\n",
              "                   multi_class='auto', n_jobs=None, penalty='l2',\n",
              "                   random_state=None, solver='lbfgs', tol=0.0001, verbose=0,\n",
              "                   warm_start=False)"
            ]
          },
          "metadata": {
            "tags": []
          },
          "execution_count": 421
        }
      ]
    },
    {
      "cell_type": "code",
      "metadata": {
        "colab": {
          "base_uri": "https://localhost:8080/"
        },
        "id": "JbkTHO_xRL0r",
        "outputId": "ae551c6b-24b1-4f49-876b-4ce981b21b51"
      },
      "source": [
        "mdl.score(x_train,y_train)"
      ],
      "execution_count": 422,
      "outputs": [
        {
          "output_type": "execute_result",
          "data": {
            "text/plain": [
              "0.9448483329155176"
            ]
          },
          "metadata": {
            "tags": []
          },
          "execution_count": 422
        }
      ]
    },
    {
      "cell_type": "code",
      "metadata": {
        "colab": {
          "base_uri": "https://localhost:8080/"
        },
        "id": "QjN2w9OjStvv",
        "outputId": "e8869972-1b12-4fd9-cae5-e66e05ceb967"
      },
      "source": [
        "mdl.score(x_test,y_test)"
      ],
      "execution_count": 423,
      "outputs": [
        {
          "output_type": "execute_result",
          "data": {
            "text/plain": [
              "0.9498997995991983"
            ]
          },
          "metadata": {
            "tags": []
          },
          "execution_count": 423
        }
      ]
    },
    {
      "cell_type": "code",
      "metadata": {
        "id": "N_aVkNRYTRit"
      },
      "source": [
        "y_pred = mdl.predict(x_test)"
      ],
      "execution_count": 424,
      "outputs": []
    },
    {
      "cell_type": "code",
      "metadata": {
        "colab": {
          "base_uri": "https://localhost:8080/"
        },
        "id": "BVfs8JR-lJz5",
        "outputId": "57f3c7a0-8461-48f6-cc89-5441597a5837"
      },
      "source": [
        "mdl.get_params()"
      ],
      "execution_count": 425,
      "outputs": [
        {
          "output_type": "execute_result",
          "data": {
            "text/plain": [
              "{'C': 1.0,\n",
              " 'class_weight': None,\n",
              " 'dual': False,\n",
              " 'fit_intercept': True,\n",
              " 'intercept_scaling': 1,\n",
              " 'l1_ratio': None,\n",
              " 'max_iter': 100,\n",
              " 'multi_class': 'auto',\n",
              " 'n_jobs': None,\n",
              " 'penalty': 'l2',\n",
              " 'random_state': None,\n",
              " 'solver': 'lbfgs',\n",
              " 'tol': 0.0001,\n",
              " 'verbose': 0,\n",
              " 'warm_start': False}"
            ]
          },
          "metadata": {
            "tags": []
          },
          "execution_count": 425
        }
      ]
    },
    {
      "cell_type": "code",
      "metadata": {
        "colab": {
          "base_uri": "https://localhost:8080/",
          "height": 282
        },
        "id": "CAPE9tLgTJ13",
        "outputId": "f4d665a9-4350-48ca-b1f6-adede7519971"
      },
      "source": [
        "from sklearn.metrics import confusion_matrix\n",
        "import seaborn as sns\n",
        "cm = confusion_matrix(y_test,y_pred) \n",
        "sns.heatmap(cm,annot=True,cbar=True)"
      ],
      "execution_count": 426,
      "outputs": [
        {
          "output_type": "execute_result",
          "data": {
            "text/plain": [
              "<matplotlib.axes._subplots.AxesSubplot at 0x7f7bd0120b10>"
            ]
          },
          "metadata": {
            "tags": []
          },
          "execution_count": 426
        },
        {
          "output_type": "display_data",
          "data": {
            "image/png": "[encoded data removed]",
            "text/plain": [
              "<Figure size 432x288 with 2 Axes>"
            ]
          },
          "metadata": {
            "tags": [],
            "needs_background": "light"
          }
        }
      ]
    },
    {
      "cell_type": "code",
      "metadata": {
        "colab": {
          "base_uri": "https://localhost:8080/"
        },
        "id": "GhT4WNZcXuT4",
        "outputId": "18a5fe21-b102-4436-887d-b5461d326074"
      },
      "source": [
        "mdl.classes_"
      ],
      "execution_count": 427,
      "outputs": [
        {
          "output_type": "execute_result",
          "data": {
            "text/plain": [
              "array([0, 1])"
            ]
          },
          "metadata": {
            "tags": []
          },
          "execution_count": 427
        }
      ]
    },
    {
      "cell_type": "code",
      "metadata": {
        "colab": {
          "base_uri": "https://localhost:8080/"
        },
        "id": "59IxpzMIW1TV",
        "outputId": "da4b85cf-45b0-43b3-826b-f6962d1b21a9"
      },
      "source": [
        "from sklearn.metrics import classification_report\n",
        "print(classification_report(y_test, y_pred, target_names=['class0','class1']))\n",
        "#Precision:- Accuracy of positive predictions.\n",
        "#Recall:- Fraction of positives that were correctly identified.\n",
        "#Support is the number of actual occurrences of the class in the specified dataset."
      ],
      "execution_count": 428,
      "outputs": [
        {
          "output_type": "stream",
          "text": [
            "              precision    recall  f1-score   support\n",
            "\n",
            "      class0       0.96      0.99      0.97       903\n",
            "      class1       0.82      0.61      0.70        95\n",
            "\n",
            "    accuracy                           0.95       998\n",
            "   macro avg       0.89      0.80      0.84       998\n",
            "weighted avg       0.95      0.95      0.95       998\n",
            "\n"
          ],
          "name": "stdout"
        }
      ]
    },
    {
      "cell_type": "markdown",
      "metadata": {
        "id": "SyUBFc4Hb0tl"
      },
      "source": [
        "# logistic weight"
      ]
    },
    {
      "cell_type": "code",
      "metadata": {
        "colab": {
          "base_uri": "https://localhost:8080/"
        },
        "id": "FRJyfOfrb23J",
        "outputId": "49ee6df9-7b7a-4d60-cd54-df6cce5d9078"
      },
      "source": [
        "#importing and training the model\n",
        "from sklearn.linear_model import LogisticRegression\n",
        "lr = LogisticRegression(solver='newton-cg', class_weight='balanced')\n",
        "lr.fit(x_train, y_train)\n",
        "\n",
        "# Predicting on the test data\n",
        "pred_test = lr.predict(x_test)\n",
        "\n",
        "#Calculating and printing the f1 score \n",
        "from sklearn.metrics import f1_score, accuracy_score, confusion_matrix\n",
        "f1_test = f1_score(y_test, pred_test)\n",
        "print('The f1 score for the testing data:', f1_test)\n",
        "\n",
        "#Ploting the confusion matrix\n",
        "print(confusion_matrix(y_test, pred_test))\n",
        "print(classification_report(y_test,pred_test, target_names=['class0','class1']))"
      ],
      "execution_count": 429,
      "outputs": [
        {
          "output_type": "stream",
          "text": [
            "The f1 score for the testing data: 0.6006825938566552\n",
            "[[793 110]\n",
            " [  7  88]]\n",
            "              precision    recall  f1-score   support\n",
            "\n",
            "      class0       0.99      0.88      0.93       903\n",
            "      class1       0.44      0.93      0.60        95\n",
            "\n",
            "    accuracy                           0.88       998\n",
            "   macro avg       0.72      0.90      0.77       998\n",
            "weighted avg       0.94      0.88      0.90       998\n",
            "\n"
          ],
          "name": "stdout"
        }
      ]
    },
    {
      "cell_type": "markdown",
      "metadata": {
        "id": "N9UbtbkyUkKs"
      },
      "source": [
        "# stratified"
      ]
    },
    {
      "cell_type": "code",
      "metadata": {
        "colab": {
          "base_uri": "https://localhost:8080/"
        },
        "id": "CsErb4lvUm5d",
        "outputId": "b551aad1-5ce7-44b3-f45a-0ef91f745f0a"
      },
      "source": [
        "#The folds are made by preserving the percentage of samples for each class.\n",
        "from sklearn.model_selection import StratifiedKFold\n",
        "skf = StratifiedKFold(n_splits=2)\n",
        "skf.get_n_splits(x, y)"
      ],
      "execution_count": 430,
      "outputs": [
        {
          "output_type": "execute_result",
          "data": {
            "text/plain": [
              "2"
            ]
          },
          "metadata": {
            "tags": []
          },
          "execution_count": 430
        }
      ]
    },
    {
      "cell_type": "code",
      "metadata": {
        "colab": {
          "base_uri": "https://localhost:8080/"
        },
        "id": "Ymq5fNA0Uvv5",
        "outputId": "24238bab-5f39-4e8a-8aed-de41e1b6a39c"
      },
      "source": [
        "for train_index, test_index in skf.split(x, y):\n",
        "  x_train, x_test = x.iloc[train_index], x.iloc[test_index]\n",
        "  y_train, y_test = y.iloc[train_index], y.iloc[test_index]\n",
        "  mdl = LogisticRegression()\n",
        "  mdl.fit(x_train,y_train)\n",
        "  y_pred = mdl.predict(x_test)\n",
        "  print(mdl.score(x_train,y_train))\n",
        "  print(metrics.accuracy_score(y_test, y_pred))\n",
        "  cm = confusion_matrix(y_test,y_pred)\n",
        "  print(cm)\n",
        "  print(classification_report(y_test, y_pred, target_names=['class0','class1']))"
      ],
      "execution_count": 431,
      "outputs": [
        {
          "output_type": "stream",
          "text": [
            "0.9478539911752908\n",
            "0.9474739374498797\n",
            "[[2220   34]\n",
            " [  97  143]]\n",
            "              precision    recall  f1-score   support\n",
            "\n",
            "      class0       0.96      0.98      0.97      2254\n",
            "      class1       0.81      0.60      0.69       240\n",
            "\n",
            "    accuracy                           0.95      2494\n",
            "   macro avg       0.88      0.79      0.83      2494\n",
            "weighted avg       0.94      0.95      0.94      2494\n",
            "\n",
            "0.9474739374498797\n",
            "0.9450461291616526\n",
            "[[2219   34]\n",
            " [ 103  137]]\n",
            "              precision    recall  f1-score   support\n",
            "\n",
            "      class0       0.96      0.98      0.97      2253\n",
            "      class1       0.80      0.57      0.67       240\n",
            "\n",
            "    accuracy                           0.95      2493\n",
            "   macro avg       0.88      0.78      0.82      2493\n",
            "weighted avg       0.94      0.95      0.94      2493\n",
            "\n"
          ],
          "name": "stdout"
        }
      ]
    },
    {
      "cell_type": "markdown",
      "metadata": {
        "id": "L9Vb3dRYVQzo"
      },
      "source": [
        "# Random Forest"
      ]
    },
    {
      "cell_type": "code",
      "metadata": {
        "id": "01lwx8yiVTR9"
      },
      "source": [
        "y = df['Personal Loan']\n",
        "x = df[['Age', 'Experience', 'Income', 'Family', 'CCAvg', 'Education',\n",
        "       'Mortgage', 'Securities Account', 'CD Account',\n",
        "       'Online', 'CreditCard']]"
      ],
      "execution_count": 432,
      "outputs": []
    },
    {
      "cell_type": "code",
      "metadata": {
        "id": "isO1oHi1VVYm"
      },
      "source": [
        "from sklearn.model_selection import train_test_split\n",
        "x_train,x_test,y_train,y_test = train_test_split(x,y,test_size=0.2,random_state=101)"
      ],
      "execution_count": 433,
      "outputs": []
    },
    {
      "cell_type": "code",
      "metadata": {
        "colab": {
          "base_uri": "https://localhost:8080/"
        },
        "id": "61u_Sa31cxoX",
        "outputId": "1299d457-4eff-450d-f34e-cc146833e3fb"
      },
      "source": [
        "from sklearn.ensemble import RandomForestClassifier\n",
        "rf_mdl = RandomForestClassifier(n_estimators=1000,oob_score=False)\n",
        "rf_mdl.fit(x_train,y_train)\n",
        "#Random Forest does not require split sampling method to assess accuracy of the model. \n",
        "#It performs internal validation as 2-3rd of available training data is used to grow \n",
        "#each tree and the remaining one-third portion of training data always used to calculate out-of bag error to assess model performance."
      ],
      "execution_count": 434,
      "outputs": [
        {
          "output_type": "execute_result",
          "data": {
            "text/plain": [
              "RandomForestClassifier(bootstrap=True, ccp_alpha=0.0, class_weight=None,\n",
              "                       criterion='gini', max_depth=None, max_features='auto',\n",
              "                       max_leaf_nodes=None, max_samples=None,\n",
              "                       min_impurity_decrease=0.0, min_impurity_split=None,\n",
              "                       min_samples_leaf=1, min_samples_split=2,\n",
              "                       min_weight_fraction_leaf=0.0, n_estimators=1000,\n",
              "                       n_jobs=None, oob_score=False, random_state=None,\n",
              "                       verbose=0, warm_start=False)"
            ]
          },
          "metadata": {
            "tags": []
          },
          "execution_count": 434
        }
      ]
    },
    {
      "cell_type": "code",
      "metadata": {
        "id": "RJnGoIzyWAUh"
      },
      "source": [
        "y_pred = rf_mdl.predict(x_test)"
      ],
      "execution_count": 435,
      "outputs": []
    },
    {
      "cell_type": "code",
      "metadata": {
        "colab": {
          "base_uri": "https://localhost:8080/"
        },
        "id": "Sq2sj2fhZErF",
        "outputId": "7463ae12-7ae7-4456-8aef-c584b7f9c21b"
      },
      "source": [
        "from sklearn import metrics\n",
        "metrics.accuracy_score(y_test, y_pred)"
      ],
      "execution_count": 436,
      "outputs": [
        {
          "output_type": "execute_result",
          "data": {
            "text/plain": [
              "0.9859719438877755"
            ]
          },
          "metadata": {
            "tags": []
          },
          "execution_count": 436
        }
      ]
    },
    {
      "cell_type": "code",
      "metadata": {
        "colab": {
          "base_uri": "https://localhost:8080/",
          "height": 282
        },
        "id": "NlPrFpdMWoLK",
        "outputId": "e27b66f9-8ac2-416f-f950-f7f0a3674554"
      },
      "source": [
        "from sklearn.metrics import confusion_matrix\n",
        "import seaborn as sns\n",
        "cm = confusion_matrix(y_test,y_pred) \n",
        "sns.heatmap(cm,annot=True,cbar=True)"
      ],
      "execution_count": 437,
      "outputs": [
        {
          "output_type": "execute_result",
          "data": {
            "text/plain": [
              "<matplotlib.axes._subplots.AxesSubplot at 0x7f7bd0168250>"
            ]
          },
          "metadata": {
            "tags": []
          },
          "execution_count": 437
        },
        {
          "output_type": "display_data",
          "data": {
            "image/png": "[encoded data removed]",
            "text/plain": [
              "<Figure size 432x288 with 2 Axes>"
            ]
          },
          "metadata": {
            "tags": [],
            "needs_background": "light"
          }
        }
      ]
    },
    {
      "cell_type": "code",
      "metadata": {
        "colab": {
          "base_uri": "https://localhost:8080/"
        },
        "id": "Jp6DjzU9YcOi",
        "outputId": "ce5b9e55-9a65-48a5-a12d-16add739465d"
      },
      "source": [
        "rf_mdl.classes_"
      ],
      "execution_count": 438,
      "outputs": [
        {
          "output_type": "execute_result",
          "data": {
            "text/plain": [
              "array([0, 1])"
            ]
          },
          "metadata": {
            "tags": []
          },
          "execution_count": 438
        }
      ]
    },
    {
      "cell_type": "code",
      "metadata": {
        "colab": {
          "base_uri": "https://localhost:8080/"
        },
        "id": "DPT_mbdQWwjq",
        "outputId": "37c60e68-5e7f-4d53-d590-b48bc13ba2e6"
      },
      "source": [
        "from sklearn.metrics import classification_report\n",
        "print(classification_report(y_test, y_pred, target_names=['class0','class1']))"
      ],
      "execution_count": 439,
      "outputs": [
        {
          "output_type": "stream",
          "text": [
            "              precision    recall  f1-score   support\n",
            "\n",
            "      class0       0.99      1.00      0.99       900\n",
            "      class1       0.99      0.87      0.92        98\n",
            "\n",
            "    accuracy                           0.99       998\n",
            "   macro avg       0.99      0.93      0.96       998\n",
            "weighted avg       0.99      0.99      0.99       998\n",
            "\n"
          ],
          "name": "stdout"
        }
      ]
    },
    {
      "cell_type": "code",
      "metadata": {
        "colab": {
          "base_uri": "https://localhost:8080/"
        },
        "id": "4Qndop__cxu0",
        "outputId": "39eb840d-7e9f-4677-ea7a-727e72467163"
      },
      "source": [
        "feat=[]\n",
        "impt=[]\n",
        "for feature,imp in zip(x,rf_mdl.feature_importances_):\n",
        "  print(feature,imp)\n",
        "  feat.append(feature)\n",
        "  impt.append(imp)\n",
        "\n",
        "  #here Income=0.34, CCAvg=0.15, Education= 0.20, Family=0.11"
      ],
      "execution_count": 440,
      "outputs": [
        {
          "output_type": "stream",
          "text": [
            "Age 0.03676373989054684\n",
            "Experience 0.03605062479927463\n",
            "Income 0.3461147478414862\n",
            "Family 0.11823276605610189\n",
            "CCAvg 0.1593861499323911\n",
            "Education 0.19527702541119865\n",
            "Mortgage 0.03433535236599131\n",
            "Securities Account 0.004726561702455577\n",
            "CD Account 0.053523663298963076\n",
            "Online 0.00709772734984215\n",
            "CreditCard 0.008491641351748555\n"
          ],
          "name": "stdout"
        }
      ]
    },
    {
      "cell_type": "code",
      "metadata": {
        "colab": {
          "base_uri": "https://localhost:8080/",
          "height": 282
        },
        "id": "DCIsnH-KVdIF",
        "outputId": "e8c0a335-0e8c-4efb-bb5f-e8ec5860e4fc"
      },
      "source": [
        "plt.barh(feat,impt)"
      ],
      "execution_count": 441,
      "outputs": [
        {
          "output_type": "execute_result",
          "data": {
            "text/plain": [
              "<BarContainer object of 11 artists>"
            ]
          },
          "metadata": {
            "tags": []
          },
          "execution_count": 441
        },
        {
          "output_type": "display_data",
          "data": {
            "image/png": "[encoded data removed]",
            "text/plain": [
              "<Figure size 432x288 with 1 Axes>"
            ]
          },
          "metadata": {
            "tags": [],
            "needs_background": "light"
          }
        }
      ]
    },
    {
      "cell_type": "code",
      "metadata": {
        "colab": {
          "base_uri": "https://localhost:8080/"
        },
        "id": "rr5KKKOxmTHe",
        "outputId": "57acdf87-9e8a-4a38-8399-b8bd3c0ad024"
      },
      "source": [
        "df.columns"
      ],
      "execution_count": 442,
      "outputs": [
        {
          "output_type": "execute_result",
          "data": {
            "text/plain": [
              "Index(['Age', 'Experience', 'Income', 'Family', 'CCAvg', 'Education',\n",
              "       'Mortgage', 'Personal Loan', 'Securities Account', 'CD Account',\n",
              "       'Online', 'CreditCard'],\n",
              "      dtype='object')"
            ]
          },
          "metadata": {
            "tags": []
          },
          "execution_count": 442
        }
      ]
    },
    {
      "cell_type": "code",
      "metadata": {
        "id": "m6pre8y9mIjF"
      },
      "source": [
        "y = df['Personal Loan']\n",
        "x=df[['Income', 'Family', 'CCAvg', 'Education']]"
      ],
      "execution_count": 443,
      "outputs": []
    },
    {
      "cell_type": "code",
      "metadata": {
        "id": "pP59KZzDmflP"
      },
      "source": [
        "from sklearn.model_selection import train_test_split\n",
        "x_train,x_test,y_train,y_test = train_test_split(x,y,test_size=0.2,random_state=0)"
      ],
      "execution_count": 444,
      "outputs": []
    },
    {
      "cell_type": "code",
      "metadata": {
        "colab": {
          "base_uri": "https://localhost:8080/"
        },
        "id": "bykDbwUYmfn_",
        "outputId": "71dbfd01-ad76-4c77-f3c6-c3185832438a"
      },
      "source": [
        "from sklearn.ensemble import RandomForestClassifier\n",
        "rf_mdl = RandomForestClassifier(n_estimators=1000,oob_score=False)\n",
        "rf_mdl.fit(x_train,y_train)\n",
        "#Random Forest does not require split sampling method to assess accuracy of the model. \n",
        "#It performs internal validation as 2-3rd of available training data is used to grow \n",
        "#each tree and the remaining one-third portion of training data always used to calculate out-of bag error to assess model performance."
      ],
      "execution_count": 445,
      "outputs": [
        {
          "output_type": "execute_result",
          "data": {
            "text/plain": [
              "RandomForestClassifier(bootstrap=True, ccp_alpha=0.0, class_weight=None,\n",
              "                       criterion='gini', max_depth=None, max_features='auto',\n",
              "                       max_leaf_nodes=None, max_samples=None,\n",
              "                       min_impurity_decrease=0.0, min_impurity_split=None,\n",
              "                       min_samples_leaf=1, min_samples_split=2,\n",
              "                       min_weight_fraction_leaf=0.0, n_estimators=1000,\n",
              "                       n_jobs=None, oob_score=False, random_state=None,\n",
              "                       verbose=0, warm_start=False)"
            ]
          },
          "metadata": {
            "tags": []
          },
          "execution_count": 445
        }
      ]
    },
    {
      "cell_type": "code",
      "metadata": {
        "id": "yBcMyyNompA6"
      },
      "source": [
        "y_pred = rf_mdl.predict(x_test)"
      ],
      "execution_count": 446,
      "outputs": []
    },
    {
      "cell_type": "code",
      "metadata": {
        "colab": {
          "base_uri": "https://localhost:8080/"
        },
        "id": "hbVUT06fmpDm",
        "outputId": "51ecf0ac-712f-458c-dc89-9798848ffdea"
      },
      "source": [
        "from sklearn import metrics\n",
        "metrics.accuracy_score(y_test, y_pred)"
      ],
      "execution_count": 447,
      "outputs": [
        {
          "output_type": "execute_result",
          "data": {
            "text/plain": [
              "0.9869739478957916"
            ]
          },
          "metadata": {
            "tags": []
          },
          "execution_count": 447
        }
      ]
    },
    {
      "cell_type": "code",
      "metadata": {
        "colab": {
          "base_uri": "https://localhost:8080/",
          "height": 282
        },
        "id": "ZI8kevYampHM",
        "outputId": "18878386-e942-4855-8d7c-1f7bca582b07"
      },
      "source": [
        "from sklearn.metrics import confusion_matrix\n",
        "import seaborn as sns\n",
        "cm = confusion_matrix(y_test,y_pred) \n",
        "sns.heatmap(cm,annot=True,cbar=True)"
      ],
      "execution_count": 448,
      "outputs": [
        {
          "output_type": "execute_result",
          "data": {
            "text/plain": [
              "<matplotlib.axes._subplots.AxesSubplot at 0x7f7bd0008090>"
            ]
          },
          "metadata": {
            "tags": []
          },
          "execution_count": 448
        },
        {
          "output_type": "display_data",
          "data": {
            "image/png": "[encoded data removed]",
            "text/plain": [
              "<Figure size 432x288 with 2 Axes>"
            ]
          },
          "metadata": {
            "tags": [],
            "needs_background": "light"
          }
        }
      ]
    },
    {
      "cell_type": "code",
      "metadata": {
        "colab": {
          "base_uri": "https://localhost:8080/"
        },
        "id": "BfSU3ylym7XY",
        "outputId": "ac6a06f1-f034-47bb-bde2-2d83173be462"
      },
      "source": [
        "from sklearn.metrics import classification_report\n",
        "print(classification_report(y_test, y_pred, target_names=['class0','class1']))"
      ],
      "execution_count": 449,
      "outputs": [
        {
          "output_type": "stream",
          "text": [
            "              precision    recall  f1-score   support\n",
            "\n",
            "      class0       0.99      1.00      0.99       914\n",
            "      class1       0.95      0.89      0.92        84\n",
            "\n",
            "    accuracy                           0.99       998\n",
            "   macro avg       0.97      0.94      0.96       998\n",
            "weighted avg       0.99      0.99      0.99       998\n",
            "\n"
          ],
          "name": "stdout"
        }
      ]
    },
    {
      "cell_type": "code",
      "metadata": {
        "id": "uDqodH7YvZVr"
      },
      "source": [
        "from sklearn import *"
      ],
      "execution_count": 450,
      "outputs": []
    },
    {
      "cell_type": "code",
      "metadata": {
        "colab": {
          "base_uri": "https://localhost:8080/"
        },
        "id": "1VIoJoPTcxxu",
        "outputId": "9daaa95e-e483-4964-a965-462abe7a7b04"
      },
      "source": [
        "tree_mdl = tree.DecisionTreeClassifier()\n",
        "tree_mdl.fit(x_train,y_train)"
      ],
      "execution_count": 451,
      "outputs": [
        {
          "output_type": "execute_result",
          "data": {
            "text/plain": [
              "DecisionTreeClassifier(ccp_alpha=0.0, class_weight=None, criterion='gini',\n",
              "                       max_depth=None, max_features=None, max_leaf_nodes=None,\n",
              "                       min_impurity_decrease=0.0, min_impurity_split=None,\n",
              "                       min_samples_leaf=1, min_samples_split=2,\n",
              "                       min_weight_fraction_leaf=0.0, presort='deprecated',\n",
              "                       random_state=None, splitter='best')"
            ]
          },
          "metadata": {
            "tags": []
          },
          "execution_count": 451
        }
      ]
    },
    {
      "cell_type": "code",
      "metadata": {
        "id": "Wdwao-wygSql",
        "colab": {
          "base_uri": "https://localhost:8080/",
          "height": 1000
        },
        "outputId": "949c7f87-c427-40d4-de86-57ca8074d8ea"
      },
      "source": [
        "import graphviz\n",
        "# DOT data\n",
        "dot_data = tree.export_graphviz(tree_mdl, out_file=None, \n",
        "                                feature_names= ['Income', 'CCAvg', 'Education','Family'],  \n",
        "                                class_names='Personal Loan',\n",
        "                                filled=True)\n",
        "# here feature name we put that will shown on tree and also same with class names\n",
        "# Draw graph\n",
        "graph = graphviz.Source(dot_data, format=\"png\") \n",
        "graph\n",
        "\n",
        "# here there are total 889 samples in which 549 are not survived i.e zero and 340 are survived i.e. 1\n",
        "#549 represent not survived and 340 represent survived\n",
        "# after that it split into female==True==0 and male==false==1"
      ],
      "execution_count": 452,
      "outputs": [
        {
          "output_type": "execute_result",
          "data": {
            "text/plain": [
              "<graphviz.files.Source at 0x7f7bd05efa50>"
            ],
            "image/svg+xml": "<?xml version=\"1.0\" encoding=\"UTF-8\" standalone=\"no\"?>\n<!DOCTYPE svg PUBLIC \"-//W3C//DTD SVG 1.1//EN\"\n \"http://www.w3.org/Graphics/SVG/1.1/DTD/svg11.dtd\">\n<!-- Generated by graphviz version 2.40.1 (20161225.0304)\n -->\n<!-- Title: Tree Pages: 1 -->\n<svg width=\"3681pt\" height=\"1623pt\"\n viewBox=\"0.00 0.00 3681.00 1623.00\" xmlns=\"http://www.w3.org/2000/svg\" xmlns:xlink=\"http://www.w3.org/1999/xlink\">\n<g id=\"graph0\" class=\"graph\" transform=\"scale(1 1) rotate(0) translate(4 1619)\">\n<title>Tree</title>\n<polygon fill=\"#ffffff\" stroke=\"transparent\" points=\"-4,4 -4,-1619 3677,-1619 3677,4 -4,4\"/>\n<!-- 0 -->\n<g id=\"node1\" class=\"node\">\n<title>0</title>\n<polygon fill=\"#e88f4f\" stroke=\"#000000\" points=\"1626.5,-1615 1494.5,-1615 1494.5,-1532 1626.5,-1532 1626.5,-1615\"/>\n<text text-anchor=\"middle\" x=\"1560.5\" y=\"-1599.8\" font-family=\"Times,serif\" font-size=\"14.00\" fill=\"#000000\">Income &lt;= 98.5</text>\n<text text-anchor=\"middle\" x=\"1560.5\" y=\"-1584.8\" font-family=\"Times,serif\" font-size=\"14.00\" fill=\"#000000\">gini = 0.179</text>\n<text text-anchor=\"middle\" x=\"1560.5\" y=\"-1569.8\" font-family=\"Times,serif\" font-size=\"14.00\" fill=\"#000000\">samples = 3989</text>\n<text text-anchor=\"middle\" x=\"1560.5\" y=\"-1554.8\" font-family=\"Times,serif\" font-size=\"14.00\" fill=\"#000000\">value = [3593, 396]</text>\n<text text-anchor=\"middle\" x=\"1560.5\" y=\"-1539.8\" font-family=\"Times,serif\" font-size=\"14.00\" fill=\"#000000\">class = P</text>\n</g>\n<!-- 1 -->\n<g id=\"node2\" class=\"node\">\n<title>1</title>\n<polygon fill=\"#e5823b\" stroke=\"#000000\" points=\"1276,-1496 1151,-1496 1151,-1413 1276,-1413 1276,-1496\"/>\n<text text-anchor=\"middle\" x=\"1213.5\" y=\"-1480.8\" font-family=\"Times,serif\" font-size=\"14.00\" fill=\"#000000\">Education &lt;= 2.95</text>\n<text text-anchor=\"middle\" x=\"1213.5\" y=\"-1465.8\" font-family=\"Times,serif\" font-size=\"14.00\" fill=\"#000000\">gini = 0.017</text>\n<text text-anchor=\"middle\" x=\"1213.5\" y=\"-1450.8\" font-family=\"Times,serif\" font-size=\"14.00\" fill=\"#000000\">samples = 2997</text>\n<text text-anchor=\"middle\" x=\"1213.5\" y=\"-1435.8\" font-family=\"Times,serif\" font-size=\"14.00\" fill=\"#000000\">value = [2972, 25]</text>\n<text text-anchor=\"middle\" x=\"1213.5\" y=\"-1420.8\" font-family=\"Times,serif\" font-size=\"14.00\" fill=\"#000000\">class = P</text>\n</g>\n<!-- 0&#45;&gt;1 -->\n<g id=\"edge1\" class=\"edge\">\n<title>0&#45;&gt;1</title>\n<path fill=\"none\" stroke=\"#000000\" d=\"M1494.4152,-1550.8369C1434.7796,-1530.3855 1347.2304,-1500.3614 1285.7598,-1479.2808\"/>\n<polygon fill=\"#000000\" stroke=\"#000000\" points=\"1286.721,-1475.9103 1276.1264,-1475.9771 1284.4502,-1482.5318 1286.721,-1475.9103\"/>\n<text text-anchor=\"middle\" x=\"1287.1135\" y=\"-1494.7333\" font-family=\"Times,serif\" font-size=\"14.00\" fill=\"#000000\">True</text>\n</g>\n<!-- 46 -->\n<g id=\"node47\" class=\"node\">\n<title>46</title>\n<polygon fill=\"#f5ccaf\" stroke=\"#000000\" points=\"1872,-1496 1747,-1496 1747,-1413 1872,-1413 1872,-1496\"/>\n<text text-anchor=\"middle\" x=\"1809.5\" y=\"-1480.8\" font-family=\"Times,serif\" font-size=\"14.00\" fill=\"#000000\">Family &lt;= 1.5</text>\n<text text-anchor=\"middle\" x=\"1809.5\" y=\"-1465.8\" font-family=\"Times,serif\" font-size=\"14.00\" fill=\"#000000\">gini = 0.468</text>\n<text text-anchor=\"middle\" x=\"1809.5\" y=\"-1450.8\" font-family=\"Times,serif\" font-size=\"14.00\" fill=\"#000000\">samples = 992</text>\n<text text-anchor=\"middle\" x=\"1809.5\" y=\"-1435.8\" font-family=\"Times,serif\" font-size=\"14.00\" fill=\"#000000\">value = [621, 371]</text>\n<text text-anchor=\"middle\" x=\"1809.5\" y=\"-1420.8\" font-family=\"Times,serif\" font-size=\"14.00\" fill=\"#000000\">class = P</text>\n</g>\n<!-- 0&#45;&gt;46 -->\n<g id=\"edge46\" class=\"edge\">\n<title>0&#45;&gt;46</title>\n<path fill=\"none\" stroke=\"#000000\" d=\"M1626.5737,-1541.9226C1660.8286,-1525.5518 1702.715,-1505.5338 1737.7589,-1488.7859\"/>\n<polygon fill=\"#000000\" stroke=\"#000000\" points=\"1739.466,-1491.8493 1746.9794,-1484.3793 1736.4476,-1485.5335 1739.466,-1491.8493\"/>\n<text text-anchor=\"middle\" x=\"1738.6522\" y=\"-1504.2517\" font-family=\"Times,serif\" font-size=\"14.00\" fill=\"#000000\">False</text>\n</g>\n<!-- 2 -->\n<g id=\"node3\" class=\"node\">\n<title>2</title>\n<polygon fill=\"#e58139\" stroke=\"#000000\" points=\"1137,-1369.5 1020,-1369.5 1020,-1301.5 1137,-1301.5 1137,-1369.5\"/>\n<text text-anchor=\"middle\" x=\"1078.5\" y=\"-1354.3\" font-family=\"Times,serif\" font-size=\"14.00\" fill=\"#000000\">gini = 0.0</text>\n<text text-anchor=\"middle\" x=\"1078.5\" y=\"-1339.3\" font-family=\"Times,serif\" font-size=\"14.00\" fill=\"#000000\">samples = 2838</text>\n<text text-anchor=\"middle\" x=\"1078.5\" y=\"-1324.3\" font-family=\"Times,serif\" font-size=\"14.00\" fill=\"#000000\">value = [2838, 0]</text>\n<text text-anchor=\"middle\" x=\"1078.5\" y=\"-1309.3\" font-family=\"Times,serif\" font-size=\"14.00\" fill=\"#000000\">class = P</text>\n</g>\n<!-- 1&#45;&gt;2 -->\n<g id=\"edge2\" class=\"edge\">\n<title>1&#45;&gt;2</title>\n<path fill=\"none\" stroke=\"#000000\" d=\"M1166.2836,-1412.8796C1152.9358,-1401.1138 1138.4215,-1388.3197 1125.1096,-1376.5855\"/>\n<polygon fill=\"#000000\" stroke=\"#000000\" points=\"1127.2448,-1373.8019 1117.4287,-1369.8149 1122.616,-1379.0531 1127.2448,-1373.8019\"/>\n</g>\n<!-- 3 -->\n<g id=\"node4\" class=\"node\">\n<title>3</title>\n<polygon fill=\"#ea995e\" stroke=\"#000000\" points=\"1272,-1377 1155,-1377 1155,-1294 1272,-1294 1272,-1377\"/>\n<text text-anchor=\"middle\" x=\"1213.5\" y=\"-1361.8\" font-family=\"Times,serif\" font-size=\"14.00\" fill=\"#000000\">Income &lt;= 92.5</text>\n<text text-anchor=\"middle\" x=\"1213.5\" y=\"-1346.8\" font-family=\"Times,serif\" font-size=\"14.00\" fill=\"#000000\">gini = 0.265</text>\n<text text-anchor=\"middle\" x=\"1213.5\" y=\"-1331.8\" font-family=\"Times,serif\" font-size=\"14.00\" fill=\"#000000\">samples = 159</text>\n<text text-anchor=\"middle\" x=\"1213.5\" y=\"-1316.8\" font-family=\"Times,serif\" font-size=\"14.00\" fill=\"#000000\">value = [134, 25]</text>\n<text text-anchor=\"middle\" x=\"1213.5\" y=\"-1301.8\" font-family=\"Times,serif\" font-size=\"14.00\" fill=\"#000000\">class = P</text>\n</g>\n<!-- 1&#45;&gt;3 -->\n<g id=\"edge3\" class=\"edge\">\n<title>1&#45;&gt;3</title>\n<path fill=\"none\" stroke=\"#000000\" d=\"M1213.5,-1412.8796C1213.5,-1404.6838 1213.5,-1395.9891 1213.5,-1387.5013\"/>\n<polygon fill=\"#000000\" stroke=\"#000000\" points=\"1217.0001,-1387.298 1213.5,-1377.2981 1210.0001,-1387.2981 1217.0001,-1387.298\"/>\n</g>\n<!-- 4 -->\n<g id=\"node5\" class=\"node\">\n<title>4</title>\n<polygon fill=\"#e89253\" stroke=\"#000000\" points=\"898,-1258 773,-1258 773,-1175 898,-1175 898,-1258\"/>\n<text text-anchor=\"middle\" x=\"835.5\" y=\"-1242.8\" font-family=\"Times,serif\" font-size=\"14.00\" fill=\"#000000\">Education &lt;= 3.55</text>\n<text text-anchor=\"middle\" x=\"835.5\" y=\"-1227.8\" font-family=\"Times,serif\" font-size=\"14.00\" fill=\"#000000\">gini = 0.208</text>\n<text text-anchor=\"middle\" x=\"835.5\" y=\"-1212.8\" font-family=\"Times,serif\" font-size=\"14.00\" fill=\"#000000\">samples = 136</text>\n<text text-anchor=\"middle\" x=\"835.5\" y=\"-1197.8\" font-family=\"Times,serif\" font-size=\"14.00\" fill=\"#000000\">value = [120, 16]</text>\n<text text-anchor=\"middle\" x=\"835.5\" y=\"-1182.8\" font-family=\"Times,serif\" font-size=\"14.00\" fill=\"#000000\">class = P</text>\n</g>\n<!-- 3&#45;&gt;4 -->\n<g id=\"edge4\" class=\"edge\">\n<title>3&#45;&gt;4</title>\n<path fill=\"none\" stroke=\"#000000\" d=\"M1154.7249,-1298.184C1151.6472,-1296.688 1148.5618,-1295.2818 1145.5,-1294 1067.4173,-1261.3119 972.2831,-1240.0576 908.1645,-1228.2201\"/>\n<polygon fill=\"#000000\" stroke=\"#000000\" points=\"908.612,-1224.7442 898.1475,-1226.4008 907.361,-1231.6315 908.612,-1224.7442\"/>\n</g>\n<!-- 33 -->\n<g id=\"node34\" class=\"node\">\n<title>33</title>\n<polygon fill=\"#f6d2b8\" stroke=\"#000000\" points=\"1265.5,-1258 1161.5,-1258 1161.5,-1175 1265.5,-1175 1265.5,-1258\"/>\n<text text-anchor=\"middle\" x=\"1213.5\" y=\"-1242.8\" font-family=\"Times,serif\" font-size=\"14.00\" fill=\"#000000\">CCAvg &lt;= 2.5</text>\n<text text-anchor=\"middle\" x=\"1213.5\" y=\"-1227.8\" font-family=\"Times,serif\" font-size=\"14.00\" fill=\"#000000\">gini = 0.476</text>\n<text text-anchor=\"middle\" x=\"1213.5\" y=\"-1212.8\" font-family=\"Times,serif\" font-size=\"14.00\" fill=\"#000000\">samples = 23</text>\n<text text-anchor=\"middle\" x=\"1213.5\" y=\"-1197.8\" font-family=\"Times,serif\" font-size=\"14.00\" fill=\"#000000\">value = [14, 9]</text>\n<text text-anchor=\"middle\" x=\"1213.5\" y=\"-1182.8\" font-family=\"Times,serif\" font-size=\"14.00\" fill=\"#000000\">class = P</text>\n</g>\n<!-- 3&#45;&gt;33 -->\n<g id=\"edge33\" class=\"edge\">\n<title>3&#45;&gt;33</title>\n<path fill=\"none\" stroke=\"#000000\" d=\"M1213.5,-1293.8796C1213.5,-1285.6838 1213.5,-1276.9891 1213.5,-1268.5013\"/>\n<polygon fill=\"#000000\" stroke=\"#000000\" points=\"1217.0001,-1268.298 1213.5,-1258.2981 1210.0001,-1268.2981 1217.0001,-1268.298\"/>\n</g>\n<!-- 5 -->\n<g id=\"node6\" class=\"node\">\n<title>5</title>\n<polygon fill=\"#eda876\" stroke=\"#000000\" points=\"704,-1139 579,-1139 579,-1056 704,-1056 704,-1139\"/>\n<text text-anchor=\"middle\" x=\"641.5\" y=\"-1123.8\" font-family=\"Times,serif\" font-size=\"14.00\" fill=\"#000000\">Education &lt;= 3.25</text>\n<text text-anchor=\"middle\" x=\"641.5\" y=\"-1108.8\" font-family=\"Times,serif\" font-size=\"14.00\" fill=\"#000000\">gini = 0.36</text>\n<text text-anchor=\"middle\" x=\"641.5\" y=\"-1093.8\" font-family=\"Times,serif\" font-size=\"14.00\" fill=\"#000000\">samples = 51</text>\n<text text-anchor=\"middle\" x=\"641.5\" y=\"-1078.8\" font-family=\"Times,serif\" font-size=\"14.00\" fill=\"#000000\">value = [39, 12]</text>\n<text text-anchor=\"middle\" x=\"641.5\" y=\"-1063.8\" font-family=\"Times,serif\" font-size=\"14.00\" fill=\"#000000\">class = P</text>\n</g>\n<!-- 4&#45;&gt;5 -->\n<g id=\"edge5\" class=\"edge\">\n<title>4&#45;&gt;5</title>\n<path fill=\"none\" stroke=\"#000000\" d=\"M772.7817,-1178.0284C753.5916,-1166.2572 732.3471,-1153.2258 712.6391,-1141.1369\"/>\n<polygon fill=\"#000000\" stroke=\"#000000\" points=\"714.3566,-1138.0844 704.0024,-1135.8391 710.6965,-1144.0513 714.3566,-1138.0844\"/>\n</g>\n<!-- 20 -->\n<g id=\"node21\" class=\"node\">\n<title>20</title>\n<polygon fill=\"#e68743\" stroke=\"#000000\" points=\"890.5,-1139 780.5,-1139 780.5,-1056 890.5,-1056 890.5,-1139\"/>\n<text text-anchor=\"middle\" x=\"835.5\" y=\"-1123.8\" font-family=\"Times,serif\" font-size=\"14.00\" fill=\"#000000\">Income &lt;= 81.5</text>\n<text text-anchor=\"middle\" x=\"835.5\" y=\"-1108.8\" font-family=\"Times,serif\" font-size=\"14.00\" fill=\"#000000\">gini = 0.09</text>\n<text text-anchor=\"middle\" x=\"835.5\" y=\"-1093.8\" font-family=\"Times,serif\" font-size=\"14.00\" fill=\"#000000\">samples = 85</text>\n<text text-anchor=\"middle\" x=\"835.5\" y=\"-1078.8\" font-family=\"Times,serif\" font-size=\"14.00\" fill=\"#000000\">value = [81, 4]</text>\n<text text-anchor=\"middle\" x=\"835.5\" y=\"-1063.8\" font-family=\"Times,serif\" font-size=\"14.00\" fill=\"#000000\">class = P</text>\n</g>\n<!-- 4&#45;&gt;20 -->\n<g id=\"edge20\" class=\"edge\">\n<title>4&#45;&gt;20</title>\n<path fill=\"none\" stroke=\"#000000\" d=\"M835.5,-1174.8796C835.5,-1166.6838 835.5,-1157.9891 835.5,-1149.5013\"/>\n<polygon fill=\"#000000\" stroke=\"#000000\" points=\"839.0001,-1149.298 835.5,-1139.2981 832.0001,-1149.2981 839.0001,-1149.298\"/>\n</g>\n<!-- 6 -->\n<g id=\"node7\" class=\"node\">\n<title>6</title>\n<polygon fill=\"#e89152\" stroke=\"#000000\" points=\"455.5,-1020 351.5,-1020 351.5,-937 455.5,-937 455.5,-1020\"/>\n<text text-anchor=\"middle\" x=\"403.5\" y=\"-1004.8\" font-family=\"Times,serif\" font-size=\"14.00\" fill=\"#000000\">CCAvg &lt;= 3.5</text>\n<text text-anchor=\"middle\" x=\"403.5\" y=\"-989.8\" font-family=\"Times,serif\" font-size=\"14.00\" fill=\"#000000\">gini = 0.198</text>\n<text text-anchor=\"middle\" x=\"403.5\" y=\"-974.8\" font-family=\"Times,serif\" font-size=\"14.00\" fill=\"#000000\">samples = 36</text>\n<text text-anchor=\"middle\" x=\"403.5\" y=\"-959.8\" font-family=\"Times,serif\" font-size=\"14.00\" fill=\"#000000\">value = [32, 4]</text>\n<text text-anchor=\"middle\" x=\"403.5\" y=\"-944.8\" font-family=\"Times,serif\" font-size=\"14.00\" fill=\"#000000\">class = P</text>\n</g>\n<!-- 5&#45;&gt;6 -->\n<g id=\"edge6\" class=\"edge\">\n<title>5&#45;&gt;6</title>\n<path fill=\"none\" stroke=\"#000000\" d=\"M578.9683,-1066.2342C543.6951,-1048.5975 499.8048,-1026.6524 464.7444,-1009.1222\"/>\n<polygon fill=\"#000000\" stroke=\"#000000\" points=\"466.0788,-1005.8763 455.5692,-1004.5346 462.9482,-1012.1373 466.0788,-1005.8763\"/>\n</g>\n<!-- 15 -->\n<g id=\"node16\" class=\"node\">\n<title>15</title>\n<polygon fill=\"#e6f3fc\" stroke=\"#000000\" points=\"693.5,-1020 589.5,-1020 589.5,-937 693.5,-937 693.5,-1020\"/>\n<text text-anchor=\"middle\" x=\"641.5\" y=\"-1004.8\" font-family=\"Times,serif\" font-size=\"14.00\" fill=\"#000000\">CCAvg &lt;= 3.5</text>\n<text text-anchor=\"middle\" x=\"641.5\" y=\"-989.8\" font-family=\"Times,serif\" font-size=\"14.00\" fill=\"#000000\">gini = 0.498</text>\n<text text-anchor=\"middle\" x=\"641.5\" y=\"-974.8\" font-family=\"Times,serif\" font-size=\"14.00\" fill=\"#000000\">samples = 15</text>\n<text text-anchor=\"middle\" x=\"641.5\" y=\"-959.8\" font-family=\"Times,serif\" font-size=\"14.00\" fill=\"#000000\">value = [7, 8]</text>\n<text text-anchor=\"middle\" x=\"641.5\" y=\"-944.8\" font-family=\"Times,serif\" font-size=\"14.00\" fill=\"#000000\">class = e</text>\n</g>\n<!-- 5&#45;&gt;15 -->\n<g id=\"edge15\" class=\"edge\">\n<title>5&#45;&gt;15</title>\n<path fill=\"none\" stroke=\"#000000\" d=\"M641.5,-1055.8796C641.5,-1047.6838 641.5,-1038.9891 641.5,-1030.5013\"/>\n<polygon fill=\"#000000\" stroke=\"#000000\" points=\"645.0001,-1030.298 641.5,-1020.2981 638.0001,-1030.2981 645.0001,-1030.298\"/>\n</g>\n<!-- 7 -->\n<g id=\"node8\" class=\"node\">\n<title>7</title>\n<polygon fill=\"#e78945\" stroke=\"#000000\" points=\"337.5,-901 227.5,-901 227.5,-818 337.5,-818 337.5,-901\"/>\n<text text-anchor=\"middle\" x=\"282.5\" y=\"-885.8\" font-family=\"Times,serif\" font-size=\"14.00\" fill=\"#000000\">Income &lt;= 70.0</text>\n<text text-anchor=\"middle\" x=\"282.5\" y=\"-870.8\" font-family=\"Times,serif\" font-size=\"14.00\" fill=\"#000000\">gini = 0.111</text>\n<text text-anchor=\"middle\" x=\"282.5\" y=\"-855.8\" font-family=\"Times,serif\" font-size=\"14.00\" fill=\"#000000\">samples = 34</text>\n<text text-anchor=\"middle\" x=\"282.5\" y=\"-840.8\" font-family=\"Times,serif\" font-size=\"14.00\" fill=\"#000000\">value = [32, 2]</text>\n<text text-anchor=\"middle\" x=\"282.5\" y=\"-825.8\" font-family=\"Times,serif\" font-size=\"14.00\" fill=\"#000000\">class = P</text>\n</g>\n<!-- 6&#45;&gt;7 -->\n<g id=\"edge7\" class=\"edge\">\n<title>6&#45;&gt;7</title>\n<path fill=\"none\" stroke=\"#000000\" d=\"M361.1801,-936.8796C351.8392,-927.6931 341.861,-917.8798 332.256,-908.4336\"/>\n<polygon fill=\"#000000\" stroke=\"#000000\" points=\"334.5845,-905.8146 325.0006,-901.2981 329.6762,-910.8054 334.5845,-905.8146\"/>\n</g>\n<!-- 14 -->\n<g id=\"node15\" class=\"node\">\n<title>14</title>\n<polygon fill=\"#399de5\" stroke=\"#000000\" points=\"451,-893.5 356,-893.5 356,-825.5 451,-825.5 451,-893.5\"/>\n<text text-anchor=\"middle\" x=\"403.5\" y=\"-878.3\" font-family=\"Times,serif\" font-size=\"14.00\" fill=\"#000000\">gini = 0.0</text>\n<text text-anchor=\"middle\" x=\"403.5\" y=\"-863.3\" font-family=\"Times,serif\" font-size=\"14.00\" fill=\"#000000\">samples = 2</text>\n<text text-anchor=\"middle\" x=\"403.5\" y=\"-848.3\" font-family=\"Times,serif\" font-size=\"14.00\" fill=\"#000000\">value = [0, 2]</text>\n<text text-anchor=\"middle\" x=\"403.5\" y=\"-833.3\" font-family=\"Times,serif\" font-size=\"14.00\" fill=\"#000000\">class = e</text>\n</g>\n<!-- 6&#45;&gt;14 -->\n<g id=\"edge14\" class=\"edge\">\n<title>6&#45;&gt;14</title>\n<path fill=\"none\" stroke=\"#000000\" d=\"M403.5,-936.8796C403.5,-926.2134 403.5,-914.7021 403.5,-903.9015\"/>\n<polygon fill=\"#000000\" stroke=\"#000000\" points=\"407.0001,-903.8149 403.5,-893.8149 400.0001,-903.815 407.0001,-903.8149\"/>\n</g>\n<!-- 8 -->\n<g id=\"node9\" class=\"node\">\n<title>8</title>\n<polygon fill=\"#e89253\" stroke=\"#000000\" points=\"219.5,-782 109.5,-782 109.5,-699 219.5,-699 219.5,-782\"/>\n<text text-anchor=\"middle\" x=\"164.5\" y=\"-766.8\" font-family=\"Times,serif\" font-size=\"14.00\" fill=\"#000000\">Income &lt;= 68.5</text>\n<text text-anchor=\"middle\" x=\"164.5\" y=\"-751.8\" font-family=\"Times,serif\" font-size=\"14.00\" fill=\"#000000\">gini = 0.208</text>\n<text text-anchor=\"middle\" x=\"164.5\" y=\"-736.8\" font-family=\"Times,serif\" font-size=\"14.00\" fill=\"#000000\">samples = 17</text>\n<text text-anchor=\"middle\" x=\"164.5\" y=\"-721.8\" font-family=\"Times,serif\" font-size=\"14.00\" fill=\"#000000\">value = [15, 2]</text>\n<text text-anchor=\"middle\" x=\"164.5\" y=\"-706.8\" font-family=\"Times,serif\" font-size=\"14.00\" fill=\"#000000\">class = P</text>\n</g>\n<!-- 7&#45;&gt;8 -->\n<g id=\"edge8\" class=\"edge\">\n<title>7&#45;&gt;8</title>\n<path fill=\"none\" stroke=\"#000000\" d=\"M241.2293,-817.8796C232.1201,-808.6931 222.3892,-798.8798 213.0224,-789.4336\"/>\n<polygon fill=\"#000000\" stroke=\"#000000\" points=\"215.4733,-786.9345 205.9468,-782.2981 210.5027,-791.8634 215.4733,-786.9345\"/>\n</g>\n<!-- 13 -->\n<g id=\"node14\" class=\"node\">\n<title>13</title>\n<polygon fill=\"#e58139\" stroke=\"#000000\" points=\"339.5,-774.5 237.5,-774.5 237.5,-706.5 339.5,-706.5 339.5,-774.5\"/>\n<text text-anchor=\"middle\" x=\"288.5\" y=\"-759.3\" font-family=\"Times,serif\" font-size=\"14.00\" fill=\"#000000\">gini = 0.0</text>\n<text text-anchor=\"middle\" x=\"288.5\" y=\"-744.3\" font-family=\"Times,serif\" font-size=\"14.00\" fill=\"#000000\">samples = 17</text>\n<text text-anchor=\"middle\" x=\"288.5\" y=\"-729.3\" font-family=\"Times,serif\" font-size=\"14.00\" fill=\"#000000\">value = [17, 0]</text>\n<text text-anchor=\"middle\" x=\"288.5\" y=\"-714.3\" font-family=\"Times,serif\" font-size=\"14.00\" fill=\"#000000\">class = P</text>\n</g>\n<!-- 7&#45;&gt;13 -->\n<g id=\"edge13\" class=\"edge\">\n<title>7&#45;&gt;13</title>\n<path fill=\"none\" stroke=\"#000000\" d=\"M284.5985,-817.8796C285.1363,-807.2134 285.7167,-795.7021 286.2613,-784.9015\"/>\n<polygon fill=\"#000000\" stroke=\"#000000\" points=\"289.7617,-784.9785 286.7698,-774.8149 282.7706,-784.626 289.7617,-784.9785\"/>\n</g>\n<!-- 9 -->\n<g id=\"node10\" class=\"node\">\n<title>9</title>\n<polygon fill=\"#e78946\" stroke=\"#000000\" points=\"157.5,-663 53.5,-663 53.5,-580 157.5,-580 157.5,-663\"/>\n<text text-anchor=\"middle\" x=\"105.5\" y=\"-647.8\" font-family=\"Times,serif\" font-size=\"14.00\" fill=\"#000000\">CCAvg &lt;= 1.5</text>\n<text text-anchor=\"middle\" x=\"105.5\" y=\"-632.8\" font-family=\"Times,serif\" font-size=\"14.00\" fill=\"#000000\">gini = 0.117</text>\n<text text-anchor=\"middle\" x=\"105.5\" y=\"-617.8\" font-family=\"Times,serif\" font-size=\"14.00\" fill=\"#000000\">samples = 16</text>\n<text text-anchor=\"middle\" x=\"105.5\" y=\"-602.8\" font-family=\"Times,serif\" font-size=\"14.00\" fill=\"#000000\">value = [15, 1]</text>\n<text text-anchor=\"middle\" x=\"105.5\" y=\"-587.8\" font-family=\"Times,serif\" font-size=\"14.00\" fill=\"#000000\">class = P</text>\n</g>\n<!-- 8&#45;&gt;9 -->\n<g id=\"edge9\" class=\"edge\">\n<title>8&#45;&gt;9</title>\n<path fill=\"none\" stroke=\"#000000\" d=\"M143.8647,-698.8796C139.6226,-690.3236 135.111,-681.2238 130.7279,-672.3833\"/>\n<polygon fill=\"#000000\" stroke=\"#000000\" points=\"133.8012,-670.7026 126.2234,-663.2981 127.5297,-673.8121 133.8012,-670.7026\"/>\n</g>\n<!-- 12 -->\n<g id=\"node13\" class=\"node\">\n<title>12</title>\n<polygon fill=\"#399de5\" stroke=\"#000000\" points=\"271,-655.5 176,-655.5 176,-587.5 271,-587.5 271,-655.5\"/>\n<text text-anchor=\"middle\" x=\"223.5\" y=\"-640.3\" font-family=\"Times,serif\" font-size=\"14.00\" fill=\"#000000\">gini = 0.0</text>\n<text text-anchor=\"middle\" x=\"223.5\" y=\"-625.3\" font-family=\"Times,serif\" font-size=\"14.00\" fill=\"#000000\">samples = 1</text>\n<text text-anchor=\"middle\" x=\"223.5\" y=\"-610.3\" font-family=\"Times,serif\" font-size=\"14.00\" fill=\"#000000\">value = [0, 1]</text>\n<text text-anchor=\"middle\" x=\"223.5\" y=\"-595.3\" font-family=\"Times,serif\" font-size=\"14.00\" fill=\"#000000\">class = e</text>\n</g>\n<!-- 8&#45;&gt;12 -->\n<g id=\"edge12\" class=\"edge\">\n<title>8&#45;&gt;12</title>\n<path fill=\"none\" stroke=\"#000000\" d=\"M185.1353,-698.8796C190.5872,-687.8835 196.4843,-675.9893 201.9816,-664.9015\"/>\n<polygon fill=\"#000000\" stroke=\"#000000\" points=\"205.1804,-666.3289 206.4867,-655.8149 198.9089,-663.2195 205.1804,-666.3289\"/>\n</g>\n<!-- 10 -->\n<g id=\"node11\" class=\"node\">\n<title>10</title>\n<polygon fill=\"#399de5\" stroke=\"#000000\" points=\"95,-536.5 0,-536.5 0,-468.5 95,-468.5 95,-536.5\"/>\n<text text-anchor=\"middle\" x=\"47.5\" y=\"-521.3\" font-family=\"Times,serif\" font-size=\"14.00\" fill=\"#000000\">gini = 0.0</text>\n<text text-anchor=\"middle\" x=\"47.5\" y=\"-506.3\" font-family=\"Times,serif\" font-size=\"14.00\" fill=\"#000000\">samples = 1</text>\n<text text-anchor=\"middle\" x=\"47.5\" y=\"-491.3\" font-family=\"Times,serif\" font-size=\"14.00\" fill=\"#000000\">value = [0, 1]</text>\n<text text-anchor=\"middle\" x=\"47.5\" y=\"-476.3\" font-family=\"Times,serif\" font-size=\"14.00\" fill=\"#000000\">class = e</text>\n</g>\n<!-- 9&#45;&gt;10 -->\n<g id=\"edge10\" class=\"edge\">\n<title>9&#45;&gt;10</title>\n<path fill=\"none\" stroke=\"#000000\" d=\"M85.2144,-579.8796C79.855,-568.8835 74.0578,-556.9893 68.6537,-545.9015\"/>\n<polygon fill=\"#000000\" stroke=\"#000000\" points=\"71.7524,-544.2706 64.2249,-536.8149 65.46,-547.3375 71.7524,-544.2706\"/>\n</g>\n<!-- 11 -->\n<g id=\"node12\" class=\"node\">\n<title>11</title>\n<polygon fill=\"#e58139\" stroke=\"#000000\" points=\"215.5,-536.5 113.5,-536.5 113.5,-468.5 215.5,-468.5 215.5,-536.5\"/>\n<text text-anchor=\"middle\" x=\"164.5\" y=\"-521.3\" font-family=\"Times,serif\" font-size=\"14.00\" fill=\"#000000\">gini = 0.0</text>\n<text text-anchor=\"middle\" x=\"164.5\" y=\"-506.3\" font-family=\"Times,serif\" font-size=\"14.00\" fill=\"#000000\">samples = 15</text>\n<text text-anchor=\"middle\" x=\"164.5\" y=\"-491.3\" font-family=\"Times,serif\" font-size=\"14.00\" fill=\"#000000\">value = [15, 0]</text>\n<text text-anchor=\"middle\" x=\"164.5\" y=\"-476.3\" font-family=\"Times,serif\" font-size=\"14.00\" fill=\"#000000\">class = P</text>\n</g>\n<!-- 9&#45;&gt;11 -->\n<g id=\"edge11\" class=\"edge\">\n<title>9&#45;&gt;11</title>\n<path fill=\"none\" stroke=\"#000000\" d=\"M126.1353,-579.8796C131.5872,-568.8835 137.4843,-556.9893 142.9816,-545.9015\"/>\n<polygon fill=\"#000000\" stroke=\"#000000\" points=\"146.1804,-547.3289 147.4867,-536.8149 139.9089,-544.2195 146.1804,-547.3289\"/>\n</g>\n<!-- 16 -->\n<g id=\"node17\" class=\"node\">\n<title>16</title>\n<polygon fill=\"#52a9e8\" stroke=\"#000000\" points=\"579.5,-901 469.5,-901 469.5,-818 579.5,-818 579.5,-901\"/>\n<text text-anchor=\"middle\" x=\"524.5\" y=\"-885.8\" font-family=\"Times,serif\" font-size=\"14.00\" fill=\"#000000\">Income &lt;= 91.5</text>\n<text text-anchor=\"middle\" x=\"524.5\" y=\"-870.8\" font-family=\"Times,serif\" font-size=\"14.00\" fill=\"#000000\">gini = 0.198</text>\n<text text-anchor=\"middle\" x=\"524.5\" y=\"-855.8\" font-family=\"Times,serif\" font-size=\"14.00\" fill=\"#000000\">samples = 9</text>\n<text text-anchor=\"middle\" x=\"524.5\" y=\"-840.8\" font-family=\"Times,serif\" font-size=\"14.00\" fill=\"#000000\">value = [1, 8]</text>\n<text text-anchor=\"middle\" x=\"524.5\" y=\"-825.8\" font-family=\"Times,serif\" font-size=\"14.00\" fill=\"#000000\">class = e</text>\n</g>\n<!-- 15&#45;&gt;16 -->\n<g id=\"edge16\" class=\"edge\">\n<title>15&#45;&gt;16</title>\n<path fill=\"none\" stroke=\"#000000\" d=\"M600.5791,-936.8796C591.547,-927.6931 581.8987,-917.8798 572.6112,-908.4336\"/>\n<polygon fill=\"#000000\" stroke=\"#000000\" points=\"575.1023,-905.975 565.5956,-901.2981 570.1107,-910.8827 575.1023,-905.975\"/>\n</g>\n<!-- 19 -->\n<g id=\"node20\" class=\"node\">\n<title>19</title>\n<polygon fill=\"#e58139\" stroke=\"#000000\" points=\"693,-893.5 598,-893.5 598,-825.5 693,-825.5 693,-893.5\"/>\n<text text-anchor=\"middle\" x=\"645.5\" y=\"-878.3\" font-family=\"Times,serif\" font-size=\"14.00\" fill=\"#000000\">gini = 0.0</text>\n<text text-anchor=\"middle\" x=\"645.5\" y=\"-863.3\" font-family=\"Times,serif\" font-size=\"14.00\" fill=\"#000000\">samples = 6</text>\n<text text-anchor=\"middle\" x=\"645.5\" y=\"-848.3\" font-family=\"Times,serif\" font-size=\"14.00\" fill=\"#000000\">value = [6, 0]</text>\n<text text-anchor=\"middle\" x=\"645.5\" y=\"-833.3\" font-family=\"Times,serif\" font-size=\"14.00\" fill=\"#000000\">class = P</text>\n</g>\n<!-- 15&#45;&gt;19 -->\n<g id=\"edge19\" class=\"edge\">\n<title>15&#45;&gt;19</title>\n<path fill=\"none\" stroke=\"#000000\" d=\"M642.899,-936.8796C643.2575,-926.2134 643.6445,-914.7021 644.0075,-903.9015\"/>\n<polygon fill=\"#000000\" stroke=\"#000000\" points=\"647.5085,-903.9269 644.3466,-893.8149 640.5125,-903.6917 647.5085,-903.9269\"/>\n</g>\n<!-- 17 -->\n<g id=\"node18\" class=\"node\">\n<title>17</title>\n<polygon fill=\"#399de5\" stroke=\"#000000\" points=\"459,-774.5 364,-774.5 364,-706.5 459,-706.5 459,-774.5\"/>\n<text text-anchor=\"middle\" x=\"411.5\" y=\"-759.3\" font-family=\"Times,serif\" font-size=\"14.00\" fill=\"#000000\">gini = 0.0</text>\n<text text-anchor=\"middle\" x=\"411.5\" y=\"-744.3\" font-family=\"Times,serif\" font-size=\"14.00\" fill=\"#000000\">samples = 8</text>\n<text text-anchor=\"middle\" x=\"411.5\" y=\"-729.3\" font-family=\"Times,serif\" font-size=\"14.00\" fill=\"#000000\">value = [0, 8]</text>\n<text text-anchor=\"middle\" x=\"411.5\" y=\"-714.3\" font-family=\"Times,serif\" font-size=\"14.00\" fill=\"#000000\">class = e</text>\n</g>\n<!-- 16&#45;&gt;17 -->\n<g id=\"edge17\" class=\"edge\">\n<title>16&#45;&gt;17</title>\n<path fill=\"none\" stroke=\"#000000\" d=\"M484.9781,-817.8796C474.0143,-806.3337 462.1103,-793.7976 451.1399,-782.2446\"/>\n<polygon fill=\"#000000\" stroke=\"#000000\" points=\"453.5087,-779.6564 444.0848,-774.8149 448.4327,-784.4766 453.5087,-779.6564\"/>\n</g>\n<!-- 18 -->\n<g id=\"node19\" class=\"node\">\n<title>18</title>\n<polygon fill=\"#e58139\" stroke=\"#000000\" points=\"572,-774.5 477,-774.5 477,-706.5 572,-706.5 572,-774.5\"/>\n<text text-anchor=\"middle\" x=\"524.5\" y=\"-759.3\" font-family=\"Times,serif\" font-size=\"14.00\" fill=\"#000000\">gini = 0.0</text>\n<text text-anchor=\"middle\" x=\"524.5\" y=\"-744.3\" font-family=\"Times,serif\" font-size=\"14.00\" fill=\"#000000\">samples = 1</text>\n<text text-anchor=\"middle\" x=\"524.5\" y=\"-729.3\" font-family=\"Times,serif\" font-size=\"14.00\" fill=\"#000000\">value = [1, 0]</text>\n<text text-anchor=\"middle\" x=\"524.5\" y=\"-714.3\" font-family=\"Times,serif\" font-size=\"14.00\" fill=\"#000000\">class = P</text>\n</g>\n<!-- 16&#45;&gt;18 -->\n<g id=\"edge18\" class=\"edge\">\n<title>16&#45;&gt;18</title>\n<path fill=\"none\" stroke=\"#000000\" d=\"M524.5,-817.8796C524.5,-807.2134 524.5,-795.7021 524.5,-784.9015\"/>\n<polygon fill=\"#000000\" stroke=\"#000000\" points=\"528.0001,-784.8149 524.5,-774.8149 521.0001,-784.815 528.0001,-784.8149\"/>\n</g>\n<!-- 21 -->\n<g id=\"node22\" class=\"node\">\n<title>21</title>\n<polygon fill=\"#e58139\" stroke=\"#000000\" points=\"814.5,-1012.5 712.5,-1012.5 712.5,-944.5 814.5,-944.5 814.5,-1012.5\"/>\n<text text-anchor=\"middle\" x=\"763.5\" y=\"-997.3\" font-family=\"Times,serif\" font-size=\"14.00\" fill=\"#000000\">gini = 0.0</text>\n<text text-anchor=\"middle\" x=\"763.5\" y=\"-982.3\" font-family=\"Times,serif\" font-size=\"14.00\" fill=\"#000000\">samples = 49</text>\n<text text-anchor=\"middle\" x=\"763.5\" y=\"-967.3\" font-family=\"Times,serif\" font-size=\"14.00\" fill=\"#000000\">value = [49, 0]</text>\n<text text-anchor=\"middle\" x=\"763.5\" y=\"-952.3\" font-family=\"Times,serif\" font-size=\"14.00\" fill=\"#000000\">class = P</text>\n</g>\n<!-- 20&#45;&gt;21 -->\n<g id=\"edge21\" class=\"edge\">\n<title>20&#45;&gt;21</title>\n<path fill=\"none\" stroke=\"#000000\" d=\"M810.3179,-1055.8796C803.5983,-1044.7735 796.3243,-1032.7513 789.5586,-1021.5691\"/>\n<polygon fill=\"#000000\" stroke=\"#000000\" points=\"792.4332,-1019.5589 784.262,-1012.8149 786.4441,-1023.1826 792.4332,-1019.5589\"/>\n</g>\n<!-- 22 -->\n<g id=\"node23\" class=\"node\">\n<title>22</title>\n<polygon fill=\"#e89152\" stroke=\"#000000\" points=\"950.5,-1020 832.5,-1020 832.5,-937 950.5,-937 950.5,-1020\"/>\n<text text-anchor=\"middle\" x=\"891.5\" y=\"-1004.8\" font-family=\"Times,serif\" font-size=\"14.00\" fill=\"#000000\">Education &lt;= 4.2</text>\n<text text-anchor=\"middle\" x=\"891.5\" y=\"-989.8\" font-family=\"Times,serif\" font-size=\"14.00\" fill=\"#000000\">gini = 0.198</text>\n<text text-anchor=\"middle\" x=\"891.5\" y=\"-974.8\" font-family=\"Times,serif\" font-size=\"14.00\" fill=\"#000000\">samples = 36</text>\n<text text-anchor=\"middle\" x=\"891.5\" y=\"-959.8\" font-family=\"Times,serif\" font-size=\"14.00\" fill=\"#000000\">value = [32, 4]</text>\n<text text-anchor=\"middle\" x=\"891.5\" y=\"-944.8\" font-family=\"Times,serif\" font-size=\"14.00\" fill=\"#000000\">class = P</text>\n</g>\n<!-- 20&#45;&gt;22 -->\n<g id=\"edge22\" class=\"edge\">\n<title>20&#45;&gt;22</title>\n<path fill=\"none\" stroke=\"#000000\" d=\"M855.0861,-1055.8796C859.1124,-1047.3236 863.3947,-1038.2238 867.5549,-1029.3833\"/>\n<polygon fill=\"#000000\" stroke=\"#000000\" points=\"870.7392,-1030.8366 871.8303,-1020.2981 864.4054,-1027.856 870.7392,-1030.8366\"/>\n</g>\n<!-- 23 -->\n<g id=\"node24\" class=\"node\">\n<title>23</title>\n<polygon fill=\"#eca06a\" stroke=\"#000000\" points=\"822.5,-901 720.5,-901 720.5,-818 822.5,-818 822.5,-901\"/>\n<text text-anchor=\"middle\" x=\"771.5\" y=\"-885.8\" font-family=\"Times,serif\" font-size=\"14.00\" fill=\"#000000\">Family &lt;= 2.5</text>\n<text text-anchor=\"middle\" x=\"771.5\" y=\"-870.8\" font-family=\"Times,serif\" font-size=\"14.00\" fill=\"#000000\">gini = 0.32</text>\n<text text-anchor=\"middle\" x=\"771.5\" y=\"-855.8\" font-family=\"Times,serif\" font-size=\"14.00\" fill=\"#000000\">samples = 20</text>\n<text text-anchor=\"middle\" x=\"771.5\" y=\"-840.8\" font-family=\"Times,serif\" font-size=\"14.00\" fill=\"#000000\">value = [16, 4]</text>\n<text text-anchor=\"middle\" x=\"771.5\" y=\"-825.8\" font-family=\"Times,serif\" font-size=\"14.00\" fill=\"#000000\">class = P</text>\n</g>\n<!-- 22&#45;&gt;23 -->\n<g id=\"edge23\" class=\"edge\">\n<title>22&#45;&gt;23</title>\n<path fill=\"none\" stroke=\"#000000\" d=\"M849.5298,-936.8796C840.2662,-927.6931 830.3704,-917.8798 820.8448,-908.4336\"/>\n<polygon fill=\"#000000\" stroke=\"#000000\" points=\"823.2144,-905.8543 813.6493,-901.2981 818.2854,-910.8247 823.2144,-905.8543\"/>\n</g>\n<!-- 32 -->\n<g id=\"node33\" class=\"node\">\n<title>32</title>\n<polygon fill=\"#e58139\" stroke=\"#000000\" points=\"942.5,-893.5 840.5,-893.5 840.5,-825.5 942.5,-825.5 942.5,-893.5\"/>\n<text text-anchor=\"middle\" x=\"891.5\" y=\"-878.3\" font-family=\"Times,serif\" font-size=\"14.00\" fill=\"#000000\">gini = 0.0</text>\n<text text-anchor=\"middle\" x=\"891.5\" y=\"-863.3\" font-family=\"Times,serif\" font-size=\"14.00\" fill=\"#000000\">samples = 16</text>\n<text text-anchor=\"middle\" x=\"891.5\" y=\"-848.3\" font-family=\"Times,serif\" font-size=\"14.00\" fill=\"#000000\">value = [16, 0]</text>\n<text text-anchor=\"middle\" x=\"891.5\" y=\"-833.3\" font-family=\"Times,serif\" font-size=\"14.00\" fill=\"#000000\">class = P</text>\n</g>\n<!-- 22&#45;&gt;32 -->\n<g id=\"edge32\" class=\"edge\">\n<title>22&#45;&gt;32</title>\n<path fill=\"none\" stroke=\"#000000\" d=\"M891.5,-936.8796C891.5,-926.2134 891.5,-914.7021 891.5,-903.9015\"/>\n<polygon fill=\"#000000\" stroke=\"#000000\" points=\"895.0001,-903.8149 891.5,-893.8149 888.0001,-903.815 895.0001,-903.8149\"/>\n</g>\n<!-- 24 -->\n<g id=\"node25\" class=\"node\">\n<title>24</title>\n<polygon fill=\"#ffffff\" stroke=\"#000000\" points=\"700.5,-782 590.5,-782 590.5,-699 700.5,-699 700.5,-782\"/>\n<text text-anchor=\"middle\" x=\"645.5\" y=\"-766.8\" font-family=\"Times,serif\" font-size=\"14.00\" fill=\"#000000\">Income &lt;= 83.5</text>\n<text text-anchor=\"middle\" x=\"645.5\" y=\"-751.8\" font-family=\"Times,serif\" font-size=\"14.00\" fill=\"#000000\">gini = 0.5</text>\n<text text-anchor=\"middle\" x=\"645.5\" y=\"-736.8\" font-family=\"Times,serif\" font-size=\"14.00\" fill=\"#000000\">samples = 6</text>\n<text text-anchor=\"middle\" x=\"645.5\" y=\"-721.8\" font-family=\"Times,serif\" font-size=\"14.00\" fill=\"#000000\">value = [3, 3]</text>\n<text text-anchor=\"middle\" x=\"645.5\" y=\"-706.8\" font-family=\"Times,serif\" font-size=\"14.00\" fill=\"#000000\">class = P</text>\n</g>\n<!-- 23&#45;&gt;24 -->\n<g id=\"edge24\" class=\"edge\">\n<title>23&#45;&gt;24</title>\n<path fill=\"none\" stroke=\"#000000\" d=\"M727.4313,-817.8796C717.7045,-808.6931 707.3139,-798.8798 697.3121,-789.4336\"/>\n<polygon fill=\"#000000\" stroke=\"#000000\" points=\"699.4301,-786.6198 689.7568,-782.2981 694.6237,-791.7089 699.4301,-786.6198\"/>\n</g>\n<!-- 29 -->\n<g id=\"node30\" class=\"node\">\n<title>29</title>\n<polygon fill=\"#e78b48\" stroke=\"#000000\" points=\"844,-782 719,-782 719,-699 844,-699 844,-782\"/>\n<text text-anchor=\"middle\" x=\"781.5\" y=\"-766.8\" font-family=\"Times,serif\" font-size=\"14.00\" fill=\"#000000\">Education &lt;= 3.65</text>\n<text text-anchor=\"middle\" x=\"781.5\" y=\"-751.8\" font-family=\"Times,serif\" font-size=\"14.00\" fill=\"#000000\">gini = 0.133</text>\n<text text-anchor=\"middle\" x=\"781.5\" y=\"-736.8\" font-family=\"Times,serif\" font-size=\"14.00\" fill=\"#000000\">samples = 14</text>\n<text text-anchor=\"middle\" x=\"781.5\" y=\"-721.8\" font-family=\"Times,serif\" font-size=\"14.00\" fill=\"#000000\">value = [13, 1]</text>\n<text text-anchor=\"middle\" x=\"781.5\" y=\"-706.8\" font-family=\"Times,serif\" font-size=\"14.00\" fill=\"#000000\">class = P</text>\n</g>\n<!-- 23&#45;&gt;29 -->\n<g id=\"edge29\" class=\"edge\">\n<title>23&#45;&gt;29</title>\n<path fill=\"none\" stroke=\"#000000\" d=\"M774.9975,-817.8796C775.6862,-809.6838 776.4169,-800.9891 777.1301,-792.5013\"/>\n<polygon fill=\"#000000\" stroke=\"#000000\" points=\"780.6378,-792.5561 777.9876,-782.2981 773.6624,-791.9698 780.6378,-792.5561\"/>\n</g>\n<!-- 25 -->\n<g id=\"node26\" class=\"node\">\n<title>25</title>\n<polygon fill=\"#399de5\" stroke=\"#000000\" points=\"567,-655.5 472,-655.5 472,-587.5 567,-587.5 567,-655.5\"/>\n<text text-anchor=\"middle\" x=\"519.5\" y=\"-640.3\" font-family=\"Times,serif\" font-size=\"14.00\" fill=\"#000000\">gini = 0.0</text>\n<text text-anchor=\"middle\" x=\"519.5\" y=\"-625.3\" font-family=\"Times,serif\" font-size=\"14.00\" fill=\"#000000\">samples = 2</text>\n<text text-anchor=\"middle\" x=\"519.5\" y=\"-610.3\" font-family=\"Times,serif\" font-size=\"14.00\" fill=\"#000000\">value = [0, 2]</text>\n<text text-anchor=\"middle\" x=\"519.5\" y=\"-595.3\" font-family=\"Times,serif\" font-size=\"14.00\" fill=\"#000000\">class = e</text>\n</g>\n<!-- 24&#45;&gt;25 -->\n<g id=\"edge25\" class=\"edge\">\n<title>24&#45;&gt;25</title>\n<path fill=\"none\" stroke=\"#000000\" d=\"M601.4313,-698.8796C589.0898,-687.2237 575.6798,-674.5587 563.351,-662.9148\"/>\n<polygon fill=\"#000000\" stroke=\"#000000\" points=\"565.5068,-660.1366 555.8335,-655.8149 560.7004,-665.2258 565.5068,-660.1366\"/>\n</g>\n<!-- 26 -->\n<g id=\"node27\" class=\"node\">\n<title>26</title>\n<polygon fill=\"#eeab7b\" stroke=\"#000000\" points=\"710,-663 585,-663 585,-580 710,-580 710,-663\"/>\n<text text-anchor=\"middle\" x=\"647.5\" y=\"-647.8\" font-family=\"Times,serif\" font-size=\"14.00\" fill=\"#000000\">Education &lt;= 3.95</text>\n<text text-anchor=\"middle\" x=\"647.5\" y=\"-632.8\" font-family=\"Times,serif\" font-size=\"14.00\" fill=\"#000000\">gini = 0.375</text>\n<text text-anchor=\"middle\" x=\"647.5\" y=\"-617.8\" font-family=\"Times,serif\" font-size=\"14.00\" fill=\"#000000\">samples = 4</text>\n<text text-anchor=\"middle\" x=\"647.5\" y=\"-602.8\" font-family=\"Times,serif\" font-size=\"14.00\" fill=\"#000000\">value = [3, 1]</text>\n<text text-anchor=\"middle\" x=\"647.5\" y=\"-587.8\" font-family=\"Times,serif\" font-size=\"14.00\" fill=\"#000000\">class = P</text>\n</g>\n<!-- 24&#45;&gt;26 -->\n<g id=\"edge26\" class=\"edge\">\n<title>24&#45;&gt;26</title>\n<path fill=\"none\" stroke=\"#000000\" d=\"M646.1995,-698.8796C646.3372,-690.6838 646.4834,-681.9891 646.626,-673.5013\"/>\n<polygon fill=\"#000000\" stroke=\"#000000\" points=\"650.1289,-673.3555 646.7975,-663.2981 643.1299,-673.2378 650.1289,-673.3555\"/>\n</g>\n<!-- 27 -->\n<g id=\"node28\" class=\"node\">\n<title>27</title>\n<polygon fill=\"#e58139\" stroke=\"#000000\" points=\"638,-536.5 543,-536.5 543,-468.5 638,-468.5 638,-536.5\"/>\n<text text-anchor=\"middle\" x=\"590.5\" y=\"-521.3\" font-family=\"Times,serif\" font-size=\"14.00\" fill=\"#000000\">gini = 0.0</text>\n<text text-anchor=\"middle\" x=\"590.5\" y=\"-506.3\" font-family=\"Times,serif\" font-size=\"14.00\" fill=\"#000000\">samples = 3</text>\n<text text-anchor=\"middle\" x=\"590.5\" y=\"-491.3\" font-family=\"Times,serif\" font-size=\"14.00\" fill=\"#000000\">value = [3, 0]</text>\n<text text-anchor=\"middle\" x=\"590.5\" y=\"-476.3\" font-family=\"Times,serif\" font-size=\"14.00\" fill=\"#000000\">class = P</text>\n</g>\n<!-- 26&#45;&gt;27 -->\n<g id=\"edge27\" class=\"edge\">\n<title>26&#45;&gt;27</title>\n<path fill=\"none\" stroke=\"#000000\" d=\"M627.5642,-579.8796C622.2971,-568.8835 616.5999,-556.9893 611.289,-545.9015\"/>\n<polygon fill=\"#000000\" stroke=\"#000000\" points=\"614.4131,-544.3217 606.9366,-536.8149 608.1,-547.3457 614.4131,-544.3217\"/>\n</g>\n<!-- 28 -->\n<g id=\"node29\" class=\"node\">\n<title>28</title>\n<polygon fill=\"#399de5\" stroke=\"#000000\" points=\"751,-536.5 656,-536.5 656,-468.5 751,-468.5 751,-536.5\"/>\n<text text-anchor=\"middle\" x=\"703.5\" y=\"-521.3\" font-family=\"Times,serif\" font-size=\"14.00\" fill=\"#000000\">gini = 0.0</text>\n<text text-anchor=\"middle\" x=\"703.5\" y=\"-506.3\" font-family=\"Times,serif\" font-size=\"14.00\" fill=\"#000000\">samples = 1</text>\n<text text-anchor=\"middle\" x=\"703.5\" y=\"-491.3\" font-family=\"Times,serif\" font-size=\"14.00\" fill=\"#000000\">value = [0, 1]</text>\n<text text-anchor=\"middle\" x=\"703.5\" y=\"-476.3\" font-family=\"Times,serif\" font-size=\"14.00\" fill=\"#000000\">class = e</text>\n</g>\n<!-- 26&#45;&gt;28 -->\n<g id=\"edge28\" class=\"edge\">\n<title>26&#45;&gt;28</title>\n<path fill=\"none\" stroke=\"#000000\" d=\"M667.0861,-579.8796C672.2607,-568.8835 677.858,-556.9893 683.0758,-545.9015\"/>\n<polygon fill=\"#000000\" stroke=\"#000000\" points=\"686.2606,-547.3534 687.3518,-536.8149 679.9269,-544.3728 686.2606,-547.3534\"/>\n</g>\n<!-- 30 -->\n<g id=\"node31\" class=\"node\">\n<title>30</title>\n<polygon fill=\"#ffffff\" stroke=\"#000000\" points=\"827,-655.5 732,-655.5 732,-587.5 827,-587.5 827,-655.5\"/>\n<text text-anchor=\"middle\" x=\"779.5\" y=\"-640.3\" font-family=\"Times,serif\" font-size=\"14.00\" fill=\"#000000\">gini = 0.5</text>\n<text text-anchor=\"middle\" x=\"779.5\" y=\"-625.3\" font-family=\"Times,serif\" font-size=\"14.00\" fill=\"#000000\">samples = 2</text>\n<text text-anchor=\"middle\" x=\"779.5\" y=\"-610.3\" font-family=\"Times,serif\" font-size=\"14.00\" fill=\"#000000\">value = [1, 1]</text>\n<text text-anchor=\"middle\" x=\"779.5\" y=\"-595.3\" font-family=\"Times,serif\" font-size=\"14.00\" fill=\"#000000\">class = P</text>\n</g>\n<!-- 29&#45;&gt;30 -->\n<g id=\"edge30\" class=\"edge\">\n<title>29&#45;&gt;30</title>\n<path fill=\"none\" stroke=\"#000000\" d=\"M780.8005,-698.8796C780.6212,-688.2134 780.4278,-676.7021 780.2462,-665.9015\"/>\n<polygon fill=\"#000000\" stroke=\"#000000\" points=\"783.7444,-665.7547 780.0767,-655.8149 776.7454,-665.8724 783.7444,-665.7547\"/>\n</g>\n<!-- 31 -->\n<g id=\"node32\" class=\"node\">\n<title>31</title>\n<polygon fill=\"#e58139\" stroke=\"#000000\" points=\"947.5,-655.5 845.5,-655.5 845.5,-587.5 947.5,-587.5 947.5,-655.5\"/>\n<text text-anchor=\"middle\" x=\"896.5\" y=\"-640.3\" font-family=\"Times,serif\" font-size=\"14.00\" fill=\"#000000\">gini = 0.0</text>\n<text text-anchor=\"middle\" x=\"896.5\" y=\"-625.3\" font-family=\"Times,serif\" font-size=\"14.00\" fill=\"#000000\">samples = 12</text>\n<text text-anchor=\"middle\" x=\"896.5\" y=\"-610.3\" font-family=\"Times,serif\" font-size=\"14.00\" fill=\"#000000\">value = [12, 0]</text>\n<text text-anchor=\"middle\" x=\"896.5\" y=\"-595.3\" font-family=\"Times,serif\" font-size=\"14.00\" fill=\"#000000\">class = P</text>\n</g>\n<!-- 29&#45;&gt;31 -->\n<g id=\"edge31\" class=\"edge\">\n<title>29&#45;&gt;31</title>\n<path fill=\"none\" stroke=\"#000000\" d=\"M821.7214,-698.8796C832.8792,-687.3337 844.9939,-674.7976 856.1586,-663.2446\"/>\n<polygon fill=\"#000000\" stroke=\"#000000\" points=\"858.9061,-665.4381 863.3385,-655.8149 853.8725,-660.5736 858.9061,-665.4381\"/>\n</g>\n<!-- 34 -->\n<g id=\"node35\" class=\"node\">\n<title>34</title>\n<polygon fill=\"#eca572\" stroke=\"#000000\" points=\"1212,-1139 1087,-1139 1087,-1056 1212,-1056 1212,-1139\"/>\n<text text-anchor=\"middle\" x=\"1149.5\" y=\"-1123.8\" font-family=\"Times,serif\" font-size=\"14.00\" fill=\"#000000\">Education &lt;= 4.25</text>\n<text text-anchor=\"middle\" x=\"1149.5\" y=\"-1108.8\" font-family=\"Times,serif\" font-size=\"14.00\" fill=\"#000000\">gini = 0.346</text>\n<text text-anchor=\"middle\" x=\"1149.5\" y=\"-1093.8\" font-family=\"Times,serif\" font-size=\"14.00\" fill=\"#000000\">samples = 18</text>\n<text text-anchor=\"middle\" x=\"1149.5\" y=\"-1078.8\" font-family=\"Times,serif\" font-size=\"14.00\" fill=\"#000000\">value = [14, 4]</text>\n<text text-anchor=\"middle\" x=\"1149.5\" y=\"-1063.8\" font-family=\"Times,serif\" font-size=\"14.00\" fill=\"#000000\">class = P</text>\n</g>\n<!-- 33&#45;&gt;34 -->\n<g id=\"edge34\" class=\"edge\">\n<title>33&#45;&gt;34</title>\n<path fill=\"none\" stroke=\"#000000\" d=\"M1191.1159,-1174.8796C1186.5144,-1166.3236 1181.6204,-1157.2238 1176.8658,-1148.3833\"/>\n<polygon fill=\"#000000\" stroke=\"#000000\" points=\"1179.7988,-1146.4473 1171.9796,-1139.2981 1173.6338,-1149.763 1179.7988,-1146.4473\"/>\n</g>\n<!-- 45 -->\n<g id=\"node46\" class=\"node\">\n<title>45</title>\n<polygon fill=\"#399de5\" stroke=\"#000000\" points=\"1325,-1131.5 1230,-1131.5 1230,-1063.5 1325,-1063.5 1325,-1131.5\"/>\n<text text-anchor=\"middle\" x=\"1277.5\" y=\"-1116.3\" font-family=\"Times,serif\" font-size=\"14.00\" fill=\"#000000\">gini = 0.0</text>\n<text text-anchor=\"middle\" x=\"1277.5\" y=\"-1101.3\" font-family=\"Times,serif\" font-size=\"14.00\" fill=\"#000000\">samples = 5</text>\n<text text-anchor=\"middle\" x=\"1277.5\" y=\"-1086.3\" font-family=\"Times,serif\" font-size=\"14.00\" fill=\"#000000\">value = [0, 5]</text>\n<text text-anchor=\"middle\" x=\"1277.5\" y=\"-1071.3\" font-family=\"Times,serif\" font-size=\"14.00\" fill=\"#000000\">class = e</text>\n</g>\n<!-- 33&#45;&gt;45 -->\n<g id=\"edge45\" class=\"edge\">\n<title>33&#45;&gt;45</title>\n<path fill=\"none\" stroke=\"#000000\" d=\"M1235.8841,-1174.8796C1241.798,-1163.8835 1248.1949,-1151.9893 1254.158,-1140.9015\"/>\n<polygon fill=\"#000000\" stroke=\"#000000\" points=\"1257.3908,-1142.2799 1259.0449,-1131.8149 1251.2258,-1138.9642 1257.3908,-1142.2799\"/>\n</g>\n<!-- 35 -->\n<g id=\"node36\" class=\"node\">\n<title>35</title>\n<polygon fill=\"#fae6d7\" stroke=\"#000000\" points=\"1148,-1020 1023,-1020 1023,-937 1148,-937 1148,-1020\"/>\n<text text-anchor=\"middle\" x=\"1085.5\" y=\"-1004.8\" font-family=\"Times,serif\" font-size=\"14.00\" fill=\"#000000\">Education &lt;= 3.85</text>\n<text text-anchor=\"middle\" x=\"1085.5\" y=\"-989.8\" font-family=\"Times,serif\" font-size=\"14.00\" fill=\"#000000\">gini = 0.494</text>\n<text text-anchor=\"middle\" x=\"1085.5\" y=\"-974.8\" font-family=\"Times,serif\" font-size=\"14.00\" fill=\"#000000\">samples = 9</text>\n<text text-anchor=\"middle\" x=\"1085.5\" y=\"-959.8\" font-family=\"Times,serif\" font-size=\"14.00\" fill=\"#000000\">value = [5, 4]</text>\n<text text-anchor=\"middle\" x=\"1085.5\" y=\"-944.8\" font-family=\"Times,serif\" font-size=\"14.00\" fill=\"#000000\">class = P</text>\n</g>\n<!-- 34&#45;&gt;35 -->\n<g id=\"edge35\" class=\"edge\">\n<title>34&#45;&gt;35</title>\n<path fill=\"none\" stroke=\"#000000\" d=\"M1127.1159,-1055.8796C1122.5144,-1047.3236 1117.6204,-1038.2238 1112.8658,-1029.3833\"/>\n<polygon fill=\"#000000\" stroke=\"#000000\" points=\"1115.7988,-1027.4473 1107.9796,-1020.2981 1109.6338,-1030.763 1115.7988,-1027.4473\"/>\n</g>\n<!-- 44 -->\n<g id=\"node45\" class=\"node\">\n<title>44</title>\n<polygon fill=\"#e58139\" stroke=\"#000000\" points=\"1261,-1012.5 1166,-1012.5 1166,-944.5 1261,-944.5 1261,-1012.5\"/>\n<text text-anchor=\"middle\" x=\"1213.5\" y=\"-997.3\" font-family=\"Times,serif\" font-size=\"14.00\" fill=\"#000000\">gini = 0.0</text>\n<text text-anchor=\"middle\" x=\"1213.5\" y=\"-982.3\" font-family=\"Times,serif\" font-size=\"14.00\" fill=\"#000000\">samples = 9</text>\n<text text-anchor=\"middle\" x=\"1213.5\" y=\"-967.3\" font-family=\"Times,serif\" font-size=\"14.00\" fill=\"#000000\">value = [9, 0]</text>\n<text text-anchor=\"middle\" x=\"1213.5\" y=\"-952.3\" font-family=\"Times,serif\" font-size=\"14.00\" fill=\"#000000\">class = P</text>\n</g>\n<!-- 34&#45;&gt;44 -->\n<g id=\"edge44\" class=\"edge\">\n<title>34&#45;&gt;44</title>\n<path fill=\"none\" stroke=\"#000000\" d=\"M1171.8841,-1055.8796C1177.798,-1044.8835 1184.1949,-1032.9893 1190.158,-1021.9015\"/>\n<polygon fill=\"#000000\" stroke=\"#000000\" points=\"1193.3908,-1023.2799 1195.0449,-1012.8149 1187.2258,-1019.9642 1193.3908,-1023.2799\"/>\n</g>\n<!-- 36 -->\n<g id=\"node37\" class=\"node\">\n<title>36</title>\n<polygon fill=\"#eca06a\" stroke=\"#000000\" points=\"1072.5,-901 962.5,-901 962.5,-818 1072.5,-818 1072.5,-901\"/>\n<text text-anchor=\"middle\" x=\"1017.5\" y=\"-885.8\" font-family=\"Times,serif\" font-size=\"14.00\" fill=\"#000000\">Income &lt;= 93.5</text>\n<text text-anchor=\"middle\" x=\"1017.5\" y=\"-870.8\" font-family=\"Times,serif\" font-size=\"14.00\" fill=\"#000000\">gini = 0.32</text>\n<text text-anchor=\"middle\" x=\"1017.5\" y=\"-855.8\" font-family=\"Times,serif\" font-size=\"14.00\" fill=\"#000000\">samples = 5</text>\n<text text-anchor=\"middle\" x=\"1017.5\" y=\"-840.8\" font-family=\"Times,serif\" font-size=\"14.00\" fill=\"#000000\">value = [4, 1]</text>\n<text text-anchor=\"middle\" x=\"1017.5\" y=\"-825.8\" font-family=\"Times,serif\" font-size=\"14.00\" fill=\"#000000\">class = P</text>\n</g>\n<!-- 35&#45;&gt;36 -->\n<g id=\"edge36\" class=\"edge\">\n<title>35&#45;&gt;36</title>\n<path fill=\"none\" stroke=\"#000000\" d=\"M1061.7169,-936.8796C1056.7763,-928.2335 1051.5184,-919.0322 1046.4167,-910.1042\"/>\n<polygon fill=\"#000000\" stroke=\"#000000\" points=\"1049.3849,-908.244 1041.3846,-901.2981 1043.3072,-911.717 1049.3849,-908.244\"/>\n</g>\n<!-- 39 -->\n<g id=\"node40\" class=\"node\">\n<title>39</title>\n<polygon fill=\"#7bbeee\" stroke=\"#000000\" points=\"1190.5,-901 1090.5,-901 1090.5,-818 1190.5,-818 1190.5,-901\"/>\n<text text-anchor=\"middle\" x=\"1140.5\" y=\"-885.8\" font-family=\"Times,serif\" font-size=\"14.00\" fill=\"#000000\">Family &lt;= 2.5</text>\n<text text-anchor=\"middle\" x=\"1140.5\" y=\"-870.8\" font-family=\"Times,serif\" font-size=\"14.00\" fill=\"#000000\">gini = 0.375</text>\n<text text-anchor=\"middle\" x=\"1140.5\" y=\"-855.8\" font-family=\"Times,serif\" font-size=\"14.00\" fill=\"#000000\">samples = 4</text>\n<text text-anchor=\"middle\" x=\"1140.5\" y=\"-840.8\" font-family=\"Times,serif\" font-size=\"14.00\" fill=\"#000000\">value = [1, 3]</text>\n<text text-anchor=\"middle\" x=\"1140.5\" y=\"-825.8\" font-family=\"Times,serif\" font-size=\"14.00\" fill=\"#000000\">class = e</text>\n</g>\n<!-- 35&#45;&gt;39 -->\n<g id=\"edge39\" class=\"edge\">\n<title>35&#45;&gt;39</title>\n<path fill=\"none\" stroke=\"#000000\" d=\"M1104.7363,-936.8796C1108.6908,-928.3236 1112.8966,-919.2238 1116.9825,-910.3833\"/>\n<polygon fill=\"#000000\" stroke=\"#000000\" points=\"1120.1632,-911.8439 1121.1816,-901.2981 1113.809,-908.907 1120.1632,-911.8439\"/>\n</g>\n<!-- 37 -->\n<g id=\"node38\" class=\"node\">\n<title>37</title>\n<polygon fill=\"#399de5\" stroke=\"#000000\" points=\"957,-774.5 862,-774.5 862,-706.5 957,-706.5 957,-774.5\"/>\n<text text-anchor=\"middle\" x=\"909.5\" y=\"-759.3\" font-family=\"Times,serif\" font-size=\"14.00\" fill=\"#000000\">gini = 0.0</text>\n<text text-anchor=\"middle\" x=\"909.5\" y=\"-744.3\" font-family=\"Times,serif\" font-size=\"14.00\" fill=\"#000000\">samples = 1</text>\n<text text-anchor=\"middle\" x=\"909.5\" y=\"-729.3\" font-family=\"Times,serif\" font-size=\"14.00\" fill=\"#000000\">value = [0, 1]</text>\n<text text-anchor=\"middle\" x=\"909.5\" y=\"-714.3\" font-family=\"Times,serif\" font-size=\"14.00\" fill=\"#000000\">class = e</text>\n</g>\n<!-- 36&#45;&gt;37 -->\n<g id=\"edge37\" class=\"edge\">\n<title>36&#45;&gt;37</title>\n<path fill=\"none\" stroke=\"#000000\" d=\"M979.7268,-817.8796C969.2482,-806.3337 957.8709,-793.7976 947.3859,-782.2446\"/>\n<polygon fill=\"#000000\" stroke=\"#000000\" points=\"949.9553,-779.8678 940.643,-774.8149 944.7718,-784.5722 949.9553,-779.8678\"/>\n</g>\n<!-- 38 -->\n<g id=\"node39\" class=\"node\">\n<title>38</title>\n<polygon fill=\"#e58139\" stroke=\"#000000\" points=\"1070,-774.5 975,-774.5 975,-706.5 1070,-706.5 1070,-774.5\"/>\n<text text-anchor=\"middle\" x=\"1022.5\" y=\"-759.3\" font-family=\"Times,serif\" font-size=\"14.00\" fill=\"#000000\">gini = 0.0</text>\n<text text-anchor=\"middle\" x=\"1022.5\" y=\"-744.3\" font-family=\"Times,serif\" font-size=\"14.00\" fill=\"#000000\">samples = 4</text>\n<text text-anchor=\"middle\" x=\"1022.5\" y=\"-729.3\" font-family=\"Times,serif\" font-size=\"14.00\" fill=\"#000000\">value = [4, 0]</text>\n<text text-anchor=\"middle\" x=\"1022.5\" y=\"-714.3\" font-family=\"Times,serif\" font-size=\"14.00\" fill=\"#000000\">class = P</text>\n</g>\n<!-- 36&#45;&gt;38 -->\n<g id=\"edge38\" class=\"edge\">\n<title>36&#45;&gt;38</title>\n<path fill=\"none\" stroke=\"#000000\" d=\"M1019.2488,-817.8796C1019.6969,-807.2134 1020.1806,-795.7021 1020.6344,-784.9015\"/>\n<polygon fill=\"#000000\" stroke=\"#000000\" points=\"1024.1352,-784.9531 1021.0582,-774.8149 1017.1414,-784.6592 1024.1352,-784.9531\"/>\n</g>\n<!-- 40 -->\n<g id=\"node41\" class=\"node\">\n<title>40</title>\n<polygon fill=\"#399de5\" stroke=\"#000000\" points=\"1183,-774.5 1088,-774.5 1088,-706.5 1183,-706.5 1183,-774.5\"/>\n<text text-anchor=\"middle\" x=\"1135.5\" y=\"-759.3\" font-family=\"Times,serif\" font-size=\"14.00\" fill=\"#000000\">gini = 0.0</text>\n<text text-anchor=\"middle\" x=\"1135.5\" y=\"-744.3\" font-family=\"Times,serif\" font-size=\"14.00\" fill=\"#000000\">samples = 2</text>\n<text text-anchor=\"middle\" x=\"1135.5\" y=\"-729.3\" font-family=\"Times,serif\" font-size=\"14.00\" fill=\"#000000\">value = [0, 2]</text>\n<text text-anchor=\"middle\" x=\"1135.5\" y=\"-714.3\" font-family=\"Times,serif\" font-size=\"14.00\" fill=\"#000000\">class = e</text>\n</g>\n<!-- 39&#45;&gt;40 -->\n<g id=\"edge40\" class=\"edge\">\n<title>39&#45;&gt;40</title>\n<path fill=\"none\" stroke=\"#000000\" d=\"M1138.7512,-817.8796C1138.3031,-807.2134 1137.8194,-795.7021 1137.3656,-784.9015\"/>\n<polygon fill=\"#000000\" stroke=\"#000000\" points=\"1140.8586,-784.6592 1136.9418,-774.8149 1133.8648,-784.9531 1140.8586,-784.6592\"/>\n</g>\n<!-- 41 -->\n<g id=\"node42\" class=\"node\">\n<title>41</title>\n<polygon fill=\"#ffffff\" stroke=\"#000000\" points=\"1311.5,-782 1201.5,-782 1201.5,-699 1311.5,-699 1311.5,-782\"/>\n<text text-anchor=\"middle\" x=\"1256.5\" y=\"-766.8\" font-family=\"Times,serif\" font-size=\"14.00\" fill=\"#000000\">Income &lt;= 96.5</text>\n<text text-anchor=\"middle\" x=\"1256.5\" y=\"-751.8\" font-family=\"Times,serif\" font-size=\"14.00\" fill=\"#000000\">gini = 0.5</text>\n<text text-anchor=\"middle\" x=\"1256.5\" y=\"-736.8\" font-family=\"Times,serif\" font-size=\"14.00\" fill=\"#000000\">samples = 2</text>\n<text text-anchor=\"middle\" x=\"1256.5\" y=\"-721.8\" font-family=\"Times,serif\" font-size=\"14.00\" fill=\"#000000\">value = [1, 1]</text>\n<text text-anchor=\"middle\" x=\"1256.5\" y=\"-706.8\" font-family=\"Times,serif\" font-size=\"14.00\" fill=\"#000000\">class = P</text>\n</g>\n<!-- 39&#45;&gt;41 -->\n<g id=\"edge41\" class=\"edge\">\n<title>39&#45;&gt;41</title>\n<path fill=\"none\" stroke=\"#000000\" d=\"M1181.0712,-817.8796C1189.9382,-808.7832 1199.4044,-799.0722 1208.5291,-789.7116\"/>\n<polygon fill=\"#000000\" stroke=\"#000000\" points=\"1211.2817,-791.9019 1215.7557,-782.2981 1206.2691,-787.0158 1211.2817,-791.9019\"/>\n</g>\n<!-- 42 -->\n<g id=\"node43\" class=\"node\">\n<title>42</title>\n<polygon fill=\"#399de5\" stroke=\"#000000\" points=\"1197,-655.5 1102,-655.5 1102,-587.5 1197,-587.5 1197,-655.5\"/>\n<text text-anchor=\"middle\" x=\"1149.5\" y=\"-640.3\" font-family=\"Times,serif\" font-size=\"14.00\" fill=\"#000000\">gini = 0.0</text>\n<text text-anchor=\"middle\" x=\"1149.5\" y=\"-625.3\" font-family=\"Times,serif\" font-size=\"14.00\" fill=\"#000000\">samples = 1</text>\n<text text-anchor=\"middle\" x=\"1149.5\" y=\"-610.3\" font-family=\"Times,serif\" font-size=\"14.00\" fill=\"#000000\">value = [0, 1]</text>\n<text text-anchor=\"middle\" x=\"1149.5\" y=\"-595.3\" font-family=\"Times,serif\" font-size=\"14.00\" fill=\"#000000\">class = e</text>\n</g>\n<!-- 41&#45;&gt;42 -->\n<g id=\"edge42\" class=\"edge\">\n<title>41&#45;&gt;42</title>\n<path fill=\"none\" stroke=\"#000000\" d=\"M1219.0766,-698.8796C1208.7939,-687.4436 1197.6377,-675.0363 1187.3321,-663.575\"/>\n<polygon fill=\"#000000\" stroke=\"#000000\" points=\"1189.6435,-660.9108 1180.3546,-655.8149 1184.4382,-665.5912 1189.6435,-660.9108\"/>\n</g>\n<!-- 43 -->\n<g id=\"node44\" class=\"node\">\n<title>43</title>\n<polygon fill=\"#e58139\" stroke=\"#000000\" points=\"1310,-655.5 1215,-655.5 1215,-587.5 1310,-587.5 1310,-655.5\"/>\n<text text-anchor=\"middle\" x=\"1262.5\" y=\"-640.3\" font-family=\"Times,serif\" font-size=\"14.00\" fill=\"#000000\">gini = 0.0</text>\n<text text-anchor=\"middle\" x=\"1262.5\" y=\"-625.3\" font-family=\"Times,serif\" font-size=\"14.00\" fill=\"#000000\">samples = 1</text>\n<text text-anchor=\"middle\" x=\"1262.5\" y=\"-610.3\" font-family=\"Times,serif\" font-size=\"14.00\" fill=\"#000000\">value = [1, 0]</text>\n<text text-anchor=\"middle\" x=\"1262.5\" y=\"-595.3\" font-family=\"Times,serif\" font-size=\"14.00\" fill=\"#000000\">class = P</text>\n</g>\n<!-- 41&#45;&gt;43 -->\n<g id=\"edge43\" class=\"edge\">\n<title>41&#45;&gt;43</title>\n<path fill=\"none\" stroke=\"#000000\" d=\"M1258.5985,-698.8796C1259.1363,-688.2134 1259.7167,-676.7021 1260.2613,-665.9015\"/>\n<polygon fill=\"#000000\" stroke=\"#000000\" points=\"1263.7617,-665.9785 1260.7698,-655.8149 1256.7706,-665.626 1263.7617,-665.9785\"/>\n</g>\n<!-- 47 -->\n<g id=\"node48\" class=\"node\">\n<title>47</title>\n<polygon fill=\"#e89152\" stroke=\"#000000\" points=\"1868,-1377 1751,-1377 1751,-1294 1868,-1294 1868,-1377\"/>\n<text text-anchor=\"middle\" x=\"1809.5\" y=\"-1361.8\" font-family=\"Times,serif\" font-size=\"14.00\" fill=\"#000000\">CCAvg &lt;= 2.5</text>\n<text text-anchor=\"middle\" x=\"1809.5\" y=\"-1346.8\" font-family=\"Times,serif\" font-size=\"14.00\" fill=\"#000000\">gini = 0.198</text>\n<text text-anchor=\"middle\" x=\"1809.5\" y=\"-1331.8\" font-family=\"Times,serif\" font-size=\"14.00\" fill=\"#000000\">samples = 594</text>\n<text text-anchor=\"middle\" x=\"1809.5\" y=\"-1316.8\" font-family=\"Times,serif\" font-size=\"14.00\" fill=\"#000000\">value = [528, 66]</text>\n<text text-anchor=\"middle\" x=\"1809.5\" y=\"-1301.8\" font-family=\"Times,serif\" font-size=\"14.00\" fill=\"#000000\">class = P</text>\n</g>\n<!-- 46&#45;&gt;47 -->\n<g id=\"edge47\" class=\"edge\">\n<title>46&#45;&gt;47</title>\n<path fill=\"none\" stroke=\"#000000\" d=\"M1809.5,-1412.8796C1809.5,-1404.6838 1809.5,-1395.9891 1809.5,-1387.5013\"/>\n<polygon fill=\"#000000\" stroke=\"#000000\" points=\"1813.0001,-1387.298 1809.5,-1377.2981 1806.0001,-1387.2981 1813.0001,-1387.298\"/>\n</g>\n<!-- 72 -->\n<g id=\"node73\" class=\"node\">\n<title>72</title>\n<polygon fill=\"#75bbed\" stroke=\"#000000\" points=\"2273,-1377 2156,-1377 2156,-1294 2273,-1294 2273,-1377\"/>\n<text text-anchor=\"middle\" x=\"2214.5\" y=\"-1361.8\" font-family=\"Times,serif\" font-size=\"14.00\" fill=\"#000000\">Income &lt;= 116.5</text>\n<text text-anchor=\"middle\" x=\"2214.5\" y=\"-1346.8\" font-family=\"Times,serif\" font-size=\"14.00\" fill=\"#000000\">gini = 0.358</text>\n<text text-anchor=\"middle\" x=\"2214.5\" y=\"-1331.8\" font-family=\"Times,serif\" font-size=\"14.00\" fill=\"#000000\">samples = 398</text>\n<text text-anchor=\"middle\" x=\"2214.5\" y=\"-1316.8\" font-family=\"Times,serif\" font-size=\"14.00\" fill=\"#000000\">value = [93, 305]</text>\n<text text-anchor=\"middle\" x=\"2214.5\" y=\"-1301.8\" font-family=\"Times,serif\" font-size=\"14.00\" fill=\"#000000\">class = e</text>\n</g>\n<!-- 46&#45;&gt;72 -->\n<g id=\"edge72\" class=\"edge\">\n<title>46&#45;&gt;72</title>\n<path fill=\"none\" stroke=\"#000000\" d=\"M1872.3369,-1436.0368C1946.4401,-1414.2633 2069.194,-1378.1949 2145.7695,-1355.6949\"/>\n<polygon fill=\"#000000\" stroke=\"#000000\" points=\"2147.1882,-1358.9261 2155.7959,-1352.7488 2145.2148,-1352.21 2147.1882,-1358.9261\"/>\n</g>\n<!-- 48 -->\n<g id=\"node49\" class=\"node\">\n<title>48</title>\n<polygon fill=\"#e5823b\" stroke=\"#000000\" points=\"1801,-1258 1684,-1258 1684,-1175 1801,-1175 1801,-1258\"/>\n<text text-anchor=\"middle\" x=\"1742.5\" y=\"-1242.8\" font-family=\"Times,serif\" font-size=\"14.00\" fill=\"#000000\">Income &lt;= 104.5</text>\n<text text-anchor=\"middle\" x=\"1742.5\" y=\"-1227.8\" font-family=\"Times,serif\" font-size=\"14.00\" fill=\"#000000\">gini = 0.019</text>\n<text text-anchor=\"middle\" x=\"1742.5\" y=\"-1212.8\" font-family=\"Times,serif\" font-size=\"14.00\" fill=\"#000000\">samples = 518</text>\n<text text-anchor=\"middle\" x=\"1742.5\" y=\"-1197.8\" font-family=\"Times,serif\" font-size=\"14.00\" fill=\"#000000\">value = [513, 5]</text>\n<text text-anchor=\"middle\" x=\"1742.5\" y=\"-1182.8\" font-family=\"Times,serif\" font-size=\"14.00\" fill=\"#000000\">class = P</text>\n</g>\n<!-- 47&#45;&gt;48 -->\n<g id=\"edge48\" class=\"edge\">\n<title>47&#45;&gt;48</title>\n<path fill=\"none\" stroke=\"#000000\" d=\"M1786.0667,-1293.8796C1781.1987,-1285.2335 1776.0181,-1276.0322 1770.9914,-1267.1042\"/>\n<polygon fill=\"#000000\" stroke=\"#000000\" points=\"1773.9893,-1265.2947 1766.0334,-1258.2981 1767.8897,-1268.729 1773.9893,-1265.2947\"/>\n</g>\n<!-- 61 -->\n<g id=\"node62\" class=\"node\">\n<title>61</title>\n<polygon fill=\"#6ab5eb\" stroke=\"#000000\" points=\"1935.5,-1258 1819.5,-1258 1819.5,-1175 1935.5,-1175 1935.5,-1258\"/>\n<text text-anchor=\"middle\" x=\"1877.5\" y=\"-1242.8\" font-family=\"Times,serif\" font-size=\"14.00\" fill=\"#000000\">Income &lt;= 113.5</text>\n<text text-anchor=\"middle\" x=\"1877.5\" y=\"-1227.8\" font-family=\"Times,serif\" font-size=\"14.00\" fill=\"#000000\">gini = 0.317</text>\n<text text-anchor=\"middle\" x=\"1877.5\" y=\"-1212.8\" font-family=\"Times,serif\" font-size=\"14.00\" fill=\"#000000\">samples = 76</text>\n<text text-anchor=\"middle\" x=\"1877.5\" y=\"-1197.8\" font-family=\"Times,serif\" font-size=\"14.00\" fill=\"#000000\">value = [15, 61]</text>\n<text text-anchor=\"middle\" x=\"1877.5\" y=\"-1182.8\" font-family=\"Times,serif\" font-size=\"14.00\" fill=\"#000000\">class = e</text>\n</g>\n<!-- 47&#45;&gt;61 -->\n<g id=\"edge61\" class=\"edge\">\n<title>47&#45;&gt;61</title>\n<path fill=\"none\" stroke=\"#000000\" d=\"M1833.2831,-1293.8796C1838.2237,-1285.2335 1843.4816,-1276.0322 1848.5833,-1267.1042\"/>\n<polygon fill=\"#000000\" stroke=\"#000000\" points=\"1851.6928,-1268.717 1853.6154,-1258.2981 1845.6151,-1265.244 1851.6928,-1268.717\"/>\n</g>\n<!-- 49 -->\n<g id=\"node50\" class=\"node\">\n<title>49</title>\n<polygon fill=\"#eda877\" stroke=\"#000000\" points=\"1672,-1139 1539,-1139 1539,-1056 1672,-1056 1672,-1139\"/>\n<text text-anchor=\"middle\" x=\"1605.5\" y=\"-1123.8\" font-family=\"Times,serif\" font-size=\"14.00\" fill=\"#000000\">Education &lt;= 3.317</text>\n<text text-anchor=\"middle\" x=\"1605.5\" y=\"-1108.8\" font-family=\"Times,serif\" font-size=\"14.00\" fill=\"#000000\">gini = 0.363</text>\n<text text-anchor=\"middle\" x=\"1605.5\" y=\"-1093.8\" font-family=\"Times,serif\" font-size=\"14.00\" fill=\"#000000\">samples = 21</text>\n<text text-anchor=\"middle\" x=\"1605.5\" y=\"-1078.8\" font-family=\"Times,serif\" font-size=\"14.00\" fill=\"#000000\">value = [16, 5]</text>\n<text text-anchor=\"middle\" x=\"1605.5\" y=\"-1063.8\" font-family=\"Times,serif\" font-size=\"14.00\" fill=\"#000000\">class = P</text>\n</g>\n<!-- 48&#45;&gt;49 -->\n<g id=\"edge49\" class=\"edge\">\n<title>48&#45;&gt;49</title>\n<path fill=\"none\" stroke=\"#000000\" d=\"M1694.584,-1174.8796C1683.8007,-1165.513 1672.2671,-1155.4948 1661.1961,-1145.8784\"/>\n<polygon fill=\"#000000\" stroke=\"#000000\" points=\"1663.4653,-1143.2134 1653.6205,-1139.2981 1658.8749,-1148.4982 1663.4653,-1143.2134\"/>\n</g>\n<!-- 60 -->\n<g id=\"node61\" class=\"node\">\n<title>60</title>\n<polygon fill=\"#e58139\" stroke=\"#000000\" points=\"1800.5,-1131.5 1690.5,-1131.5 1690.5,-1063.5 1800.5,-1063.5 1800.5,-1131.5\"/>\n<text text-anchor=\"middle\" x=\"1745.5\" y=\"-1116.3\" font-family=\"Times,serif\" font-size=\"14.00\" fill=\"#000000\">gini = 0.0</text>\n<text text-anchor=\"middle\" x=\"1745.5\" y=\"-1101.3\" font-family=\"Times,serif\" font-size=\"14.00\" fill=\"#000000\">samples = 497</text>\n<text text-anchor=\"middle\" x=\"1745.5\" y=\"-1086.3\" font-family=\"Times,serif\" font-size=\"14.00\" fill=\"#000000\">value = [497, 0]</text>\n<text text-anchor=\"middle\" x=\"1745.5\" y=\"-1071.3\" font-family=\"Times,serif\" font-size=\"14.00\" fill=\"#000000\">class = P</text>\n</g>\n<!-- 48&#45;&gt;60 -->\n<g id=\"edge60\" class=\"edge\">\n<title>48&#45;&gt;60</title>\n<path fill=\"none\" stroke=\"#000000\" d=\"M1743.5493,-1174.8796C1743.8182,-1164.2134 1744.1084,-1152.7021 1744.3806,-1141.9015\"/>\n<polygon fill=\"#000000\" stroke=\"#000000\" points=\"1747.8817,-1141.9 1744.6349,-1131.8149 1740.8839,-1141.7235 1747.8817,-1141.9\"/>\n</g>\n<!-- 50 -->\n<g id=\"node51\" class=\"node\">\n<title>50</title>\n<polygon fill=\"#e58139\" stroke=\"#000000\" points=\"1532.5,-1012.5 1430.5,-1012.5 1430.5,-944.5 1532.5,-944.5 1532.5,-1012.5\"/>\n<text text-anchor=\"middle\" x=\"1481.5\" y=\"-997.3\" font-family=\"Times,serif\" font-size=\"14.00\" fill=\"#000000\">gini = 0.0</text>\n<text text-anchor=\"middle\" x=\"1481.5\" y=\"-982.3\" font-family=\"Times,serif\" font-size=\"14.00\" fill=\"#000000\">samples = 12</text>\n<text text-anchor=\"middle\" x=\"1481.5\" y=\"-967.3\" font-family=\"Times,serif\" font-size=\"14.00\" fill=\"#000000\">value = [12, 0]</text>\n<text text-anchor=\"middle\" x=\"1481.5\" y=\"-952.3\" font-family=\"Times,serif\" font-size=\"14.00\" fill=\"#000000\">class = P</text>\n</g>\n<!-- 49&#45;&gt;50 -->\n<g id=\"edge50\" class=\"edge\">\n<title>49&#45;&gt;50</title>\n<path fill=\"none\" stroke=\"#000000\" d=\"M1562.1308,-1055.8796C1549.9852,-1044.2237 1536.7881,-1031.5587 1524.6549,-1019.9148\"/>\n<polygon fill=\"#000000\" stroke=\"#000000\" points=\"1526.8953,-1017.2138 1517.2567,-1012.8149 1522.0484,-1022.2643 1526.8953,-1017.2138\"/>\n</g>\n<!-- 51 -->\n<g id=\"node52\" class=\"node\">\n<title>51</title>\n<polygon fill=\"#d7ebfa\" stroke=\"#000000\" points=\"1668.5,-1020 1550.5,-1020 1550.5,-937 1668.5,-937 1668.5,-1020\"/>\n<text text-anchor=\"middle\" x=\"1609.5\" y=\"-1004.8\" font-family=\"Times,serif\" font-size=\"14.00\" fill=\"#000000\">Education &lt;= 4.5</text>\n<text text-anchor=\"middle\" x=\"1609.5\" y=\"-989.8\" font-family=\"Times,serif\" font-size=\"14.00\" fill=\"#000000\">gini = 0.494</text>\n<text text-anchor=\"middle\" x=\"1609.5\" y=\"-974.8\" font-family=\"Times,serif\" font-size=\"14.00\" fill=\"#000000\">samples = 9</text>\n<text text-anchor=\"middle\" x=\"1609.5\" y=\"-959.8\" font-family=\"Times,serif\" font-size=\"14.00\" fill=\"#000000\">value = [4, 5]</text>\n<text text-anchor=\"middle\" x=\"1609.5\" y=\"-944.8\" font-family=\"Times,serif\" font-size=\"14.00\" fill=\"#000000\">class = e</text>\n</g>\n<!-- 49&#45;&gt;51 -->\n<g id=\"edge51\" class=\"edge\">\n<title>49&#45;&gt;51</title>\n<path fill=\"none\" stroke=\"#000000\" d=\"M1606.899,-1055.8796C1607.1745,-1047.6838 1607.4668,-1038.9891 1607.7521,-1030.5013\"/>\n<polygon fill=\"#000000\" stroke=\"#000000\" points=\"1611.257,-1030.41 1608.095,-1020.2981 1604.261,-1030.1748 1611.257,-1030.41\"/>\n</g>\n<!-- 52 -->\n<g id=\"node53\" class=\"node\">\n<title>52</title>\n<polygon fill=\"#6ab6ec\" stroke=\"#000000\" points=\"1541,-901 1424,-901 1424,-818 1541,-818 1541,-901\"/>\n<text text-anchor=\"middle\" x=\"1482.5\" y=\"-885.8\" font-family=\"Times,serif\" font-size=\"14.00\" fill=\"#000000\">Income &lt;= 103.5</text>\n<text text-anchor=\"middle\" x=\"1482.5\" y=\"-870.8\" font-family=\"Times,serif\" font-size=\"14.00\" fill=\"#000000\">gini = 0.32</text>\n<text text-anchor=\"middle\" x=\"1482.5\" y=\"-855.8\" font-family=\"Times,serif\" font-size=\"14.00\" fill=\"#000000\">samples = 5</text>\n<text text-anchor=\"middle\" x=\"1482.5\" y=\"-840.8\" font-family=\"Times,serif\" font-size=\"14.00\" fill=\"#000000\">value = [1, 4]</text>\n<text text-anchor=\"middle\" x=\"1482.5\" y=\"-825.8\" font-family=\"Times,serif\" font-size=\"14.00\" fill=\"#000000\">class = e</text>\n</g>\n<!-- 51&#45;&gt;52 -->\n<g id=\"edge52\" class=\"edge\">\n<title>51&#45;&gt;52</title>\n<path fill=\"none\" stroke=\"#000000\" d=\"M1565.0816,-936.8796C1555.1814,-927.6031 1544.5991,-917.6874 1534.4269,-908.1559\"/>\n<polygon fill=\"#000000\" stroke=\"#000000\" points=\"1536.7984,-905.5816 1527.108,-901.2981 1532.0121,-910.6896 1536.7984,-905.5816\"/>\n</g>\n<!-- 57 -->\n<g id=\"node58\" class=\"node\">\n<title>57</title>\n<polygon fill=\"#eeab7b\" stroke=\"#000000\" points=\"1669.5,-901 1559.5,-901 1559.5,-818 1669.5,-818 1669.5,-901\"/>\n<text text-anchor=\"middle\" x=\"1614.5\" y=\"-885.8\" font-family=\"Times,serif\" font-size=\"14.00\" fill=\"#000000\">Income &lt;= 99.5</text>\n<text text-anchor=\"middle\" x=\"1614.5\" y=\"-870.8\" font-family=\"Times,serif\" font-size=\"14.00\" fill=\"#000000\">gini = 0.375</text>\n<text text-anchor=\"middle\" x=\"1614.5\" y=\"-855.8\" font-family=\"Times,serif\" font-size=\"14.00\" fill=\"#000000\">samples = 4</text>\n<text text-anchor=\"middle\" x=\"1614.5\" y=\"-840.8\" font-family=\"Times,serif\" font-size=\"14.00\" fill=\"#000000\">value = [3, 1]</text>\n<text text-anchor=\"middle\" x=\"1614.5\" y=\"-825.8\" font-family=\"Times,serif\" font-size=\"14.00\" fill=\"#000000\">class = P</text>\n</g>\n<!-- 51&#45;&gt;57 -->\n<g id=\"edge57\" class=\"edge\">\n<title>51&#45;&gt;57</title>\n<path fill=\"none\" stroke=\"#000000\" d=\"M1611.2488,-936.8796C1611.5931,-928.6838 1611.9584,-919.9891 1612.3151,-911.5013\"/>\n<polygon fill=\"#000000\" stroke=\"#000000\" points=\"1615.8208,-911.4362 1612.7438,-901.2981 1608.827,-911.1423 1615.8208,-911.4362\"/>\n</g>\n<!-- 53 -->\n<g id=\"node54\" class=\"node\">\n<title>53</title>\n<polygon fill=\"#399de5\" stroke=\"#000000\" points=\"1425,-774.5 1330,-774.5 1330,-706.5 1425,-706.5 1425,-774.5\"/>\n<text text-anchor=\"middle\" x=\"1377.5\" y=\"-759.3\" font-family=\"Times,serif\" font-size=\"14.00\" fill=\"#000000\">gini = 0.0</text>\n<text text-anchor=\"middle\" x=\"1377.5\" y=\"-744.3\" font-family=\"Times,serif\" font-size=\"14.00\" fill=\"#000000\">samples = 3</text>\n<text text-anchor=\"middle\" x=\"1377.5\" y=\"-729.3\" font-family=\"Times,serif\" font-size=\"14.00\" fill=\"#000000\">value = [0, 3]</text>\n<text text-anchor=\"middle\" x=\"1377.5\" y=\"-714.3\" font-family=\"Times,serif\" font-size=\"14.00\" fill=\"#000000\">class = e</text>\n</g>\n<!-- 52&#45;&gt;53 -->\n<g id=\"edge53\" class=\"edge\">\n<title>52&#45;&gt;53</title>\n<path fill=\"none\" stroke=\"#000000\" d=\"M1445.7761,-817.8796C1435.6856,-806.4436 1424.7379,-794.0363 1414.625,-782.575\"/>\n<polygon fill=\"#000000\" stroke=\"#000000\" points=\"1417.0186,-779.9977 1407.7779,-774.8149 1411.7697,-784.629 1417.0186,-779.9977\"/>\n</g>\n<!-- 54 -->\n<g id=\"node55\" class=\"node\">\n<title>54</title>\n<polygon fill=\"#ffffff\" stroke=\"#000000\" points=\"1547.5,-782 1443.5,-782 1443.5,-699 1547.5,-699 1547.5,-782\"/>\n<text text-anchor=\"middle\" x=\"1495.5\" y=\"-766.8\" font-family=\"Times,serif\" font-size=\"14.00\" fill=\"#000000\">CCAvg &lt;= 1.5</text>\n<text text-anchor=\"middle\" x=\"1495.5\" y=\"-751.8\" font-family=\"Times,serif\" font-size=\"14.00\" fill=\"#000000\">gini = 0.5</text>\n<text text-anchor=\"middle\" x=\"1495.5\" y=\"-736.8\" font-family=\"Times,serif\" font-size=\"14.00\" fill=\"#000000\">samples = 2</text>\n<text text-anchor=\"middle\" x=\"1495.5\" y=\"-721.8\" font-family=\"Times,serif\" font-size=\"14.00\" fill=\"#000000\">value = [1, 1]</text>\n<text text-anchor=\"middle\" x=\"1495.5\" y=\"-706.8\" font-family=\"Times,serif\" font-size=\"14.00\" fill=\"#000000\">class = P</text>\n</g>\n<!-- 52&#45;&gt;54 -->\n<g id=\"edge54\" class=\"edge\">\n<title>52&#45;&gt;54</title>\n<path fill=\"none\" stroke=\"#000000\" d=\"M1487.0468,-817.8796C1487.9421,-809.6838 1488.8919,-800.9891 1489.8192,-792.5013\"/>\n<polygon fill=\"#000000\" stroke=\"#000000\" points=\"1493.3271,-792.6191 1490.9338,-782.2981 1486.3685,-791.8588 1493.3271,-792.6191\"/>\n</g>\n<!-- 55 -->\n<g id=\"node56\" class=\"node\">\n<title>55</title>\n<polygon fill=\"#e58139\" stroke=\"#000000\" points=\"1476,-655.5 1381,-655.5 1381,-587.5 1476,-587.5 1476,-655.5\"/>\n<text text-anchor=\"middle\" x=\"1428.5\" y=\"-640.3\" font-family=\"Times,serif\" font-size=\"14.00\" fill=\"#000000\">gini = 0.0</text>\n<text text-anchor=\"middle\" x=\"1428.5\" y=\"-625.3\" font-family=\"Times,serif\" font-size=\"14.00\" fill=\"#000000\">samples = 1</text>\n<text text-anchor=\"middle\" x=\"1428.5\" y=\"-610.3\" font-family=\"Times,serif\" font-size=\"14.00\" fill=\"#000000\">value = [1, 0]</text>\n<text text-anchor=\"middle\" x=\"1428.5\" y=\"-595.3\" font-family=\"Times,serif\" font-size=\"14.00\" fill=\"#000000\">class = P</text>\n</g>\n<!-- 54&#45;&gt;55 -->\n<g id=\"edge55\" class=\"edge\">\n<title>54&#45;&gt;55</title>\n<path fill=\"none\" stroke=\"#000000\" d=\"M1472.0667,-698.8796C1465.8137,-687.7735 1459.0448,-675.7513 1452.749,-664.5691\"/>\n<polygon fill=\"#000000\" stroke=\"#000000\" points=\"1455.7761,-662.8116 1447.8202,-655.8149 1449.6765,-666.2459 1455.7761,-662.8116\"/>\n</g>\n<!-- 56 -->\n<g id=\"node57\" class=\"node\">\n<title>56</title>\n<polygon fill=\"#399de5\" stroke=\"#000000\" points=\"1589,-655.5 1494,-655.5 1494,-587.5 1589,-587.5 1589,-655.5\"/>\n<text text-anchor=\"middle\" x=\"1541.5\" y=\"-640.3\" font-family=\"Times,serif\" font-size=\"14.00\" fill=\"#000000\">gini = 0.0</text>\n<text text-anchor=\"middle\" x=\"1541.5\" y=\"-625.3\" font-family=\"Times,serif\" font-size=\"14.00\" fill=\"#000000\">samples = 1</text>\n<text text-anchor=\"middle\" x=\"1541.5\" y=\"-610.3\" font-family=\"Times,serif\" font-size=\"14.00\" fill=\"#000000\">value = [0, 1]</text>\n<text text-anchor=\"middle\" x=\"1541.5\" y=\"-595.3\" font-family=\"Times,serif\" font-size=\"14.00\" fill=\"#000000\">class = e</text>\n</g>\n<!-- 54&#45;&gt;56 -->\n<g id=\"edge56\" class=\"edge\">\n<title>54&#45;&gt;56</title>\n<path fill=\"none\" stroke=\"#000000\" d=\"M1511.5886,-698.8796C1515.7966,-687.9935 1520.345,-676.227 1524.5943,-665.2344\"/>\n<polygon fill=\"#000000\" stroke=\"#000000\" points=\"1527.8944,-666.4043 1528.2354,-655.8149 1521.3652,-663.8804 1527.8944,-666.4043\"/>\n</g>\n<!-- 58 -->\n<g id=\"node59\" class=\"node\">\n<title>58</title>\n<polygon fill=\"#399de5\" stroke=\"#000000\" points=\"1661,-774.5 1566,-774.5 1566,-706.5 1661,-706.5 1661,-774.5\"/>\n<text text-anchor=\"middle\" x=\"1613.5\" y=\"-759.3\" font-family=\"Times,serif\" font-size=\"14.00\" fill=\"#000000\">gini = 0.0</text>\n<text text-anchor=\"middle\" x=\"1613.5\" y=\"-744.3\" font-family=\"Times,serif\" font-size=\"14.00\" fill=\"#000000\">samples = 1</text>\n<text text-anchor=\"middle\" x=\"1613.5\" y=\"-729.3\" font-family=\"Times,serif\" font-size=\"14.00\" fill=\"#000000\">value = [0, 1]</text>\n<text text-anchor=\"middle\" x=\"1613.5\" y=\"-714.3\" font-family=\"Times,serif\" font-size=\"14.00\" fill=\"#000000\">class = e</text>\n</g>\n<!-- 57&#45;&gt;58 -->\n<g id=\"edge58\" class=\"edge\">\n<title>57&#45;&gt;58</title>\n<path fill=\"none\" stroke=\"#000000\" d=\"M1614.1502,-817.8796C1614.0606,-807.2134 1613.9639,-795.7021 1613.8731,-784.9015\"/>\n<polygon fill=\"#000000\" stroke=\"#000000\" points=\"1617.3724,-784.7851 1613.7884,-774.8149 1610.3726,-784.844 1617.3724,-784.7851\"/>\n</g>\n<!-- 59 -->\n<g id=\"node60\" class=\"node\">\n<title>59</title>\n<polygon fill=\"#e58139\" stroke=\"#000000\" points=\"1774,-774.5 1679,-774.5 1679,-706.5 1774,-706.5 1774,-774.5\"/>\n<text text-anchor=\"middle\" x=\"1726.5\" y=\"-759.3\" font-family=\"Times,serif\" font-size=\"14.00\" fill=\"#000000\">gini = 0.0</text>\n<text text-anchor=\"middle\" x=\"1726.5\" y=\"-744.3\" font-family=\"Times,serif\" font-size=\"14.00\" fill=\"#000000\">samples = 3</text>\n<text text-anchor=\"middle\" x=\"1726.5\" y=\"-729.3\" font-family=\"Times,serif\" font-size=\"14.00\" fill=\"#000000\">value = [3, 0]</text>\n<text text-anchor=\"middle\" x=\"1726.5\" y=\"-714.3\" font-family=\"Times,serif\" font-size=\"14.00\" fill=\"#000000\">class = P</text>\n</g>\n<!-- 57&#45;&gt;59 -->\n<g id=\"edge59\" class=\"edge\">\n<title>57&#45;&gt;59</title>\n<path fill=\"none\" stroke=\"#000000\" d=\"M1653.6722,-817.8796C1664.5389,-806.3337 1676.3376,-793.7976 1687.2109,-782.2446\"/>\n<polygon fill=\"#000000\" stroke=\"#000000\" points=\"1689.8986,-784.4958 1694.2036,-774.8149 1684.8012,-779.6982 1689.8986,-784.4958\"/>\n</g>\n<!-- 62 -->\n<g id=\"node63\" class=\"node\">\n<title>62</title>\n<polygon fill=\"#efb388\" stroke=\"#000000\" points=\"1927.5,-1139 1823.5,-1139 1823.5,-1056 1927.5,-1056 1927.5,-1139\"/>\n<text text-anchor=\"middle\" x=\"1875.5\" y=\"-1123.8\" font-family=\"Times,serif\" font-size=\"14.00\" fill=\"#000000\">CCAvg &lt;= 3.5</text>\n<text text-anchor=\"middle\" x=\"1875.5\" y=\"-1108.8\" font-family=\"Times,serif\" font-size=\"14.00\" fill=\"#000000\">gini = 0.408</text>\n<text text-anchor=\"middle\" x=\"1875.5\" y=\"-1093.8\" font-family=\"Times,serif\" font-size=\"14.00\" fill=\"#000000\">samples = 21</text>\n<text text-anchor=\"middle\" x=\"1875.5\" y=\"-1078.8\" font-family=\"Times,serif\" font-size=\"14.00\" fill=\"#000000\">value = [15, 6]</text>\n<text text-anchor=\"middle\" x=\"1875.5\" y=\"-1063.8\" font-family=\"Times,serif\" font-size=\"14.00\" fill=\"#000000\">class = P</text>\n</g>\n<!-- 61&#45;&gt;62 -->\n<g id=\"edge62\" class=\"edge\">\n<title>61&#45;&gt;62</title>\n<path fill=\"none\" stroke=\"#000000\" d=\"M1876.8005,-1174.8796C1876.6628,-1166.6838 1876.5166,-1157.9891 1876.374,-1149.5013\"/>\n<polygon fill=\"#000000\" stroke=\"#000000\" points=\"1879.8701,-1149.2378 1876.2025,-1139.2981 1872.8711,-1149.3555 1879.8701,-1149.2378\"/>\n</g>\n<!-- 71 -->\n<g id=\"node72\" class=\"node\">\n<title>71</title>\n<polygon fill=\"#399de5\" stroke=\"#000000\" points=\"2047.5,-1131.5 1945.5,-1131.5 1945.5,-1063.5 2047.5,-1063.5 2047.5,-1131.5\"/>\n<text text-anchor=\"middle\" x=\"1996.5\" y=\"-1116.3\" font-family=\"Times,serif\" font-size=\"14.00\" fill=\"#000000\">gini = 0.0</text>\n<text text-anchor=\"middle\" x=\"1996.5\" y=\"-1101.3\" font-family=\"Times,serif\" font-size=\"14.00\" fill=\"#000000\">samples = 55</text>\n<text text-anchor=\"middle\" x=\"1996.5\" y=\"-1086.3\" font-family=\"Times,serif\" font-size=\"14.00\" fill=\"#000000\">value = [0, 55]</text>\n<text text-anchor=\"middle\" x=\"1996.5\" y=\"-1071.3\" font-family=\"Times,serif\" font-size=\"14.00\" fill=\"#000000\">class = e</text>\n</g>\n<!-- 61&#45;&gt;71 -->\n<g id=\"edge71\" class=\"edge\">\n<title>61&#45;&gt;71</title>\n<path fill=\"none\" stroke=\"#000000\" d=\"M1919.1204,-1174.8796C1930.7763,-1163.2237 1943.4413,-1150.5587 1955.0852,-1138.9148\"/>\n<polygon fill=\"#000000\" stroke=\"#000000\" points=\"1957.5889,-1141.3609 1962.1851,-1131.8149 1952.6391,-1136.4111 1957.5889,-1141.3609\"/>\n</g>\n<!-- 63 -->\n<g id=\"node64\" class=\"node\">\n<title>63</title>\n<polygon fill=\"#e78a47\" stroke=\"#000000\" points=\"1928,-1020 1803,-1020 1803,-937 1928,-937 1928,-1020\"/>\n<text text-anchor=\"middle\" x=\"1865.5\" y=\"-1004.8\" font-family=\"Times,serif\" font-size=\"14.00\" fill=\"#000000\">Education &lt;= 3.25</text>\n<text text-anchor=\"middle\" x=\"1865.5\" y=\"-989.8\" font-family=\"Times,serif\" font-size=\"14.00\" fill=\"#000000\">gini = 0.124</text>\n<text text-anchor=\"middle\" x=\"1865.5\" y=\"-974.8\" font-family=\"Times,serif\" font-size=\"14.00\" fill=\"#000000\">samples = 15</text>\n<text text-anchor=\"middle\" x=\"1865.5\" y=\"-959.8\" font-family=\"Times,serif\" font-size=\"14.00\" fill=\"#000000\">value = [14, 1]</text>\n<text text-anchor=\"middle\" x=\"1865.5\" y=\"-944.8\" font-family=\"Times,serif\" font-size=\"14.00\" fill=\"#000000\">class = P</text>\n</g>\n<!-- 62&#45;&gt;63 -->\n<g id=\"edge63\" class=\"edge\">\n<title>62&#45;&gt;63</title>\n<path fill=\"none\" stroke=\"#000000\" d=\"M1872.0025,-1055.8796C1871.3138,-1047.6838 1870.5831,-1038.9891 1869.8699,-1030.5013\"/>\n<polygon fill=\"#000000\" stroke=\"#000000\" points=\"1873.3376,-1029.9698 1869.0124,-1020.2981 1866.3622,-1030.5561 1873.3376,-1029.9698\"/>\n</g>\n<!-- 68 -->\n<g id=\"node69\" class=\"node\">\n<title>68</title>\n<polygon fill=\"#61b1ea\" stroke=\"#000000\" points=\"2063,-1020 1946,-1020 1946,-937 2063,-937 2063,-1020\"/>\n<text text-anchor=\"middle\" x=\"2004.5\" y=\"-1004.8\" font-family=\"Times,serif\" font-size=\"14.00\" fill=\"#000000\">Income &lt;= 102.0</text>\n<text text-anchor=\"middle\" x=\"2004.5\" y=\"-989.8\" font-family=\"Times,serif\" font-size=\"14.00\" fill=\"#000000\">gini = 0.278</text>\n<text text-anchor=\"middle\" x=\"2004.5\" y=\"-974.8\" font-family=\"Times,serif\" font-size=\"14.00\" fill=\"#000000\">samples = 6</text>\n<text text-anchor=\"middle\" x=\"2004.5\" y=\"-959.8\" font-family=\"Times,serif\" font-size=\"14.00\" fill=\"#000000\">value = [1, 5]</text>\n<text text-anchor=\"middle\" x=\"2004.5\" y=\"-944.8\" font-family=\"Times,serif\" font-size=\"14.00\" fill=\"#000000\">class = e</text>\n</g>\n<!-- 62&#45;&gt;68 -->\n<g id=\"edge68\" class=\"edge\">\n<title>62&#45;&gt;68</title>\n<path fill=\"none\" stroke=\"#000000\" d=\"M1920.6179,-1055.8796C1930.674,-1046.6031 1941.423,-1036.6874 1951.7554,-1027.1559\"/>\n<polygon fill=\"#000000\" stroke=\"#000000\" points=\"1954.2124,-1029.6511 1959.1895,-1020.2981 1949.4661,-1024.506 1954.2124,-1029.6511\"/>\n</g>\n<!-- 64 -->\n<g id=\"node65\" class=\"node\">\n<title>64</title>\n<polygon fill=\"#e58139\" stroke=\"#000000\" points=\"1797.5,-893.5 1695.5,-893.5 1695.5,-825.5 1797.5,-825.5 1797.5,-893.5\"/>\n<text text-anchor=\"middle\" x=\"1746.5\" y=\"-878.3\" font-family=\"Times,serif\" font-size=\"14.00\" fill=\"#000000\">gini = 0.0</text>\n<text text-anchor=\"middle\" x=\"1746.5\" y=\"-863.3\" font-family=\"Times,serif\" font-size=\"14.00\" fill=\"#000000\">samples = 10</text>\n<text text-anchor=\"middle\" x=\"1746.5\" y=\"-848.3\" font-family=\"Times,serif\" font-size=\"14.00\" fill=\"#000000\">value = [10, 0]</text>\n<text text-anchor=\"middle\" x=\"1746.5\" y=\"-833.3\" font-family=\"Times,serif\" font-size=\"14.00\" fill=\"#000000\">class = P</text>\n</g>\n<!-- 63&#45;&gt;64 -->\n<g id=\"edge64\" class=\"edge\">\n<title>63&#45;&gt;64</title>\n<path fill=\"none\" stroke=\"#000000\" d=\"M1823.8796,-936.8796C1812.2237,-925.2237 1799.5587,-912.5587 1787.9148,-900.9148\"/>\n<polygon fill=\"#000000\" stroke=\"#000000\" points=\"1790.3609,-898.4111 1780.8149,-893.8149 1785.4111,-903.3609 1790.3609,-898.4111\"/>\n</g>\n<!-- 65 -->\n<g id=\"node66\" class=\"node\">\n<title>65</title>\n<polygon fill=\"#eca06a\" stroke=\"#000000\" points=\"1933.5,-901 1815.5,-901 1815.5,-818 1933.5,-818 1933.5,-901\"/>\n<text text-anchor=\"middle\" x=\"1874.5\" y=\"-885.8\" font-family=\"Times,serif\" font-size=\"14.00\" fill=\"#000000\">Education &lt;= 4.2</text>\n<text text-anchor=\"middle\" x=\"1874.5\" y=\"-870.8\" font-family=\"Times,serif\" font-size=\"14.00\" fill=\"#000000\">gini = 0.32</text>\n<text text-anchor=\"middle\" x=\"1874.5\" y=\"-855.8\" font-family=\"Times,serif\" font-size=\"14.00\" fill=\"#000000\">samples = 5</text>\n<text text-anchor=\"middle\" x=\"1874.5\" y=\"-840.8\" font-family=\"Times,serif\" font-size=\"14.00\" fill=\"#000000\">value = [4, 1]</text>\n<text text-anchor=\"middle\" x=\"1874.5\" y=\"-825.8\" font-family=\"Times,serif\" font-size=\"14.00\" fill=\"#000000\">class = P</text>\n</g>\n<!-- 63&#45;&gt;65 -->\n<g id=\"edge65\" class=\"edge\">\n<title>63&#45;&gt;65</title>\n<path fill=\"none\" stroke=\"#000000\" d=\"M1868.6478,-936.8796C1869.2676,-928.6838 1869.9252,-919.9891 1870.5671,-911.5013\"/>\n<polygon fill=\"#000000\" stroke=\"#000000\" points=\"1874.0746,-911.5336 1871.3388,-901.2981 1867.0945,-911.0056 1874.0746,-911.5336\"/>\n</g>\n<!-- 66 -->\n<g id=\"node67\" class=\"node\">\n<title>66</title>\n<polygon fill=\"#399de5\" stroke=\"#000000\" points=\"1887,-774.5 1792,-774.5 1792,-706.5 1887,-706.5 1887,-774.5\"/>\n<text text-anchor=\"middle\" x=\"1839.5\" y=\"-759.3\" font-family=\"Times,serif\" font-size=\"14.00\" fill=\"#000000\">gini = 0.0</text>\n<text text-anchor=\"middle\" x=\"1839.5\" y=\"-744.3\" font-family=\"Times,serif\" font-size=\"14.00\" fill=\"#000000\">samples = 1</text>\n<text text-anchor=\"middle\" x=\"1839.5\" y=\"-729.3\" font-family=\"Times,serif\" font-size=\"14.00\" fill=\"#000000\">value = [0, 1]</text>\n<text text-anchor=\"middle\" x=\"1839.5\" y=\"-714.3\" font-family=\"Times,serif\" font-size=\"14.00\" fill=\"#000000\">class = e</text>\n</g>\n<!-- 65&#45;&gt;66 -->\n<g id=\"edge66\" class=\"edge\">\n<title>65&#45;&gt;66</title>\n<path fill=\"none\" stroke=\"#000000\" d=\"M1862.2587,-817.8796C1859.0892,-807.1034 1855.6661,-795.4647 1852.4611,-784.5677\"/>\n<polygon fill=\"#000000\" stroke=\"#000000\" points=\"1855.7721,-783.421 1849.5926,-774.8149 1849.0566,-785.3962 1855.7721,-783.421\"/>\n</g>\n<!-- 67 -->\n<g id=\"node68\" class=\"node\">\n<title>67</title>\n<polygon fill=\"#e58139\" stroke=\"#000000\" points=\"2000,-774.5 1905,-774.5 1905,-706.5 2000,-706.5 2000,-774.5\"/>\n<text text-anchor=\"middle\" x=\"1952.5\" y=\"-759.3\" font-family=\"Times,serif\" font-size=\"14.00\" fill=\"#000000\">gini = 0.0</text>\n<text text-anchor=\"middle\" x=\"1952.5\" y=\"-744.3\" font-family=\"Times,serif\" font-size=\"14.00\" fill=\"#000000\">samples = 4</text>\n<text text-anchor=\"middle\" x=\"1952.5\" y=\"-729.3\" font-family=\"Times,serif\" font-size=\"14.00\" fill=\"#000000\">value = [4, 0]</text>\n<text text-anchor=\"middle\" x=\"1952.5\" y=\"-714.3\" font-family=\"Times,serif\" font-size=\"14.00\" fill=\"#000000\">class = P</text>\n</g>\n<!-- 65&#45;&gt;67 -->\n<g id=\"edge67\" class=\"edge\">\n<title>65&#45;&gt;67</title>\n<path fill=\"none\" stroke=\"#000000\" d=\"M1901.7806,-817.8796C1909.1323,-806.6636 1917.0964,-794.5131 1924.4874,-783.2372\"/>\n<polygon fill=\"#000000\" stroke=\"#000000\" points=\"1927.4531,-785.0972 1930.0079,-774.8149 1921.5986,-781.2598 1927.4531,-785.0972\"/>\n</g>\n<!-- 69 -->\n<g id=\"node70\" class=\"node\">\n<title>69</title>\n<polygon fill=\"#e58139\" stroke=\"#000000\" points=\"2051,-893.5 1956,-893.5 1956,-825.5 2051,-825.5 2051,-893.5\"/>\n<text text-anchor=\"middle\" x=\"2003.5\" y=\"-878.3\" font-family=\"Times,serif\" font-size=\"14.00\" fill=\"#000000\">gini = 0.0</text>\n<text text-anchor=\"middle\" x=\"2003.5\" y=\"-863.3\" font-family=\"Times,serif\" font-size=\"14.00\" fill=\"#000000\">samples = 1</text>\n<text text-anchor=\"middle\" x=\"2003.5\" y=\"-848.3\" font-family=\"Times,serif\" font-size=\"14.00\" fill=\"#000000\">value = [1, 0]</text>\n<text text-anchor=\"middle\" x=\"2003.5\" y=\"-833.3\" font-family=\"Times,serif\" font-size=\"14.00\" fill=\"#000000\">class = P</text>\n</g>\n<!-- 68&#45;&gt;69 -->\n<g id=\"edge69\" class=\"edge\">\n<title>68&#45;&gt;69</title>\n<path fill=\"none\" stroke=\"#000000\" d=\"M2004.1502,-936.8796C2004.0606,-926.2134 2003.9639,-914.7021 2003.8731,-903.9015\"/>\n<polygon fill=\"#000000\" stroke=\"#000000\" points=\"2007.3724,-903.7851 2003.7884,-893.8149 2000.3726,-903.844 2007.3724,-903.7851\"/>\n</g>\n<!-- 70 -->\n<g id=\"node71\" class=\"node\">\n<title>70</title>\n<polygon fill=\"#399de5\" stroke=\"#000000\" points=\"2164,-893.5 2069,-893.5 2069,-825.5 2164,-825.5 2164,-893.5\"/>\n<text text-anchor=\"middle\" x=\"2116.5\" y=\"-878.3\" font-family=\"Times,serif\" font-size=\"14.00\" fill=\"#000000\">gini = 0.0</text>\n<text text-anchor=\"middle\" x=\"2116.5\" y=\"-863.3\" font-family=\"Times,serif\" font-size=\"14.00\" fill=\"#000000\">samples = 5</text>\n<text text-anchor=\"middle\" x=\"2116.5\" y=\"-848.3\" font-family=\"Times,serif\" font-size=\"14.00\" fill=\"#000000\">value = [0, 5]</text>\n<text text-anchor=\"middle\" x=\"2116.5\" y=\"-833.3\" font-family=\"Times,serif\" font-size=\"14.00\" fill=\"#000000\">class = e</text>\n</g>\n<!-- 68&#45;&gt;70 -->\n<g id=\"edge70\" class=\"edge\">\n<title>68&#45;&gt;70</title>\n<path fill=\"none\" stroke=\"#000000\" d=\"M2043.6722,-936.8796C2054.5389,-925.3337 2066.3376,-912.7976 2077.2109,-901.2446\"/>\n<polygon fill=\"#000000\" stroke=\"#000000\" points=\"2079.8986,-903.4958 2084.2036,-893.8149 2074.8012,-898.6982 2079.8986,-903.4958\"/>\n</g>\n<!-- 73 -->\n<g id=\"node74\" class=\"node\">\n<title>73</title>\n<polygon fill=\"#f2bf9b\" stroke=\"#000000\" points=\"2281,-1258 2148,-1258 2148,-1175 2281,-1175 2281,-1258\"/>\n<text text-anchor=\"middle\" x=\"2214.5\" y=\"-1242.8\" font-family=\"Times,serif\" font-size=\"14.00\" fill=\"#000000\">Education &lt;= 2.725</text>\n<text text-anchor=\"middle\" x=\"2214.5\" y=\"-1227.8\" font-family=\"Times,serif\" font-size=\"14.00\" fill=\"#000000\">gini = 0.443</text>\n<text text-anchor=\"middle\" x=\"2214.5\" y=\"-1212.8\" font-family=\"Times,serif\" font-size=\"14.00\" fill=\"#000000\">samples = 139</text>\n<text text-anchor=\"middle\" x=\"2214.5\" y=\"-1197.8\" font-family=\"Times,serif\" font-size=\"14.00\" fill=\"#000000\">value = [93, 46]</text>\n<text text-anchor=\"middle\" x=\"2214.5\" y=\"-1182.8\" font-family=\"Times,serif\" font-size=\"14.00\" fill=\"#000000\">class = P</text>\n</g>\n<!-- 72&#45;&gt;73 -->\n<g id=\"edge73\" class=\"edge\">\n<title>72&#45;&gt;73</title>\n<path fill=\"none\" stroke=\"#000000\" d=\"M2214.5,-1293.8796C2214.5,-1285.6838 2214.5,-1276.9891 2214.5,-1268.5013\"/>\n<polygon fill=\"#000000\" stroke=\"#000000\" points=\"2218.0001,-1268.298 2214.5,-1258.2981 2211.0001,-1268.2981 2218.0001,-1268.298\"/>\n</g>\n<!-- 140 -->\n<g id=\"node141\" class=\"node\">\n<title>140</title>\n<polygon fill=\"#399de5\" stroke=\"#000000\" points=\"2409.5,-1250.5 2299.5,-1250.5 2299.5,-1182.5 2409.5,-1182.5 2409.5,-1250.5\"/>\n<text text-anchor=\"middle\" x=\"2354.5\" y=\"-1235.3\" font-family=\"Times,serif\" font-size=\"14.00\" fill=\"#000000\">gini = 0.0</text>\n<text text-anchor=\"middle\" x=\"2354.5\" y=\"-1220.3\" font-family=\"Times,serif\" font-size=\"14.00\" fill=\"#000000\">samples = 259</text>\n<text text-anchor=\"middle\" x=\"2354.5\" y=\"-1205.3\" font-family=\"Times,serif\" font-size=\"14.00\" fill=\"#000000\">value = [0, 259]</text>\n<text text-anchor=\"middle\" x=\"2354.5\" y=\"-1190.3\" font-family=\"Times,serif\" font-size=\"14.00\" fill=\"#000000\">class = e</text>\n</g>\n<!-- 72&#45;&gt;140 -->\n<g id=\"edge140\" class=\"edge\">\n<title>72&#45;&gt;140</title>\n<path fill=\"none\" stroke=\"#000000\" d=\"M2263.4652,-1293.8796C2277.3073,-1282.1138 2292.3592,-1269.3197 2306.1641,-1257.5855\"/>\n<polygon fill=\"#000000\" stroke=\"#000000\" points=\"2308.7769,-1259.9582 2314.1295,-1250.8149 2304.2433,-1254.6247 2308.7769,-1259.9582\"/>\n</g>\n<!-- 74 -->\n<g id=\"node75\" class=\"node\">\n<title>74</title>\n<polygon fill=\"#ea975c\" stroke=\"#000000\" points=\"2273,-1139 2156,-1139 2156,-1056 2273,-1056 2273,-1139\"/>\n<text text-anchor=\"middle\" x=\"2214.5\" y=\"-1123.8\" font-family=\"Times,serif\" font-size=\"14.00\" fill=\"#000000\">Income &lt;= 106.5</text>\n<text text-anchor=\"middle\" x=\"2214.5\" y=\"-1108.8\" font-family=\"Times,serif\" font-size=\"14.00\" fill=\"#000000\">gini = 0.254</text>\n<text text-anchor=\"middle\" x=\"2214.5\" y=\"-1093.8\" font-family=\"Times,serif\" font-size=\"14.00\" fill=\"#000000\">samples = 94</text>\n<text text-anchor=\"middle\" x=\"2214.5\" y=\"-1078.8\" font-family=\"Times,serif\" font-size=\"14.00\" fill=\"#000000\">value = [80, 14]</text>\n<text text-anchor=\"middle\" x=\"2214.5\" y=\"-1063.8\" font-family=\"Times,serif\" font-size=\"14.00\" fill=\"#000000\">class = P</text>\n</g>\n<!-- 73&#45;&gt;74 -->\n<g id=\"edge74\" class=\"edge\">\n<title>73&#45;&gt;74</title>\n<path fill=\"none\" stroke=\"#000000\" d=\"M2214.5,-1174.8796C2214.5,-1166.6838 2214.5,-1157.9891 2214.5,-1149.5013\"/>\n<polygon fill=\"#000000\" stroke=\"#000000\" points=\"2218.0001,-1149.298 2214.5,-1139.2981 2211.0001,-1149.2981 2218.0001,-1149.298\"/>\n</g>\n<!-- 113 -->\n<g id=\"node114\" class=\"node\">\n<title>113</title>\n<polygon fill=\"#89c5f0\" stroke=\"#000000\" points=\"3219,-1139 3094,-1139 3094,-1056 3219,-1056 3219,-1139\"/>\n<text text-anchor=\"middle\" x=\"3156.5\" y=\"-1123.8\" font-family=\"Times,serif\" font-size=\"14.00\" fill=\"#000000\">Education &lt;= 4.55</text>\n<text text-anchor=\"middle\" x=\"3156.5\" y=\"-1108.8\" font-family=\"Times,serif\" font-size=\"14.00\" fill=\"#000000\">gini = 0.411</text>\n<text text-anchor=\"middle\" x=\"3156.5\" y=\"-1093.8\" font-family=\"Times,serif\" font-size=\"14.00\" fill=\"#000000\">samples = 45</text>\n<text text-anchor=\"middle\" x=\"3156.5\" y=\"-1078.8\" font-family=\"Times,serif\" font-size=\"14.00\" fill=\"#000000\">value = [13, 32]</text>\n<text text-anchor=\"middle\" x=\"3156.5\" y=\"-1063.8\" font-family=\"Times,serif\" font-size=\"14.00\" fill=\"#000000\">class = e</text>\n</g>\n<!-- 73&#45;&gt;113 -->\n<g id=\"edge113\" class=\"edge\">\n<title>73&#45;&gt;113</title>\n<path fill=\"none\" stroke=\"#000000\" d=\"M2281.4124,-1178.1088C2284.4421,-1176.9618 2287.4789,-1175.9165 2290.5,-1175 2438.308,-1130.1619 2903.234,-1107.4845 3083.7949,-1100.1913\"/>\n<polygon fill=\"#000000\" stroke=\"#000000\" points=\"3084.1324,-1103.6807 3093.9845,-1099.7839 3083.8526,-1096.6863 3084.1324,-1103.6807\"/>\n</g>\n<!-- 75 -->\n<g id=\"node76\" class=\"node\">\n<title>75</title>\n<polygon fill=\"#e58139\" stroke=\"#000000\" points=\"2199.5,-1012.5 2097.5,-1012.5 2097.5,-944.5 2199.5,-944.5 2199.5,-1012.5\"/>\n<text text-anchor=\"middle\" x=\"2148.5\" y=\"-997.3\" font-family=\"Times,serif\" font-size=\"14.00\" fill=\"#000000\">gini = 0.0</text>\n<text text-anchor=\"middle\" x=\"2148.5\" y=\"-982.3\" font-family=\"Times,serif\" font-size=\"14.00\" fill=\"#000000\">samples = 36</text>\n<text text-anchor=\"middle\" x=\"2148.5\" y=\"-967.3\" font-family=\"Times,serif\" font-size=\"14.00\" fill=\"#000000\">value = [36, 0]</text>\n<text text-anchor=\"middle\" x=\"2148.5\" y=\"-952.3\" font-family=\"Times,serif\" font-size=\"14.00\" fill=\"#000000\">class = P</text>\n</g>\n<!-- 74&#45;&gt;75 -->\n<g id=\"edge75\" class=\"edge\">\n<title>74&#45;&gt;75</title>\n<path fill=\"none\" stroke=\"#000000\" d=\"M2191.4164,-1055.8796C2185.2567,-1044.7735 2178.5889,-1032.7513 2172.3871,-1021.5691\"/>\n<polygon fill=\"#000000\" stroke=\"#000000\" points=\"2175.4428,-1019.8624 2167.5318,-1012.8149 2169.3213,-1023.2576 2175.4428,-1019.8624\"/>\n</g>\n<!-- 76 -->\n<g id=\"node77\" class=\"node\">\n<title>76</title>\n<polygon fill=\"#eda978\" stroke=\"#000000\" points=\"2343,-1020 2218,-1020 2218,-937 2343,-937 2343,-1020\"/>\n<text text-anchor=\"middle\" x=\"2280.5\" y=\"-1004.8\" font-family=\"Times,serif\" font-size=\"14.00\" fill=\"#000000\">Education &lt;= 2.45</text>\n<text text-anchor=\"middle\" x=\"2280.5\" y=\"-989.8\" font-family=\"Times,serif\" font-size=\"14.00\" fill=\"#000000\">gini = 0.366</text>\n<text text-anchor=\"middle\" x=\"2280.5\" y=\"-974.8\" font-family=\"Times,serif\" font-size=\"14.00\" fill=\"#000000\">samples = 58</text>\n<text text-anchor=\"middle\" x=\"2280.5\" y=\"-959.8\" font-family=\"Times,serif\" font-size=\"14.00\" fill=\"#000000\">value = [44, 14]</text>\n<text text-anchor=\"middle\" x=\"2280.5\" y=\"-944.8\" font-family=\"Times,serif\" font-size=\"14.00\" fill=\"#000000\">class = P</text>\n</g>\n<!-- 74&#45;&gt;76 -->\n<g id=\"edge76\" class=\"edge\">\n<title>74&#45;&gt;76</title>\n<path fill=\"none\" stroke=\"#000000\" d=\"M2237.5836,-1055.8796C2242.3789,-1047.2335 2247.4822,-1038.0322 2252.4338,-1029.1042\"/>\n<polygon fill=\"#000000\" stroke=\"#000000\" points=\"2255.5284,-1030.7407 2257.3179,-1020.2981 2249.4069,-1027.3455 2255.5284,-1030.7407\"/>\n</g>\n<!-- 77 -->\n<g id=\"node78\" class=\"node\">\n<title>77</title>\n<polygon fill=\"#eca470\" stroke=\"#000000\" points=\"2325,-901 2200,-901 2200,-818 2325,-818 2325,-901\"/>\n<text text-anchor=\"middle\" x=\"2262.5\" y=\"-885.8\" font-family=\"Times,serif\" font-size=\"14.00\" fill=\"#000000\">Education &lt;= 1.65</text>\n<text text-anchor=\"middle\" x=\"2262.5\" y=\"-870.8\" font-family=\"Times,serif\" font-size=\"14.00\" fill=\"#000000\">gini = 0.341</text>\n<text text-anchor=\"middle\" x=\"2262.5\" y=\"-855.8\" font-family=\"Times,serif\" font-size=\"14.00\" fill=\"#000000\">samples = 55</text>\n<text text-anchor=\"middle\" x=\"2262.5\" y=\"-840.8\" font-family=\"Times,serif\" font-size=\"14.00\" fill=\"#000000\">value = [43, 12]</text>\n<text text-anchor=\"middle\" x=\"2262.5\" y=\"-825.8\" font-family=\"Times,serif\" font-size=\"14.00\" fill=\"#000000\">class = P</text>\n</g>\n<!-- 76&#45;&gt;77 -->\n<g id=\"edge77\" class=\"edge\">\n<title>76&#45;&gt;77</title>\n<path fill=\"none\" stroke=\"#000000\" d=\"M2274.2045,-936.8796C2272.9512,-928.5938 2271.6207,-919.798 2270.3234,-911.2216\"/>\n<polygon fill=\"#000000\" stroke=\"#000000\" points=\"2273.7787,-910.6621 2268.8224,-901.2981 2266.8574,-911.7091 2273.7787,-910.6621\"/>\n</g>\n<!-- 110 -->\n<g id=\"node111\" class=\"node\">\n<title>110</title>\n<polygon fill=\"#9ccef2\" stroke=\"#000000\" points=\"2461.5,-901 2343.5,-901 2343.5,-818 2461.5,-818 2461.5,-901\"/>\n<text text-anchor=\"middle\" x=\"2402.5\" y=\"-885.8\" font-family=\"Times,serif\" font-size=\"14.00\" fill=\"#000000\">Education &lt;= 2.6</text>\n<text text-anchor=\"middle\" x=\"2402.5\" y=\"-870.8\" font-family=\"Times,serif\" font-size=\"14.00\" fill=\"#000000\">gini = 0.444</text>\n<text text-anchor=\"middle\" x=\"2402.5\" y=\"-855.8\" font-family=\"Times,serif\" font-size=\"14.00\" fill=\"#000000\">samples = 3</text>\n<text text-anchor=\"middle\" x=\"2402.5\" y=\"-840.8\" font-family=\"Times,serif\" font-size=\"14.00\" fill=\"#000000\">value = [1, 2]</text>\n<text text-anchor=\"middle\" x=\"2402.5\" y=\"-825.8\" font-family=\"Times,serif\" font-size=\"14.00\" fill=\"#000000\">class = e</text>\n</g>\n<!-- 76&#45;&gt;110 -->\n<g id=\"edge110\" class=\"edge\">\n<title>76&#45;&gt;110</title>\n<path fill=\"none\" stroke=\"#000000\" d=\"M2323.1697,-936.8796C2332.5877,-927.6931 2342.6484,-917.8798 2352.3328,-908.4336\"/>\n<polygon fill=\"#000000\" stroke=\"#000000\" points=\"2354.9335,-910.7861 2359.6482,-901.2981 2350.0457,-905.7751 2354.9335,-910.7861\"/>\n</g>\n<!-- 78 -->\n<g id=\"node79\" class=\"node\">\n<title>78</title>\n<polygon fill=\"#f3c4a3\" stroke=\"#000000\" points=\"2122.5,-782 2018.5,-782 2018.5,-699 2122.5,-699 2122.5,-782\"/>\n<text text-anchor=\"middle\" x=\"2070.5\" y=\"-766.8\" font-family=\"Times,serif\" font-size=\"14.00\" fill=\"#000000\">CCAvg &lt;= 1.5</text>\n<text text-anchor=\"middle\" x=\"2070.5\" y=\"-751.8\" font-family=\"Times,serif\" font-size=\"14.00\" fill=\"#000000\">gini = 0.454</text>\n<text text-anchor=\"middle\" x=\"2070.5\" y=\"-736.8\" font-family=\"Times,serif\" font-size=\"14.00\" fill=\"#000000\">samples = 23</text>\n<text text-anchor=\"middle\" x=\"2070.5\" y=\"-721.8\" font-family=\"Times,serif\" font-size=\"14.00\" fill=\"#000000\">value = [15, 8]</text>\n<text text-anchor=\"middle\" x=\"2070.5\" y=\"-706.8\" font-family=\"Times,serif\" font-size=\"14.00\" fill=\"#000000\">class = P</text>\n</g>\n<!-- 77&#45;&gt;78 -->\n<g id=\"edge78\" class=\"edge\">\n<title>77&#45;&gt;78</title>\n<path fill=\"none\" stroke=\"#000000\" d=\"M2199.8977,-820.6996C2177.871,-807.0477 2153.1646,-791.7348 2131.2896,-778.1769\"/>\n<polygon fill=\"#000000\" stroke=\"#000000\" points=\"2133.0846,-775.1717 2122.7409,-772.8785 2129.3969,-781.1216 2133.0846,-775.1717\"/>\n</g>\n<!-- 93 -->\n<g id=\"node94\" class=\"node\">\n<title>93</title>\n<polygon fill=\"#e99355\" stroke=\"#000000\" points=\"2325.5,-782 2221.5,-782 2221.5,-699 2325.5,-699 2325.5,-782\"/>\n<text text-anchor=\"middle\" x=\"2273.5\" y=\"-766.8\" font-family=\"Times,serif\" font-size=\"14.00\" fill=\"#000000\">CCAvg &lt;= 1.5</text>\n<text text-anchor=\"middle\" x=\"2273.5\" y=\"-751.8\" font-family=\"Times,serif\" font-size=\"14.00\" fill=\"#000000\">gini = 0.219</text>\n<text text-anchor=\"middle\" x=\"2273.5\" y=\"-736.8\" font-family=\"Times,serif\" font-size=\"14.00\" fill=\"#000000\">samples = 32</text>\n<text text-anchor=\"middle\" x=\"2273.5\" y=\"-721.8\" font-family=\"Times,serif\" font-size=\"14.00\" fill=\"#000000\">value = [28, 4]</text>\n<text text-anchor=\"middle\" x=\"2273.5\" y=\"-706.8\" font-family=\"Times,serif\" font-size=\"14.00\" fill=\"#000000\">class = P</text>\n</g>\n<!-- 77&#45;&gt;93 -->\n<g id=\"edge93\" class=\"edge\">\n<title>77&#45;&gt;93</title>\n<path fill=\"none\" stroke=\"#000000\" d=\"M2266.3473,-817.8796C2267.1049,-809.6838 2267.9086,-800.9891 2268.6932,-792.5013\"/>\n<polygon fill=\"#000000\" stroke=\"#000000\" points=\"2272.2009,-792.5778 2269.6363,-782.2981 2265.2306,-791.9334 2272.2009,-792.5778\"/>\n</g>\n<!-- 79 -->\n<g id=\"node80\" class=\"node\">\n<title>79</title>\n<polygon fill=\"#ea985d\" stroke=\"#000000\" points=\"1771,-663 1646,-663 1646,-580 1771,-580 1771,-663\"/>\n<text text-anchor=\"middle\" x=\"1708.5\" y=\"-647.8\" font-family=\"Times,serif\" font-size=\"14.00\" fill=\"#000000\">Education &lt;= 1.05</text>\n<text text-anchor=\"middle\" x=\"1708.5\" y=\"-632.8\" font-family=\"Times,serif\" font-size=\"14.00\" fill=\"#000000\">gini = 0.26</text>\n<text text-anchor=\"middle\" x=\"1708.5\" y=\"-617.8\" font-family=\"Times,serif\" font-size=\"14.00\" fill=\"#000000\">samples = 13</text>\n<text text-anchor=\"middle\" x=\"1708.5\" y=\"-602.8\" font-family=\"Times,serif\" font-size=\"14.00\" fill=\"#000000\">value = [11, 2]</text>\n<text text-anchor=\"middle\" x=\"1708.5\" y=\"-587.8\" font-family=\"Times,serif\" font-size=\"14.00\" fill=\"#000000\">class = P</text>\n</g>\n<!-- 78&#45;&gt;79 -->\n<g id=\"edge79\" class=\"edge\">\n<title>78&#45;&gt;79</title>\n<path fill=\"none\" stroke=\"#000000\" d=\"M2018.4384,-703.9104C2015.1369,-702.1385 2011.8096,-700.4833 2008.5,-699 1934.4487,-665.8122 1843.499,-644.8266 1781.2793,-633.1865\"/>\n<polygon fill=\"#000000\" stroke=\"#000000\" points=\"1781.6306,-629.6926 1771.1629,-631.3289 1780.3663,-636.5775 1781.6306,-629.6926\"/>\n</g>\n<!-- 84 -->\n<g id=\"node85\" class=\"node\">\n<title>84</title>\n<polygon fill=\"#bddef6\" stroke=\"#000000\" points=\"2124.5,-663 2006.5,-663 2006.5,-580 2124.5,-580 2124.5,-663\"/>\n<text text-anchor=\"middle\" x=\"2065.5\" y=\"-647.8\" font-family=\"Times,serif\" font-size=\"14.00\" fill=\"#000000\">Education &lt;= 1.0</text>\n<text text-anchor=\"middle\" x=\"2065.5\" y=\"-632.8\" font-family=\"Times,serif\" font-size=\"14.00\" fill=\"#000000\">gini = 0.48</text>\n<text text-anchor=\"middle\" x=\"2065.5\" y=\"-617.8\" font-family=\"Times,serif\" font-size=\"14.00\" fill=\"#000000\">samples = 10</text>\n<text text-anchor=\"middle\" x=\"2065.5\" y=\"-602.8\" font-family=\"Times,serif\" font-size=\"14.00\" fill=\"#000000\">value = [4, 6]</text>\n<text text-anchor=\"middle\" x=\"2065.5\" y=\"-587.8\" font-family=\"Times,serif\" font-size=\"14.00\" fill=\"#000000\">class = e</text>\n</g>\n<!-- 78&#45;&gt;84 -->\n<g id=\"edge84\" class=\"edge\">\n<title>78&#45;&gt;84</title>\n<path fill=\"none\" stroke=\"#000000\" d=\"M2068.7512,-698.8796C2068.4069,-690.6838 2068.0416,-681.9891 2067.6849,-673.5013\"/>\n<polygon fill=\"#000000\" stroke=\"#000000\" points=\"2071.173,-673.1423 2067.2562,-663.2981 2064.1792,-673.4362 2071.173,-673.1423\"/>\n</g>\n<!-- 80 -->\n<g id=\"node81\" class=\"node\">\n<title>80</title>\n<polygon fill=\"#e58139\" stroke=\"#000000\" points=\"1627.5,-536.5 1525.5,-536.5 1525.5,-468.5 1627.5,-468.5 1627.5,-536.5\"/>\n<text text-anchor=\"middle\" x=\"1576.5\" y=\"-521.3\" font-family=\"Times,serif\" font-size=\"14.00\" fill=\"#000000\">gini = 0.0</text>\n<text text-anchor=\"middle\" x=\"1576.5\" y=\"-506.3\" font-family=\"Times,serif\" font-size=\"14.00\" fill=\"#000000\">samples = 10</text>\n<text text-anchor=\"middle\" x=\"1576.5\" y=\"-491.3\" font-family=\"Times,serif\" font-size=\"14.00\" fill=\"#000000\">value = [10, 0]</text>\n<text text-anchor=\"middle\" x=\"1576.5\" y=\"-476.3\" font-family=\"Times,serif\" font-size=\"14.00\" fill=\"#000000\">class = P</text>\n</g>\n<!-- 79&#45;&gt;80 -->\n<g id=\"edge80\" class=\"edge\">\n<title>79&#45;&gt;80</title>\n<path fill=\"none\" stroke=\"#000000\" d=\"M1662.3328,-579.8796C1649.2817,-568.1138 1635.0899,-555.3197 1622.0739,-543.5855\"/>\n<polygon fill=\"#000000\" stroke=\"#000000\" points=\"1624.3346,-540.9113 1614.5636,-536.8149 1619.6474,-546.1104 1624.3346,-540.9113\"/>\n</g>\n<!-- 81 -->\n<g id=\"node82\" class=\"node\">\n<title>81</title>\n<polygon fill=\"#9ccef2\" stroke=\"#000000\" points=\"1771,-544 1646,-544 1646,-461 1771,-461 1771,-544\"/>\n<text text-anchor=\"middle\" x=\"1708.5\" y=\"-528.8\" font-family=\"Times,serif\" font-size=\"14.00\" fill=\"#000000\">Education &lt;= 1.25</text>\n<text text-anchor=\"middle\" x=\"1708.5\" y=\"-513.8\" font-family=\"Times,serif\" font-size=\"14.00\" fill=\"#000000\">gini = 0.444</text>\n<text text-anchor=\"middle\" x=\"1708.5\" y=\"-498.8\" font-family=\"Times,serif\" font-size=\"14.00\" fill=\"#000000\">samples = 3</text>\n<text text-anchor=\"middle\" x=\"1708.5\" y=\"-483.8\" font-family=\"Times,serif\" font-size=\"14.00\" fill=\"#000000\">value = [1, 2]</text>\n<text text-anchor=\"middle\" x=\"1708.5\" y=\"-468.8\" font-family=\"Times,serif\" font-size=\"14.00\" fill=\"#000000\">class = e</text>\n</g>\n<!-- 79&#45;&gt;81 -->\n<g id=\"edge81\" class=\"edge\">\n<title>79&#45;&gt;81</title>\n<path fill=\"none\" stroke=\"#000000\" d=\"M1708.5,-579.8796C1708.5,-571.6838 1708.5,-562.9891 1708.5,-554.5013\"/>\n<polygon fill=\"#000000\" stroke=\"#000000\" points=\"1712.0001,-554.298 1708.5,-544.2981 1705.0001,-554.2981 1712.0001,-554.298\"/>\n</g>\n<!-- 82 -->\n<g id=\"node83\" class=\"node\">\n<title>82</title>\n<polygon fill=\"#399de5\" stroke=\"#000000\" points=\"1643,-417.5 1548,-417.5 1548,-349.5 1643,-349.5 1643,-417.5\"/>\n<text text-anchor=\"middle\" x=\"1595.5\" y=\"-402.3\" font-family=\"Times,serif\" font-size=\"14.00\" fill=\"#000000\">gini = 0.0</text>\n<text text-anchor=\"middle\" x=\"1595.5\" y=\"-387.3\" font-family=\"Times,serif\" font-size=\"14.00\" fill=\"#000000\">samples = 2</text>\n<text text-anchor=\"middle\" x=\"1595.5\" y=\"-372.3\" font-family=\"Times,serif\" font-size=\"14.00\" fill=\"#000000\">value = [0, 2]</text>\n<text text-anchor=\"middle\" x=\"1595.5\" y=\"-357.3\" font-family=\"Times,serif\" font-size=\"14.00\" fill=\"#000000\">class = e</text>\n</g>\n<!-- 81&#45;&gt;82 -->\n<g id=\"edge82\" class=\"edge\">\n<title>81&#45;&gt;82</title>\n<path fill=\"none\" stroke=\"#000000\" d=\"M1668.9781,-460.8796C1658.0143,-449.3337 1646.1103,-436.7976 1635.1399,-425.2446\"/>\n<polygon fill=\"#000000\" stroke=\"#000000\" points=\"1637.5087,-422.6564 1628.0848,-417.8149 1632.4327,-427.4766 1637.5087,-422.6564\"/>\n</g>\n<!-- 83 -->\n<g id=\"node84\" class=\"node\">\n<title>83</title>\n<polygon fill=\"#e58139\" stroke=\"#000000\" points=\"1756,-417.5 1661,-417.5 1661,-349.5 1756,-349.5 1756,-417.5\"/>\n<text text-anchor=\"middle\" x=\"1708.5\" y=\"-402.3\" font-family=\"Times,serif\" font-size=\"14.00\" fill=\"#000000\">gini = 0.0</text>\n<text text-anchor=\"middle\" x=\"1708.5\" y=\"-387.3\" font-family=\"Times,serif\" font-size=\"14.00\" fill=\"#000000\">samples = 1</text>\n<text text-anchor=\"middle\" x=\"1708.5\" y=\"-372.3\" font-family=\"Times,serif\" font-size=\"14.00\" fill=\"#000000\">value = [1, 0]</text>\n<text text-anchor=\"middle\" x=\"1708.5\" y=\"-357.3\" font-family=\"Times,serif\" font-size=\"14.00\" fill=\"#000000\">class = P</text>\n</g>\n<!-- 81&#45;&gt;83 -->\n<g id=\"edge83\" class=\"edge\">\n<title>81&#45;&gt;83</title>\n<path fill=\"none\" stroke=\"#000000\" d=\"M1708.5,-460.8796C1708.5,-450.2134 1708.5,-438.7021 1708.5,-427.9015\"/>\n<polygon fill=\"#000000\" stroke=\"#000000\" points=\"1712.0001,-427.8149 1708.5,-417.8149 1705.0001,-427.815 1712.0001,-427.8149\"/>\n</g>\n<!-- 85 -->\n<g id=\"node86\" class=\"node\">\n<title>85</title>\n<polygon fill=\"#6ab6ec\" stroke=\"#000000\" points=\"1984.5,-544 1884.5,-544 1884.5,-461 1984.5,-461 1984.5,-544\"/>\n<text text-anchor=\"middle\" x=\"1934.5\" y=\"-528.8\" font-family=\"Times,serif\" font-size=\"14.00\" fill=\"#000000\">Family &lt;= 2.5</text>\n<text text-anchor=\"middle\" x=\"1934.5\" y=\"-513.8\" font-family=\"Times,serif\" font-size=\"14.00\" fill=\"#000000\">gini = 0.32</text>\n<text text-anchor=\"middle\" x=\"1934.5\" y=\"-498.8\" font-family=\"Times,serif\" font-size=\"14.00\" fill=\"#000000\">samples = 5</text>\n<text text-anchor=\"middle\" x=\"1934.5\" y=\"-483.8\" font-family=\"Times,serif\" font-size=\"14.00\" fill=\"#000000\">value = [1, 4]</text>\n<text text-anchor=\"middle\" x=\"1934.5\" y=\"-468.8\" font-family=\"Times,serif\" font-size=\"14.00\" fill=\"#000000\">class = e</text>\n</g>\n<!-- 84&#45;&gt;85 -->\n<g id=\"edge85\" class=\"edge\">\n<title>84&#45;&gt;85</title>\n<path fill=\"none\" stroke=\"#000000\" d=\"M2019.6826,-579.8796C2009.4706,-570.6031 1998.555,-560.6874 1988.0624,-551.1559\"/>\n<polygon fill=\"#000000\" stroke=\"#000000\" points=\"1990.2684,-548.4313 1980.513,-544.2981 1985.5616,-553.6127 1990.2684,-548.4313\"/>\n</g>\n<!-- 88 -->\n<g id=\"node89\" class=\"node\">\n<title>88</title>\n<polygon fill=\"#f6d5bd\" stroke=\"#000000\" points=\"2123.5,-544 2007.5,-544 2007.5,-461 2123.5,-461 2123.5,-544\"/>\n<text text-anchor=\"middle\" x=\"2065.5\" y=\"-528.8\" font-family=\"Times,serif\" font-size=\"14.00\" fill=\"#000000\">Income &lt;= 110.5</text>\n<text text-anchor=\"middle\" x=\"2065.5\" y=\"-513.8\" font-family=\"Times,serif\" font-size=\"14.00\" fill=\"#000000\">gini = 0.48</text>\n<text text-anchor=\"middle\" x=\"2065.5\" y=\"-498.8\" font-family=\"Times,serif\" font-size=\"14.00\" fill=\"#000000\">samples = 5</text>\n<text text-anchor=\"middle\" x=\"2065.5\" y=\"-483.8\" font-family=\"Times,serif\" font-size=\"14.00\" fill=\"#000000\">value = [3, 2]</text>\n<text text-anchor=\"middle\" x=\"2065.5\" y=\"-468.8\" font-family=\"Times,serif\" font-size=\"14.00\" fill=\"#000000\">class = P</text>\n</g>\n<!-- 84&#45;&gt;88 -->\n<g id=\"edge88\" class=\"edge\">\n<title>84&#45;&gt;88</title>\n<path fill=\"none\" stroke=\"#000000\" d=\"M2065.5,-579.8796C2065.5,-571.6838 2065.5,-562.9891 2065.5,-554.5013\"/>\n<polygon fill=\"#000000\" stroke=\"#000000\" points=\"2069.0001,-554.298 2065.5,-544.2981 2062.0001,-554.2981 2069.0001,-554.298\"/>\n</g>\n<!-- 86 -->\n<g id=\"node87\" class=\"node\">\n<title>86</title>\n<polygon fill=\"#e58139\" stroke=\"#000000\" points=\"1869,-417.5 1774,-417.5 1774,-349.5 1869,-349.5 1869,-417.5\"/>\n<text text-anchor=\"middle\" x=\"1821.5\" y=\"-402.3\" font-family=\"Times,serif\" font-size=\"14.00\" fill=\"#000000\">gini = 0.0</text>\n<text text-anchor=\"middle\" x=\"1821.5\" y=\"-387.3\" font-family=\"Times,serif\" font-size=\"14.00\" fill=\"#000000\">samples = 1</text>\n<text text-anchor=\"middle\" x=\"1821.5\" y=\"-372.3\" font-family=\"Times,serif\" font-size=\"14.00\" fill=\"#000000\">value = [1, 0]</text>\n<text text-anchor=\"middle\" x=\"1821.5\" y=\"-357.3\" font-family=\"Times,serif\" font-size=\"14.00\" fill=\"#000000\">class = P</text>\n</g>\n<!-- 85&#45;&gt;86 -->\n<g id=\"edge86\" class=\"edge\">\n<title>85&#45;&gt;86</title>\n<path fill=\"none\" stroke=\"#000000\" d=\"M1894.9781,-460.8796C1884.0143,-449.3337 1872.1103,-436.7976 1861.1399,-425.2446\"/>\n<polygon fill=\"#000000\" stroke=\"#000000\" points=\"1863.5087,-422.6564 1854.0848,-417.8149 1858.4327,-427.4766 1863.5087,-422.6564\"/>\n</g>\n<!-- 87 -->\n<g id=\"node88\" class=\"node\">\n<title>87</title>\n<polygon fill=\"#399de5\" stroke=\"#000000\" points=\"1982,-417.5 1887,-417.5 1887,-349.5 1982,-349.5 1982,-417.5\"/>\n<text text-anchor=\"middle\" x=\"1934.5\" y=\"-402.3\" font-family=\"Times,serif\" font-size=\"14.00\" fill=\"#000000\">gini = 0.0</text>\n<text text-anchor=\"middle\" x=\"1934.5\" y=\"-387.3\" font-family=\"Times,serif\" font-size=\"14.00\" fill=\"#000000\">samples = 4</text>\n<text text-anchor=\"middle\" x=\"1934.5\" y=\"-372.3\" font-family=\"Times,serif\" font-size=\"14.00\" fill=\"#000000\">value = [0, 4]</text>\n<text text-anchor=\"middle\" x=\"1934.5\" y=\"-357.3\" font-family=\"Times,serif\" font-size=\"14.00\" fill=\"#000000\">class = e</text>\n</g>\n<!-- 85&#45;&gt;87 -->\n<g id=\"edge87\" class=\"edge\">\n<title>85&#45;&gt;87</title>\n<path fill=\"none\" stroke=\"#000000\" d=\"M1934.5,-460.8796C1934.5,-450.2134 1934.5,-438.7021 1934.5,-427.9015\"/>\n<polygon fill=\"#000000\" stroke=\"#000000\" points=\"1938.0001,-427.8149 1934.5,-417.8149 1931.0001,-427.815 1938.0001,-427.8149\"/>\n</g>\n<!-- 89 -->\n<g id=\"node90\" class=\"node\">\n<title>89</title>\n<polygon fill=\"#e58139\" stroke=\"#000000\" points=\"2095,-417.5 2000,-417.5 2000,-349.5 2095,-349.5 2095,-417.5\"/>\n<text text-anchor=\"middle\" x=\"2047.5\" y=\"-402.3\" font-family=\"Times,serif\" font-size=\"14.00\" fill=\"#000000\">gini = 0.0</text>\n<text text-anchor=\"middle\" x=\"2047.5\" y=\"-387.3\" font-family=\"Times,serif\" font-size=\"14.00\" fill=\"#000000\">samples = 2</text>\n<text text-anchor=\"middle\" x=\"2047.5\" y=\"-372.3\" font-family=\"Times,serif\" font-size=\"14.00\" fill=\"#000000\">value = [2, 0]</text>\n<text text-anchor=\"middle\" x=\"2047.5\" y=\"-357.3\" font-family=\"Times,serif\" font-size=\"14.00\" fill=\"#000000\">class = P</text>\n</g>\n<!-- 88&#45;&gt;89 -->\n<g id=\"edge89\" class=\"edge\">\n<title>88&#45;&gt;89</title>\n<path fill=\"none\" stroke=\"#000000\" d=\"M2059.2045,-460.8796C2057.5911,-450.2134 2055.8499,-438.7021 2054.2162,-427.9015\"/>\n<polygon fill=\"#000000\" stroke=\"#000000\" points=\"2057.6468,-427.179 2052.6905,-417.8149 2050.7255,-428.226 2057.6468,-427.179\"/>\n</g>\n<!-- 90 -->\n<g id=\"node91\" class=\"node\">\n<title>90</title>\n<polygon fill=\"#9ccef2\" stroke=\"#000000\" points=\"2229.5,-425 2113.5,-425 2113.5,-342 2229.5,-342 2229.5,-425\"/>\n<text text-anchor=\"middle\" x=\"2171.5\" y=\"-409.8\" font-family=\"Times,serif\" font-size=\"14.00\" fill=\"#000000\">Income &lt;= 113.5</text>\n<text text-anchor=\"middle\" x=\"2171.5\" y=\"-394.8\" font-family=\"Times,serif\" font-size=\"14.00\" fill=\"#000000\">gini = 0.444</text>\n<text text-anchor=\"middle\" x=\"2171.5\" y=\"-379.8\" font-family=\"Times,serif\" font-size=\"14.00\" fill=\"#000000\">samples = 3</text>\n<text text-anchor=\"middle\" x=\"2171.5\" y=\"-364.8\" font-family=\"Times,serif\" font-size=\"14.00\" fill=\"#000000\">value = [1, 2]</text>\n<text text-anchor=\"middle\" x=\"2171.5\" y=\"-349.8\" font-family=\"Times,serif\" font-size=\"14.00\" fill=\"#000000\">class = e</text>\n</g>\n<!-- 88&#45;&gt;90 -->\n<g id=\"edge90\" class=\"edge\">\n<title>88&#45;&gt;90</title>\n<path fill=\"none\" stroke=\"#000000\" d=\"M2102.5737,-460.8796C2110.5961,-451.8733 2119.1552,-442.2644 2127.4167,-432.9897\"/>\n<polygon fill=\"#000000\" stroke=\"#000000\" points=\"2130.2302,-435.0933 2134.2681,-425.2981 2125.0031,-430.4373 2130.2302,-435.0933\"/>\n</g>\n<!-- 91 -->\n<g id=\"node92\" class=\"node\">\n<title>91</title>\n<polygon fill=\"#399de5\" stroke=\"#000000\" points=\"2162,-298.5 2067,-298.5 2067,-230.5 2162,-230.5 2162,-298.5\"/>\n<text text-anchor=\"middle\" x=\"2114.5\" y=\"-283.3\" font-family=\"Times,serif\" font-size=\"14.00\" fill=\"#000000\">gini = 0.0</text>\n<text text-anchor=\"middle\" x=\"2114.5\" y=\"-268.3\" font-family=\"Times,serif\" font-size=\"14.00\" fill=\"#000000\">samples = 2</text>\n<text text-anchor=\"middle\" x=\"2114.5\" y=\"-253.3\" font-family=\"Times,serif\" font-size=\"14.00\" fill=\"#000000\">value = [0, 2]</text>\n<text text-anchor=\"middle\" x=\"2114.5\" y=\"-238.3\" font-family=\"Times,serif\" font-size=\"14.00\" fill=\"#000000\">class = e</text>\n</g>\n<!-- 90&#45;&gt;91 -->\n<g id=\"edge91\" class=\"edge\">\n<title>90&#45;&gt;91</title>\n<path fill=\"none\" stroke=\"#000000\" d=\"M2151.5642,-341.8796C2146.2971,-330.8835 2140.5999,-318.9893 2135.289,-307.9015\"/>\n<polygon fill=\"#000000\" stroke=\"#000000\" points=\"2138.4131,-306.3217 2130.9366,-298.8149 2132.1,-309.3457 2138.4131,-306.3217\"/>\n</g>\n<!-- 92 -->\n<g id=\"node93\" class=\"node\">\n<title>92</title>\n<polygon fill=\"#e58139\" stroke=\"#000000\" points=\"2275,-298.5 2180,-298.5 2180,-230.5 2275,-230.5 2275,-298.5\"/>\n<text text-anchor=\"middle\" x=\"2227.5\" y=\"-283.3\" font-family=\"Times,serif\" font-size=\"14.00\" fill=\"#000000\">gini = 0.0</text>\n<text text-anchor=\"middle\" x=\"2227.5\" y=\"-268.3\" font-family=\"Times,serif\" font-size=\"14.00\" fill=\"#000000\">samples = 1</text>\n<text text-anchor=\"middle\" x=\"2227.5\" y=\"-253.3\" font-family=\"Times,serif\" font-size=\"14.00\" fill=\"#000000\">value = [1, 0]</text>\n<text text-anchor=\"middle\" x=\"2227.5\" y=\"-238.3\" font-family=\"Times,serif\" font-size=\"14.00\" fill=\"#000000\">class = P</text>\n</g>\n<!-- 90&#45;&gt;92 -->\n<g id=\"edge92\" class=\"edge\">\n<title>90&#45;&gt;92</title>\n<path fill=\"none\" stroke=\"#000000\" d=\"M2191.0861,-341.8796C2196.2607,-330.8835 2201.858,-318.9893 2207.0758,-307.9015\"/>\n<polygon fill=\"#000000\" stroke=\"#000000\" points=\"2210.2606,-309.3534 2211.3518,-298.8149 2203.9269,-306.3728 2210.2606,-309.3534\"/>\n</g>\n<!-- 94 -->\n<g id=\"node95\" class=\"node\">\n<title>94</title>\n<polygon fill=\"#399de5\" stroke=\"#000000\" points=\"2321,-655.5 2226,-655.5 2226,-587.5 2321,-587.5 2321,-655.5\"/>\n<text text-anchor=\"middle\" x=\"2273.5\" y=\"-640.3\" font-family=\"Times,serif\" font-size=\"14.00\" fill=\"#000000\">gini = 0.0</text>\n<text text-anchor=\"middle\" x=\"2273.5\" y=\"-625.3\" font-family=\"Times,serif\" font-size=\"14.00\" fill=\"#000000\">samples = 1</text>\n<text text-anchor=\"middle\" x=\"2273.5\" y=\"-610.3\" font-family=\"Times,serif\" font-size=\"14.00\" fill=\"#000000\">value = [0, 1]</text>\n<text text-anchor=\"middle\" x=\"2273.5\" y=\"-595.3\" font-family=\"Times,serif\" font-size=\"14.00\" fill=\"#000000\">class = e</text>\n</g>\n<!-- 93&#45;&gt;94 -->\n<g id=\"edge94\" class=\"edge\">\n<title>93&#45;&gt;94</title>\n<path fill=\"none\" stroke=\"#000000\" d=\"M2273.5,-698.8796C2273.5,-688.2134 2273.5,-676.7021 2273.5,-665.9015\"/>\n<polygon fill=\"#000000\" stroke=\"#000000\" points=\"2277.0001,-665.8149 2273.5,-655.8149 2270.0001,-665.815 2277.0001,-665.8149\"/>\n</g>\n<!-- 95 -->\n<g id=\"node96\" class=\"node\">\n<title>95</title>\n<polygon fill=\"#e88e4e\" stroke=\"#000000\" points=\"2458,-663 2341,-663 2341,-580 2458,-580 2458,-663\"/>\n<text text-anchor=\"middle\" x=\"2399.5\" y=\"-647.8\" font-family=\"Times,serif\" font-size=\"14.00\" fill=\"#000000\">Income &lt;= 108.5</text>\n<text text-anchor=\"middle\" x=\"2399.5\" y=\"-632.8\" font-family=\"Times,serif\" font-size=\"14.00\" fill=\"#000000\">gini = 0.175</text>\n<text text-anchor=\"middle\" x=\"2399.5\" y=\"-617.8\" font-family=\"Times,serif\" font-size=\"14.00\" fill=\"#000000\">samples = 31</text>\n<text text-anchor=\"middle\" x=\"2399.5\" y=\"-602.8\" font-family=\"Times,serif\" font-size=\"14.00\" fill=\"#000000\">value = [28, 3]</text>\n<text text-anchor=\"middle\" x=\"2399.5\" y=\"-587.8\" font-family=\"Times,serif\" font-size=\"14.00\" fill=\"#000000\">class = P</text>\n</g>\n<!-- 93&#45;&gt;95 -->\n<g id=\"edge95\" class=\"edge\">\n<title>93&#45;&gt;95</title>\n<path fill=\"none\" stroke=\"#000000\" d=\"M2317.5687,-698.8796C2327.2955,-689.6931 2337.6861,-679.8798 2347.6879,-670.4336\"/>\n<polygon fill=\"#000000\" stroke=\"#000000\" points=\"2350.3763,-672.7089 2355.2432,-663.2981 2345.5699,-667.6198 2350.3763,-672.7089\"/>\n</g>\n<!-- 96 -->\n<g id=\"node97\" class=\"node\">\n<title>96</title>\n<polygon fill=\"#ffffff\" stroke=\"#000000\" points=\"2451.5,-544 2347.5,-544 2347.5,-461 2451.5,-461 2451.5,-544\"/>\n<text text-anchor=\"middle\" x=\"2399.5\" y=\"-528.8\" font-family=\"Times,serif\" font-size=\"14.00\" fill=\"#000000\">CCAvg &lt;= 3.0</text>\n<text text-anchor=\"middle\" x=\"2399.5\" y=\"-513.8\" font-family=\"Times,serif\" font-size=\"14.00\" fill=\"#000000\">gini = 0.5</text>\n<text text-anchor=\"middle\" x=\"2399.5\" y=\"-498.8\" font-family=\"Times,serif\" font-size=\"14.00\" fill=\"#000000\">samples = 2</text>\n<text text-anchor=\"middle\" x=\"2399.5\" y=\"-483.8\" font-family=\"Times,serif\" font-size=\"14.00\" fill=\"#000000\">value = [1, 1]</text>\n<text text-anchor=\"middle\" x=\"2399.5\" y=\"-468.8\" font-family=\"Times,serif\" font-size=\"14.00\" fill=\"#000000\">class = P</text>\n</g>\n<!-- 95&#45;&gt;96 -->\n<g id=\"edge96\" class=\"edge\">\n<title>95&#45;&gt;96</title>\n<path fill=\"none\" stroke=\"#000000\" d=\"M2399.5,-579.8796C2399.5,-571.6838 2399.5,-562.9891 2399.5,-554.5013\"/>\n<polygon fill=\"#000000\" stroke=\"#000000\" points=\"2403.0001,-554.298 2399.5,-544.2981 2396.0001,-554.2981 2403.0001,-554.298\"/>\n</g>\n<!-- 99 -->\n<g id=\"node100\" class=\"node\">\n<title>99</title>\n<polygon fill=\"#e78a48\" stroke=\"#000000\" points=\"2594.5,-544 2478.5,-544 2478.5,-461 2594.5,-461 2594.5,-544\"/>\n<text text-anchor=\"middle\" x=\"2536.5\" y=\"-528.8\" font-family=\"Times,serif\" font-size=\"14.00\" fill=\"#000000\">Income &lt;= 114.5</text>\n<text text-anchor=\"middle\" x=\"2536.5\" y=\"-513.8\" font-family=\"Times,serif\" font-size=\"14.00\" fill=\"#000000\">gini = 0.128</text>\n<text text-anchor=\"middle\" x=\"2536.5\" y=\"-498.8\" font-family=\"Times,serif\" font-size=\"14.00\" fill=\"#000000\">samples = 29</text>\n<text text-anchor=\"middle\" x=\"2536.5\" y=\"-483.8\" font-family=\"Times,serif\" font-size=\"14.00\" fill=\"#000000\">value = [27, 2]</text>\n<text text-anchor=\"middle\" x=\"2536.5\" y=\"-468.8\" font-family=\"Times,serif\" font-size=\"14.00\" fill=\"#000000\">class = P</text>\n</g>\n<!-- 95&#45;&gt;99 -->\n<g id=\"edge99\" class=\"edge\">\n<title>95&#45;&gt;99</title>\n<path fill=\"none\" stroke=\"#000000\" d=\"M2447.416,-579.8796C2458.1993,-570.513 2469.7329,-560.4948 2480.8039,-550.8784\"/>\n<polygon fill=\"#000000\" stroke=\"#000000\" points=\"2483.1251,-553.4982 2488.3795,-544.2981 2478.5347,-548.2134 2483.1251,-553.4982\"/>\n</g>\n<!-- 97 -->\n<g id=\"node98\" class=\"node\">\n<title>97</title>\n<polygon fill=\"#e58139\" stroke=\"#000000\" points=\"2343,-417.5 2248,-417.5 2248,-349.5 2343,-349.5 2343,-417.5\"/>\n<text text-anchor=\"middle\" x=\"2295.5\" y=\"-402.3\" font-family=\"Times,serif\" font-size=\"14.00\" fill=\"#000000\">gini = 0.0</text>\n<text text-anchor=\"middle\" x=\"2295.5\" y=\"-387.3\" font-family=\"Times,serif\" font-size=\"14.00\" fill=\"#000000\">samples = 1</text>\n<text text-anchor=\"middle\" x=\"2295.5\" y=\"-372.3\" font-family=\"Times,serif\" font-size=\"14.00\" fill=\"#000000\">value = [1, 0]</text>\n<text text-anchor=\"middle\" x=\"2295.5\" y=\"-357.3\" font-family=\"Times,serif\" font-size=\"14.00\" fill=\"#000000\">class = P</text>\n</g>\n<!-- 96&#45;&gt;97 -->\n<g id=\"edge97\" class=\"edge\">\n<title>96&#45;&gt;97</title>\n<path fill=\"none\" stroke=\"#000000\" d=\"M2363.1258,-460.8796C2353.1314,-449.4436 2342.288,-437.0363 2332.2714,-425.575\"/>\n<polygon fill=\"#000000\" stroke=\"#000000\" points=\"2334.7055,-423.0414 2325.4895,-417.8149 2329.4347,-427.6479 2334.7055,-423.0414\"/>\n</g>\n<!-- 98 -->\n<g id=\"node99\" class=\"node\">\n<title>98</title>\n<polygon fill=\"#399de5\" stroke=\"#000000\" points=\"2456,-417.5 2361,-417.5 2361,-349.5 2456,-349.5 2456,-417.5\"/>\n<text text-anchor=\"middle\" x=\"2408.5\" y=\"-402.3\" font-family=\"Times,serif\" font-size=\"14.00\" fill=\"#000000\">gini = 0.0</text>\n<text text-anchor=\"middle\" x=\"2408.5\" y=\"-387.3\" font-family=\"Times,serif\" font-size=\"14.00\" fill=\"#000000\">samples = 1</text>\n<text text-anchor=\"middle\" x=\"2408.5\" y=\"-372.3\" font-family=\"Times,serif\" font-size=\"14.00\" fill=\"#000000\">value = [0, 1]</text>\n<text text-anchor=\"middle\" x=\"2408.5\" y=\"-357.3\" font-family=\"Times,serif\" font-size=\"14.00\" fill=\"#000000\">class = e</text>\n</g>\n<!-- 96&#45;&gt;98 -->\n<g id=\"edge98\" class=\"edge\">\n<title>96&#45;&gt;98</title>\n<path fill=\"none\" stroke=\"#000000\" d=\"M2402.6478,-460.8796C2403.4545,-450.2134 2404.3251,-438.7021 2405.1419,-427.9015\"/>\n<polygon fill=\"#000000\" stroke=\"#000000\" points=\"2408.6405,-428.0504 2405.9048,-417.8149 2401.6605,-427.5225 2408.6405,-428.0504\"/>\n</g>\n<!-- 100 -->\n<g id=\"node101\" class=\"node\">\n<title>100</title>\n<polygon fill=\"#e68641\" stroke=\"#000000\" points=\"2599,-425 2474,-425 2474,-342 2599,-342 2599,-425\"/>\n<text text-anchor=\"middle\" x=\"2536.5\" y=\"-409.8\" font-family=\"Times,serif\" font-size=\"14.00\" fill=\"#000000\">Education &lt;= 1.75</text>\n<text text-anchor=\"middle\" x=\"2536.5\" y=\"-394.8\" font-family=\"Times,serif\" font-size=\"14.00\" fill=\"#000000\">gini = 0.071</text>\n<text text-anchor=\"middle\" x=\"2536.5\" y=\"-379.8\" font-family=\"Times,serif\" font-size=\"14.00\" fill=\"#000000\">samples = 27</text>\n<text text-anchor=\"middle\" x=\"2536.5\" y=\"-364.8\" font-family=\"Times,serif\" font-size=\"14.00\" fill=\"#000000\">value = [26, 1]</text>\n<text text-anchor=\"middle\" x=\"2536.5\" y=\"-349.8\" font-family=\"Times,serif\" font-size=\"14.00\" fill=\"#000000\">class = P</text>\n</g>\n<!-- 99&#45;&gt;100 -->\n<g id=\"edge100\" class=\"edge\">\n<title>99&#45;&gt;100</title>\n<path fill=\"none\" stroke=\"#000000\" d=\"M2536.5,-460.8796C2536.5,-452.6838 2536.5,-443.9891 2536.5,-435.5013\"/>\n<polygon fill=\"#000000\" stroke=\"#000000\" points=\"2540.0001,-435.298 2536.5,-425.2981 2533.0001,-435.2981 2540.0001,-435.298\"/>\n</g>\n<!-- 107 -->\n<g id=\"node108\" class=\"node\">\n<title>107</title>\n<polygon fill=\"#ffffff\" stroke=\"#000000\" points=\"2742,-425 2617,-425 2617,-342 2742,-342 2742,-425\"/>\n<text text-anchor=\"middle\" x=\"2679.5\" y=\"-409.8\" font-family=\"Times,serif\" font-size=\"14.00\" fill=\"#000000\">Education &lt;= 1.95</text>\n<text text-anchor=\"middle\" x=\"2679.5\" y=\"-394.8\" font-family=\"Times,serif\" font-size=\"14.00\" fill=\"#000000\">gini = 0.5</text>\n<text text-anchor=\"middle\" x=\"2679.5\" y=\"-379.8\" font-family=\"Times,serif\" font-size=\"14.00\" fill=\"#000000\">samples = 2</text>\n<text text-anchor=\"middle\" x=\"2679.5\" y=\"-364.8\" font-family=\"Times,serif\" font-size=\"14.00\" fill=\"#000000\">value = [1, 1]</text>\n<text text-anchor=\"middle\" x=\"2679.5\" y=\"-349.8\" font-family=\"Times,serif\" font-size=\"14.00\" fill=\"#000000\">class = P</text>\n</g>\n<!-- 99&#45;&gt;107 -->\n<g id=\"edge107\" class=\"edge\">\n<title>99&#45;&gt;107</title>\n<path fill=\"none\" stroke=\"#000000\" d=\"M2586.5145,-460.8796C2597.7701,-451.513 2609.8088,-441.4948 2621.3646,-431.8784\"/>\n<polygon fill=\"#000000\" stroke=\"#000000\" points=\"2623.8242,-434.385 2629.2721,-425.2981 2619.3466,-429.0043 2623.8242,-434.385\"/>\n</g>\n<!-- 101 -->\n<g id=\"node102\" class=\"node\">\n<title>101</title>\n<polygon fill=\"#eeab7b\" stroke=\"#000000\" points=\"2474.5,-306 2358.5,-306 2358.5,-223 2474.5,-223 2474.5,-306\"/>\n<text text-anchor=\"middle\" x=\"2416.5\" y=\"-290.8\" font-family=\"Times,serif\" font-size=\"14.00\" fill=\"#000000\">Income &lt;= 112.5</text>\n<text text-anchor=\"middle\" x=\"2416.5\" y=\"-275.8\" font-family=\"Times,serif\" font-size=\"14.00\" fill=\"#000000\">gini = 0.375</text>\n<text text-anchor=\"middle\" x=\"2416.5\" y=\"-260.8\" font-family=\"Times,serif\" font-size=\"14.00\" fill=\"#000000\">samples = 4</text>\n<text text-anchor=\"middle\" x=\"2416.5\" y=\"-245.8\" font-family=\"Times,serif\" font-size=\"14.00\" fill=\"#000000\">value = [3, 1]</text>\n<text text-anchor=\"middle\" x=\"2416.5\" y=\"-230.8\" font-family=\"Times,serif\" font-size=\"14.00\" fill=\"#000000\">class = P</text>\n</g>\n<!-- 100&#45;&gt;101 -->\n<g id=\"edge101\" class=\"edge\">\n<title>100&#45;&gt;101</title>\n<path fill=\"none\" stroke=\"#000000\" d=\"M2494.5298,-341.8796C2485.2662,-332.6931 2475.3704,-322.8798 2465.8448,-313.4336\"/>\n<polygon fill=\"#000000\" stroke=\"#000000\" points=\"2468.2144,-310.8543 2458.6493,-306.2981 2463.2854,-315.8247 2468.2144,-310.8543\"/>\n</g>\n<!-- 106 -->\n<g id=\"node107\" class=\"node\">\n<title>106</title>\n<polygon fill=\"#e58139\" stroke=\"#000000\" points=\"2594.5,-298.5 2492.5,-298.5 2492.5,-230.5 2594.5,-230.5 2594.5,-298.5\"/>\n<text text-anchor=\"middle\" x=\"2543.5\" y=\"-283.3\" font-family=\"Times,serif\" font-size=\"14.00\" fill=\"#000000\">gini = 0.0</text>\n<text text-anchor=\"middle\" x=\"2543.5\" y=\"-268.3\" font-family=\"Times,serif\" font-size=\"14.00\" fill=\"#000000\">samples = 23</text>\n<text text-anchor=\"middle\" x=\"2543.5\" y=\"-253.3\" font-family=\"Times,serif\" font-size=\"14.00\" fill=\"#000000\">value = [23, 0]</text>\n<text text-anchor=\"middle\" x=\"2543.5\" y=\"-238.3\" font-family=\"Times,serif\" font-size=\"14.00\" fill=\"#000000\">class = P</text>\n</g>\n<!-- 100&#45;&gt;106 -->\n<g id=\"edge106\" class=\"edge\">\n<title>100&#45;&gt;106</title>\n<path fill=\"none\" stroke=\"#000000\" d=\"M2538.9483,-341.8796C2539.5757,-331.2134 2540.2528,-319.7021 2540.8881,-308.9015\"/>\n<polygon fill=\"#000000\" stroke=\"#000000\" points=\"2544.3881,-309.0032 2541.4815,-298.8149 2537.4002,-308.5921 2544.3881,-309.0032\"/>\n</g>\n<!-- 102 -->\n<g id=\"node103\" class=\"node\">\n<title>102</title>\n<polygon fill=\"#e58139\" stroke=\"#000000\" points=\"2406,-179.5 2311,-179.5 2311,-111.5 2406,-111.5 2406,-179.5\"/>\n<text text-anchor=\"middle\" x=\"2358.5\" y=\"-164.3\" font-family=\"Times,serif\" font-size=\"14.00\" fill=\"#000000\">gini = 0.0</text>\n<text text-anchor=\"middle\" x=\"2358.5\" y=\"-149.3\" font-family=\"Times,serif\" font-size=\"14.00\" fill=\"#000000\">samples = 2</text>\n<text text-anchor=\"middle\" x=\"2358.5\" y=\"-134.3\" font-family=\"Times,serif\" font-size=\"14.00\" fill=\"#000000\">value = [2, 0]</text>\n<text text-anchor=\"middle\" x=\"2358.5\" y=\"-119.3\" font-family=\"Times,serif\" font-size=\"14.00\" fill=\"#000000\">class = P</text>\n</g>\n<!-- 101&#45;&gt;102 -->\n<g id=\"edge102\" class=\"edge\">\n<title>101&#45;&gt;102</title>\n<path fill=\"none\" stroke=\"#000000\" d=\"M2396.2144,-222.8796C2390.855,-211.8835 2385.0578,-199.9893 2379.6537,-188.9015\"/>\n<polygon fill=\"#000000\" stroke=\"#000000\" points=\"2382.7524,-187.2706 2375.2249,-179.8149 2376.46,-190.3375 2382.7524,-187.2706\"/>\n</g>\n<!-- 103 -->\n<g id=\"node104\" class=\"node\">\n<title>103</title>\n<polygon fill=\"#ffffff\" stroke=\"#000000\" points=\"2524.5,-187 2424.5,-187 2424.5,-104 2524.5,-104 2524.5,-187\"/>\n<text text-anchor=\"middle\" x=\"2474.5\" y=\"-171.8\" font-family=\"Times,serif\" font-size=\"14.00\" fill=\"#000000\">Family &lt;= 2.5</text>\n<text text-anchor=\"middle\" x=\"2474.5\" y=\"-156.8\" font-family=\"Times,serif\" font-size=\"14.00\" fill=\"#000000\">gini = 0.5</text>\n<text text-anchor=\"middle\" x=\"2474.5\" y=\"-141.8\" font-family=\"Times,serif\" font-size=\"14.00\" fill=\"#000000\">samples = 2</text>\n<text text-anchor=\"middle\" x=\"2474.5\" y=\"-126.8\" font-family=\"Times,serif\" font-size=\"14.00\" fill=\"#000000\">value = [1, 1]</text>\n<text text-anchor=\"middle\" x=\"2474.5\" y=\"-111.8\" font-family=\"Times,serif\" font-size=\"14.00\" fill=\"#000000\">class = P</text>\n</g>\n<!-- 101&#45;&gt;103 -->\n<g id=\"edge103\" class=\"edge\">\n<title>101&#45;&gt;103</title>\n<path fill=\"none\" stroke=\"#000000\" d=\"M2436.7856,-222.8796C2440.9557,-214.3236 2445.3909,-205.2238 2449.6997,-196.3833\"/>\n<polygon fill=\"#000000\" stroke=\"#000000\" points=\"2452.8927,-197.8207 2454.1278,-187.2981 2446.6003,-194.7538 2452.8927,-197.8207\"/>\n</g>\n<!-- 104 -->\n<g id=\"node105\" class=\"node\">\n<title>104</title>\n<polygon fill=\"#399de5\" stroke=\"#000000\" points=\"2465,-68 2370,-68 2370,0 2465,0 2465,-68\"/>\n<text text-anchor=\"middle\" x=\"2417.5\" y=\"-52.8\" font-family=\"Times,serif\" font-size=\"14.00\" fill=\"#000000\">gini = 0.0</text>\n<text text-anchor=\"middle\" x=\"2417.5\" y=\"-37.8\" font-family=\"Times,serif\" font-size=\"14.00\" fill=\"#000000\">samples = 1</text>\n<text text-anchor=\"middle\" x=\"2417.5\" y=\"-22.8\" font-family=\"Times,serif\" font-size=\"14.00\" fill=\"#000000\">value = [0, 1]</text>\n<text text-anchor=\"middle\" x=\"2417.5\" y=\"-7.8\" font-family=\"Times,serif\" font-size=\"14.00\" fill=\"#000000\">class = e</text>\n</g>\n<!-- 103&#45;&gt;104 -->\n<g id=\"edge104\" class=\"edge\">\n<title>103&#45;&gt;104</title>\n<path fill=\"none\" stroke=\"#000000\" d=\"M2453.2753,-103.9815C2448.8119,-95.2504 2444.0933,-86.0202 2439.5987,-77.2281\"/>\n<polygon fill=\"#000000\" stroke=\"#000000\" points=\"2442.6842,-75.5745 2435.016,-68.2637 2436.4514,-78.7608 2442.6842,-75.5745\"/>\n</g>\n<!-- 105 -->\n<g id=\"node106\" class=\"node\">\n<title>105</title>\n<polygon fill=\"#e58139\" stroke=\"#000000\" points=\"2578,-68 2483,-68 2483,0 2578,0 2578,-68\"/>\n<text text-anchor=\"middle\" x=\"2530.5\" y=\"-52.8\" font-family=\"Times,serif\" font-size=\"14.00\" fill=\"#000000\">gini = 0.0</text>\n<text text-anchor=\"middle\" x=\"2530.5\" y=\"-37.8\" font-family=\"Times,serif\" font-size=\"14.00\" fill=\"#000000\">samples = 1</text>\n<text text-anchor=\"middle\" x=\"2530.5\" y=\"-22.8\" font-family=\"Times,serif\" font-size=\"14.00\" fill=\"#000000\">value = [1, 0]</text>\n<text text-anchor=\"middle\" x=\"2530.5\" y=\"-7.8\" font-family=\"Times,serif\" font-size=\"14.00\" fill=\"#000000\">class = P</text>\n</g>\n<!-- 103&#45;&gt;105 -->\n<g id=\"edge105\" class=\"edge\">\n<title>103&#45;&gt;105</title>\n<path fill=\"none\" stroke=\"#000000\" d=\"M2495.3523,-103.9815C2499.7375,-95.2504 2504.3733,-86.0202 2508.789,-77.2281\"/>\n<polygon fill=\"#000000\" stroke=\"#000000\" points=\"2511.9308,-78.7708 2513.2913,-68.2637 2505.6754,-75.6291 2511.9308,-78.7708\"/>\n</g>\n<!-- 108 -->\n<g id=\"node109\" class=\"node\">\n<title>108</title>\n<polygon fill=\"#e58139\" stroke=\"#000000\" points=\"2721,-298.5 2626,-298.5 2626,-230.5 2721,-230.5 2721,-298.5\"/>\n<text text-anchor=\"middle\" x=\"2673.5\" y=\"-283.3\" font-family=\"Times,serif\" font-size=\"14.00\" fill=\"#000000\">gini = 0.0</text>\n<text text-anchor=\"middle\" x=\"2673.5\" y=\"-268.3\" font-family=\"Times,serif\" font-size=\"14.00\" fill=\"#000000\">samples = 1</text>\n<text text-anchor=\"middle\" x=\"2673.5\" y=\"-253.3\" font-family=\"Times,serif\" font-size=\"14.00\" fill=\"#000000\">value = [1, 0]</text>\n<text text-anchor=\"middle\" x=\"2673.5\" y=\"-238.3\" font-family=\"Times,serif\" font-size=\"14.00\" fill=\"#000000\">class = P</text>\n</g>\n<!-- 107&#45;&gt;108 -->\n<g id=\"edge108\" class=\"edge\">\n<title>107&#45;&gt;108</title>\n<path fill=\"none\" stroke=\"#000000\" d=\"M2677.4015,-341.8796C2676.8637,-331.2134 2676.2833,-319.7021 2675.7387,-308.9015\"/>\n<polygon fill=\"#000000\" stroke=\"#000000\" points=\"2679.2294,-308.626 2675.2302,-298.8149 2672.2383,-308.9785 2679.2294,-308.626\"/>\n</g>\n<!-- 109 -->\n<g id=\"node110\" class=\"node\">\n<title>109</title>\n<polygon fill=\"#399de5\" stroke=\"#000000\" points=\"2834,-298.5 2739,-298.5 2739,-230.5 2834,-230.5 2834,-298.5\"/>\n<text text-anchor=\"middle\" x=\"2786.5\" y=\"-283.3\" font-family=\"Times,serif\" font-size=\"14.00\" fill=\"#000000\">gini = 0.0</text>\n<text text-anchor=\"middle\" x=\"2786.5\" y=\"-268.3\" font-family=\"Times,serif\" font-size=\"14.00\" fill=\"#000000\">samples = 1</text>\n<text text-anchor=\"middle\" x=\"2786.5\" y=\"-253.3\" font-family=\"Times,serif\" font-size=\"14.00\" fill=\"#000000\">value = [0, 1]</text>\n<text text-anchor=\"middle\" x=\"2786.5\" y=\"-238.3\" font-family=\"Times,serif\" font-size=\"14.00\" fill=\"#000000\">class = e</text>\n</g>\n<!-- 107&#45;&gt;109 -->\n<g id=\"edge109\" class=\"edge\">\n<title>107&#45;&gt;109</title>\n<path fill=\"none\" stroke=\"#000000\" d=\"M2716.9234,-341.8796C2727.2061,-330.4436 2738.3623,-318.0363 2748.6679,-306.575\"/>\n<polygon fill=\"#000000\" stroke=\"#000000\" points=\"2751.5618,-308.5912 2755.6454,-298.8149 2746.3565,-303.9108 2751.5618,-308.5912\"/>\n</g>\n<!-- 111 -->\n<g id=\"node112\" class=\"node\">\n<title>111</title>\n<polygon fill=\"#399de5\" stroke=\"#000000\" points=\"2445,-774.5 2350,-774.5 2350,-706.5 2445,-706.5 2445,-774.5\"/>\n<text text-anchor=\"middle\" x=\"2397.5\" y=\"-759.3\" font-family=\"Times,serif\" font-size=\"14.00\" fill=\"#000000\">gini = 0.0</text>\n<text text-anchor=\"middle\" x=\"2397.5\" y=\"-744.3\" font-family=\"Times,serif\" font-size=\"14.00\" fill=\"#000000\">samples = 2</text>\n<text text-anchor=\"middle\" x=\"2397.5\" y=\"-729.3\" font-family=\"Times,serif\" font-size=\"14.00\" fill=\"#000000\">value = [0, 2]</text>\n<text text-anchor=\"middle\" x=\"2397.5\" y=\"-714.3\" font-family=\"Times,serif\" font-size=\"14.00\" fill=\"#000000\">class = e</text>\n</g>\n<!-- 110&#45;&gt;111 -->\n<g id=\"edge111\" class=\"edge\">\n<title>110&#45;&gt;111</title>\n<path fill=\"none\" stroke=\"#000000\" d=\"M2400.7512,-817.8796C2400.3031,-807.2134 2399.8194,-795.7021 2399.3656,-784.9015\"/>\n<polygon fill=\"#000000\" stroke=\"#000000\" points=\"2402.8586,-784.6592 2398.9418,-774.8149 2395.8648,-784.9531 2402.8586,-784.6592\"/>\n</g>\n<!-- 112 -->\n<g id=\"node113\" class=\"node\">\n<title>112</title>\n<polygon fill=\"#e58139\" stroke=\"#000000\" points=\"2558,-774.5 2463,-774.5 2463,-706.5 2558,-706.5 2558,-774.5\"/>\n<text text-anchor=\"middle\" x=\"2510.5\" y=\"-759.3\" font-family=\"Times,serif\" font-size=\"14.00\" fill=\"#000000\">gini = 0.0</text>\n<text text-anchor=\"middle\" x=\"2510.5\" y=\"-744.3\" font-family=\"Times,serif\" font-size=\"14.00\" fill=\"#000000\">samples = 1</text>\n<text text-anchor=\"middle\" x=\"2510.5\" y=\"-729.3\" font-family=\"Times,serif\" font-size=\"14.00\" fill=\"#000000\">value = [1, 0]</text>\n<text text-anchor=\"middle\" x=\"2510.5\" y=\"-714.3\" font-family=\"Times,serif\" font-size=\"14.00\" fill=\"#000000\">class = P</text>\n</g>\n<!-- 110&#45;&gt;112 -->\n<g id=\"edge112\" class=\"edge\">\n<title>110&#45;&gt;112</title>\n<path fill=\"none\" stroke=\"#000000\" d=\"M2440.2732,-817.8796C2450.7518,-806.3337 2462.1291,-793.7976 2472.6141,-782.2446\"/>\n<polygon fill=\"#000000\" stroke=\"#000000\" points=\"2475.2282,-784.5722 2479.357,-774.8149 2470.0447,-779.8678 2475.2282,-784.5722\"/>\n</g>\n<!-- 114 -->\n<g id=\"node115\" class=\"node\">\n<title>114</title>\n<polygon fill=\"#a9d4f4\" stroke=\"#000000\" points=\"3219,-1020 3094,-1020 3094,-937 3219,-937 3219,-1020\"/>\n<text text-anchor=\"middle\" x=\"3156.5\" y=\"-1004.8\" font-family=\"Times,serif\" font-size=\"14.00\" fill=\"#000000\">Education &lt;= 4.45</text>\n<text text-anchor=\"middle\" x=\"3156.5\" y=\"-989.8\" font-family=\"Times,serif\" font-size=\"14.00\" fill=\"#000000\">gini = 0.461</text>\n<text text-anchor=\"middle\" x=\"3156.5\" y=\"-974.8\" font-family=\"Times,serif\" font-size=\"14.00\" fill=\"#000000\">samples = 36</text>\n<text text-anchor=\"middle\" x=\"3156.5\" y=\"-959.8\" font-family=\"Times,serif\" font-size=\"14.00\" fill=\"#000000\">value = [13, 23]</text>\n<text text-anchor=\"middle\" x=\"3156.5\" y=\"-944.8\" font-family=\"Times,serif\" font-size=\"14.00\" fill=\"#000000\">class = e</text>\n</g>\n<!-- 113&#45;&gt;114 -->\n<g id=\"edge114\" class=\"edge\">\n<title>113&#45;&gt;114</title>\n<path fill=\"none\" stroke=\"#000000\" d=\"M3156.5,-1055.8796C3156.5,-1047.6838 3156.5,-1038.9891 3156.5,-1030.5013\"/>\n<polygon fill=\"#000000\" stroke=\"#000000\" points=\"3160.0001,-1030.298 3156.5,-1020.2981 3153.0001,-1030.2981 3160.0001,-1030.298\"/>\n</g>\n<!-- 139 -->\n<g id=\"node140\" class=\"node\">\n<title>139</title>\n<polygon fill=\"#399de5\" stroke=\"#000000\" points=\"3332,-1012.5 3237,-1012.5 3237,-944.5 3332,-944.5 3332,-1012.5\"/>\n<text text-anchor=\"middle\" x=\"3284.5\" y=\"-997.3\" font-family=\"Times,serif\" font-size=\"14.00\" fill=\"#000000\">gini = 0.0</text>\n<text text-anchor=\"middle\" x=\"3284.5\" y=\"-982.3\" font-family=\"Times,serif\" font-size=\"14.00\" fill=\"#000000\">samples = 9</text>\n<text text-anchor=\"middle\" x=\"3284.5\" y=\"-967.3\" font-family=\"Times,serif\" font-size=\"14.00\" fill=\"#000000\">value = [0, 9]</text>\n<text text-anchor=\"middle\" x=\"3284.5\" y=\"-952.3\" font-family=\"Times,serif\" font-size=\"14.00\" fill=\"#000000\">class = e</text>\n</g>\n<!-- 113&#45;&gt;139 -->\n<g id=\"edge139\" class=\"edge\">\n<title>113&#45;&gt;139</title>\n<path fill=\"none\" stroke=\"#000000\" d=\"M3201.2682,-1055.8796C3213.8056,-1044.2237 3227.4284,-1031.5587 3239.953,-1019.9148\"/>\n<polygon fill=\"#000000\" stroke=\"#000000\" points=\"3242.6491,-1022.1872 3247.5898,-1012.8149 3237.8828,-1017.0605 3242.6491,-1022.1872\"/>\n</g>\n<!-- 115 -->\n<g id=\"node116\" class=\"node\">\n<title>115</title>\n<polygon fill=\"#93caf1\" stroke=\"#000000\" points=\"3219,-901 3094,-901 3094,-818 3219,-818 3219,-901\"/>\n<text text-anchor=\"middle\" x=\"3156.5\" y=\"-885.8\" font-family=\"Times,serif\" font-size=\"14.00\" fill=\"#000000\">Education &lt;= 3.45</text>\n<text text-anchor=\"middle\" x=\"3156.5\" y=\"-870.8\" font-family=\"Times,serif\" font-size=\"14.00\" fill=\"#000000\">gini = 0.43</text>\n<text text-anchor=\"middle\" x=\"3156.5\" y=\"-855.8\" font-family=\"Times,serif\" font-size=\"14.00\" fill=\"#000000\">samples = 32</text>\n<text text-anchor=\"middle\" x=\"3156.5\" y=\"-840.8\" font-family=\"Times,serif\" font-size=\"14.00\" fill=\"#000000\">value = [10, 22]</text>\n<text text-anchor=\"middle\" x=\"3156.5\" y=\"-825.8\" font-family=\"Times,serif\" font-size=\"14.00\" fill=\"#000000\">class = e</text>\n</g>\n<!-- 114&#45;&gt;115 -->\n<g id=\"edge115\" class=\"edge\">\n<title>114&#45;&gt;115</title>\n<path fill=\"none\" stroke=\"#000000\" d=\"M3156.5,-936.8796C3156.5,-928.6838 3156.5,-919.9891 3156.5,-911.5013\"/>\n<polygon fill=\"#000000\" stroke=\"#000000\" points=\"3160.0001,-911.298 3156.5,-901.2981 3153.0001,-911.2981 3160.0001,-911.298\"/>\n</g>\n<!-- 136 -->\n<g id=\"node137\" class=\"node\">\n<title>136</title>\n<polygon fill=\"#eeab7b\" stroke=\"#000000\" points=\"3417.5,-901 3313.5,-901 3313.5,-818 3417.5,-818 3417.5,-901\"/>\n<text text-anchor=\"middle\" x=\"3365.5\" y=\"-885.8\" font-family=\"Times,serif\" font-size=\"14.00\" fill=\"#000000\">CCAvg &lt;= 2.5</text>\n<text text-anchor=\"middle\" x=\"3365.5\" y=\"-870.8\" font-family=\"Times,serif\" font-size=\"14.00\" fill=\"#000000\">gini = 0.375</text>\n<text text-anchor=\"middle\" x=\"3365.5\" y=\"-855.8\" font-family=\"Times,serif\" font-size=\"14.00\" fill=\"#000000\">samples = 4</text>\n<text text-anchor=\"middle\" x=\"3365.5\" y=\"-840.8\" font-family=\"Times,serif\" font-size=\"14.00\" fill=\"#000000\">value = [3, 1]</text>\n<text text-anchor=\"middle\" x=\"3365.5\" y=\"-825.8\" font-family=\"Times,serif\" font-size=\"14.00\" fill=\"#000000\">class = P</text>\n</g>\n<!-- 114&#45;&gt;136 -->\n<g id=\"edge136\" class=\"edge\">\n<title>114&#45;&gt;136</title>\n<path fill=\"none\" stroke=\"#000000\" d=\"M3219.1858,-941.781C3221.9933,-940.1613 3224.7746,-938.5616 3227.5,-937 3252.5516,-922.6456 3280.2874,-907.0182 3304.2833,-893.5812\"/>\n<polygon fill=\"#000000\" stroke=\"#000000\" points=\"3306.2654,-896.4828 3313.2835,-888.5458 3302.8476,-890.3739 3306.2654,-896.4828\"/>\n</g>\n<!-- 116 -->\n<g id=\"node117\" class=\"node\">\n<title>116</title>\n<polygon fill=\"#d3e9f9\" stroke=\"#000000\" points=\"3144,-782 3019,-782 3019,-699 3144,-699 3144,-782\"/>\n<text text-anchor=\"middle\" x=\"3081.5\" y=\"-766.8\" font-family=\"Times,serif\" font-size=\"14.00\" fill=\"#000000\">Education &lt;= 3.35</text>\n<text text-anchor=\"middle\" x=\"3081.5\" y=\"-751.8\" font-family=\"Times,serif\" font-size=\"14.00\" fill=\"#000000\">gini = 0.492</text>\n<text text-anchor=\"middle\" x=\"3081.5\" y=\"-736.8\" font-family=\"Times,serif\" font-size=\"14.00\" fill=\"#000000\">samples = 16</text>\n<text text-anchor=\"middle\" x=\"3081.5\" y=\"-721.8\" font-family=\"Times,serif\" font-size=\"14.00\" fill=\"#000000\">value = [7, 9]</text>\n<text text-anchor=\"middle\" x=\"3081.5\" y=\"-706.8\" font-family=\"Times,serif\" font-size=\"14.00\" fill=\"#000000\">class = e</text>\n</g>\n<!-- 115&#45;&gt;116 -->\n<g id=\"edge116\" class=\"edge\">\n<title>115&#45;&gt;116</title>\n<path fill=\"none\" stroke=\"#000000\" d=\"M3130.2686,-817.8796C3124.7627,-809.1434 3118.8994,-799.8404 3113.2176,-790.8253\"/>\n<polygon fill=\"#000000\" stroke=\"#000000\" points=\"3116.1363,-788.8919 3107.8433,-782.2981 3110.2143,-792.6242 3116.1363,-788.8919\"/>\n</g>\n<!-- 125 -->\n<g id=\"node126\" class=\"node\">\n<title>125</title>\n<polygon fill=\"#67b4eb\" stroke=\"#000000\" points=\"3299.5,-782 3195.5,-782 3195.5,-699 3299.5,-699 3299.5,-782\"/>\n<text text-anchor=\"middle\" x=\"3247.5\" y=\"-766.8\" font-family=\"Times,serif\" font-size=\"14.00\" fill=\"#000000\">CCAvg &lt;= 1.5</text>\n<text text-anchor=\"middle\" x=\"3247.5\" y=\"-751.8\" font-family=\"Times,serif\" font-size=\"14.00\" fill=\"#000000\">gini = 0.305</text>\n<text text-anchor=\"middle\" x=\"3247.5\" y=\"-736.8\" font-family=\"Times,serif\" font-size=\"14.00\" fill=\"#000000\">samples = 16</text>\n<text text-anchor=\"middle\" x=\"3247.5\" y=\"-721.8\" font-family=\"Times,serif\" font-size=\"14.00\" fill=\"#000000\">value = [3, 13]</text>\n<text text-anchor=\"middle\" x=\"3247.5\" y=\"-706.8\" font-family=\"Times,serif\" font-size=\"14.00\" fill=\"#000000\">class = e</text>\n</g>\n<!-- 115&#45;&gt;125 -->\n<g id=\"edge125\" class=\"edge\">\n<title>115&#45;&gt;125</title>\n<path fill=\"none\" stroke=\"#000000\" d=\"M3188.3274,-817.8796C3195.1457,-808.9633 3202.4156,-799.4565 3209.4421,-790.268\"/>\n<polygon fill=\"#000000\" stroke=\"#000000\" points=\"3212.2425,-792.3678 3215.5368,-782.2981 3206.682,-788.1156 3212.2425,-792.3678\"/>\n</g>\n<!-- 117 -->\n<g id=\"node118\" class=\"node\">\n<title>117</title>\n<polygon fill=\"#6ab6ec\" stroke=\"#000000\" points=\"2988,-663 2863,-663 2863,-580 2988,-580 2988,-663\"/>\n<text text-anchor=\"middle\" x=\"2925.5\" y=\"-647.8\" font-family=\"Times,serif\" font-size=\"14.00\" fill=\"#000000\">Education &lt;= 2.95</text>\n<text text-anchor=\"middle\" x=\"2925.5\" y=\"-632.8\" font-family=\"Times,serif\" font-size=\"14.00\" fill=\"#000000\">gini = 0.32</text>\n<text text-anchor=\"middle\" x=\"2925.5\" y=\"-617.8\" font-family=\"Times,serif\" font-size=\"14.00\" fill=\"#000000\">samples = 10</text>\n<text text-anchor=\"middle\" x=\"2925.5\" y=\"-602.8\" font-family=\"Times,serif\" font-size=\"14.00\" fill=\"#000000\">value = [2, 8]</text>\n<text text-anchor=\"middle\" x=\"2925.5\" y=\"-587.8\" font-family=\"Times,serif\" font-size=\"14.00\" fill=\"#000000\">class = e</text>\n</g>\n<!-- 116&#45;&gt;117 -->\n<g id=\"edge117\" class=\"edge\">\n<title>116&#45;&gt;117</title>\n<path fill=\"none\" stroke=\"#000000\" d=\"M3026.9388,-698.8796C3014.4698,-689.368 3001.1198,-679.1843 2988.3352,-669.432\"/>\n<polygon fill=\"#000000\" stroke=\"#000000\" points=\"2990.104,-666.3792 2980.0304,-663.0969 2985.8585,-671.9448 2990.104,-666.3792\"/>\n</g>\n<!-- 122 -->\n<g id=\"node123\" class=\"node\">\n<title>122</title>\n<polygon fill=\"#ea9a61\" stroke=\"#000000\" points=\"3140,-663 3023,-663 3023,-580 3140,-580 3140,-663\"/>\n<text text-anchor=\"middle\" x=\"3081.5\" y=\"-647.8\" font-family=\"Times,serif\" font-size=\"14.00\" fill=\"#000000\">Income &lt;= 100.5</text>\n<text text-anchor=\"middle\" x=\"3081.5\" y=\"-632.8\" font-family=\"Times,serif\" font-size=\"14.00\" fill=\"#000000\">gini = 0.278</text>\n<text text-anchor=\"middle\" x=\"3081.5\" y=\"-617.8\" font-family=\"Times,serif\" font-size=\"14.00\" fill=\"#000000\">samples = 6</text>\n<text text-anchor=\"middle\" x=\"3081.5\" y=\"-602.8\" font-family=\"Times,serif\" font-size=\"14.00\" fill=\"#000000\">value = [5, 1]</text>\n<text text-anchor=\"middle\" x=\"3081.5\" y=\"-587.8\" font-family=\"Times,serif\" font-size=\"14.00\" fill=\"#000000\">class = P</text>\n</g>\n<!-- 116&#45;&gt;122 -->\n<g id=\"edge122\" class=\"edge\">\n<title>116&#45;&gt;122</title>\n<path fill=\"none\" stroke=\"#000000\" d=\"M3081.5,-698.8796C3081.5,-690.6838 3081.5,-681.9891 3081.5,-673.5013\"/>\n<polygon fill=\"#000000\" stroke=\"#000000\" points=\"3085.0001,-673.298 3081.5,-663.2981 3078.0001,-673.2981 3085.0001,-673.298\"/>\n</g>\n<!-- 118 -->\n<g id=\"node119\" class=\"node\">\n<title>118</title>\n<polygon fill=\"#ffffff\" stroke=\"#000000\" points=\"2859.5,-544 2755.5,-544 2755.5,-461 2859.5,-461 2859.5,-544\"/>\n<text text-anchor=\"middle\" x=\"2807.5\" y=\"-528.8\" font-family=\"Times,serif\" font-size=\"14.00\" fill=\"#000000\">CCAvg &lt;= 1.5</text>\n<text text-anchor=\"middle\" x=\"2807.5\" y=\"-513.8\" font-family=\"Times,serif\" font-size=\"14.00\" fill=\"#000000\">gini = 0.5</text>\n<text text-anchor=\"middle\" x=\"2807.5\" y=\"-498.8\" font-family=\"Times,serif\" font-size=\"14.00\" fill=\"#000000\">samples = 4</text>\n<text text-anchor=\"middle\" x=\"2807.5\" y=\"-483.8\" font-family=\"Times,serif\" font-size=\"14.00\" fill=\"#000000\">value = [2, 2]</text>\n<text text-anchor=\"middle\" x=\"2807.5\" y=\"-468.8\" font-family=\"Times,serif\" font-size=\"14.00\" fill=\"#000000\">class = P</text>\n</g>\n<!-- 117&#45;&gt;118 -->\n<g id=\"edge118\" class=\"edge\">\n<title>117&#45;&gt;118</title>\n<path fill=\"none\" stroke=\"#000000\" d=\"M2884.2293,-579.8796C2875.1201,-570.6931 2865.3892,-560.8798 2856.0224,-551.4336\"/>\n<polygon fill=\"#000000\" stroke=\"#000000\" points=\"2858.4733,-548.9345 2848.9468,-544.2981 2853.5027,-553.8634 2858.4733,-548.9345\"/>\n</g>\n<!-- 121 -->\n<g id=\"node122\" class=\"node\">\n<title>121</title>\n<polygon fill=\"#399de5\" stroke=\"#000000\" points=\"2973,-536.5 2878,-536.5 2878,-468.5 2973,-468.5 2973,-536.5\"/>\n<text text-anchor=\"middle\" x=\"2925.5\" y=\"-521.3\" font-family=\"Times,serif\" font-size=\"14.00\" fill=\"#000000\">gini = 0.0</text>\n<text text-anchor=\"middle\" x=\"2925.5\" y=\"-506.3\" font-family=\"Times,serif\" font-size=\"14.00\" fill=\"#000000\">samples = 6</text>\n<text text-anchor=\"middle\" x=\"2925.5\" y=\"-491.3\" font-family=\"Times,serif\" font-size=\"14.00\" fill=\"#000000\">value = [0, 6]</text>\n<text text-anchor=\"middle\" x=\"2925.5\" y=\"-476.3\" font-family=\"Times,serif\" font-size=\"14.00\" fill=\"#000000\">class = e</text>\n</g>\n<!-- 117&#45;&gt;121 -->\n<g id=\"edge121\" class=\"edge\">\n<title>117&#45;&gt;121</title>\n<path fill=\"none\" stroke=\"#000000\" d=\"M2925.5,-579.8796C2925.5,-569.2134 2925.5,-557.7021 2925.5,-546.9015\"/>\n<polygon fill=\"#000000\" stroke=\"#000000\" points=\"2929.0001,-546.8149 2925.5,-536.8149 2922.0001,-546.815 2929.0001,-546.8149\"/>\n</g>\n<!-- 119 -->\n<g id=\"node120\" class=\"node\">\n<title>119</title>\n<polygon fill=\"#e58139\" stroke=\"#000000\" points=\"2855,-417.5 2760,-417.5 2760,-349.5 2855,-349.5 2855,-417.5\"/>\n<text text-anchor=\"middle\" x=\"2807.5\" y=\"-402.3\" font-family=\"Times,serif\" font-size=\"14.00\" fill=\"#000000\">gini = 0.0</text>\n<text text-anchor=\"middle\" x=\"2807.5\" y=\"-387.3\" font-family=\"Times,serif\" font-size=\"14.00\" fill=\"#000000\">samples = 2</text>\n<text text-anchor=\"middle\" x=\"2807.5\" y=\"-372.3\" font-family=\"Times,serif\" font-size=\"14.00\" fill=\"#000000\">value = [2, 0]</text>\n<text text-anchor=\"middle\" x=\"2807.5\" y=\"-357.3\" font-family=\"Times,serif\" font-size=\"14.00\" fill=\"#000000\">class = P</text>\n</g>\n<!-- 118&#45;&gt;119 -->\n<g id=\"edge119\" class=\"edge\">\n<title>118&#45;&gt;119</title>\n<path fill=\"none\" stroke=\"#000000\" d=\"M2807.5,-460.8796C2807.5,-450.2134 2807.5,-438.7021 2807.5,-427.9015\"/>\n<polygon fill=\"#000000\" stroke=\"#000000\" points=\"2811.0001,-427.8149 2807.5,-417.8149 2804.0001,-427.815 2811.0001,-427.8149\"/>\n</g>\n<!-- 120 -->\n<g id=\"node121\" class=\"node\">\n<title>120</title>\n<polygon fill=\"#399de5\" stroke=\"#000000\" points=\"2968,-417.5 2873,-417.5 2873,-349.5 2968,-349.5 2968,-417.5\"/>\n<text text-anchor=\"middle\" x=\"2920.5\" y=\"-402.3\" font-family=\"Times,serif\" font-size=\"14.00\" fill=\"#000000\">gini = 0.0</text>\n<text text-anchor=\"middle\" x=\"2920.5\" y=\"-387.3\" font-family=\"Times,serif\" font-size=\"14.00\" fill=\"#000000\">samples = 2</text>\n<text text-anchor=\"middle\" x=\"2920.5\" y=\"-372.3\" font-family=\"Times,serif\" font-size=\"14.00\" fill=\"#000000\">value = [0, 2]</text>\n<text text-anchor=\"middle\" x=\"2920.5\" y=\"-357.3\" font-family=\"Times,serif\" font-size=\"14.00\" fill=\"#000000\">class = e</text>\n</g>\n<!-- 118&#45;&gt;120 -->\n<g id=\"edge120\" class=\"edge\">\n<title>118&#45;&gt;120</title>\n<path fill=\"none\" stroke=\"#000000\" d=\"M2847.0219,-460.8796C2857.9857,-449.3337 2869.8897,-436.7976 2880.8601,-425.2446\"/>\n<polygon fill=\"#000000\" stroke=\"#000000\" points=\"2883.5673,-427.4766 2887.9152,-417.8149 2878.4913,-422.6564 2883.5673,-427.4766\"/>\n</g>\n<!-- 123 -->\n<g id=\"node124\" class=\"node\">\n<title>123</title>\n<polygon fill=\"#399de5\" stroke=\"#000000\" points=\"3086,-536.5 2991,-536.5 2991,-468.5 3086,-468.5 3086,-536.5\"/>\n<text text-anchor=\"middle\" x=\"3038.5\" y=\"-521.3\" font-family=\"Times,serif\" font-size=\"14.00\" fill=\"#000000\">gini = 0.0</text>\n<text text-anchor=\"middle\" x=\"3038.5\" y=\"-506.3\" font-family=\"Times,serif\" font-size=\"14.00\" fill=\"#000000\">samples = 1</text>\n<text text-anchor=\"middle\" x=\"3038.5\" y=\"-491.3\" font-family=\"Times,serif\" font-size=\"14.00\" fill=\"#000000\">value = [0, 1]</text>\n<text text-anchor=\"middle\" x=\"3038.5\" y=\"-476.3\" font-family=\"Times,serif\" font-size=\"14.00\" fill=\"#000000\">class = e</text>\n</g>\n<!-- 122&#45;&gt;123 -->\n<g id=\"edge123\" class=\"edge\">\n<title>122&#45;&gt;123</title>\n<path fill=\"none\" stroke=\"#000000\" d=\"M3066.4607,-579.8796C3062.527,-568.9935 3058.2753,-557.227 3054.3032,-546.2344\"/>\n<polygon fill=\"#000000\" stroke=\"#000000\" points=\"3057.5897,-545.0303 3050.8995,-536.8149 3051.0063,-547.4092 3057.5897,-545.0303\"/>\n</g>\n<!-- 124 -->\n<g id=\"node125\" class=\"node\">\n<title>124</title>\n<polygon fill=\"#e58139\" stroke=\"#000000\" points=\"3199,-536.5 3104,-536.5 3104,-468.5 3199,-468.5 3199,-536.5\"/>\n<text text-anchor=\"middle\" x=\"3151.5\" y=\"-521.3\" font-family=\"Times,serif\" font-size=\"14.00\" fill=\"#000000\">gini = 0.0</text>\n<text text-anchor=\"middle\" x=\"3151.5\" y=\"-506.3\" font-family=\"Times,serif\" font-size=\"14.00\" fill=\"#000000\">samples = 5</text>\n<text text-anchor=\"middle\" x=\"3151.5\" y=\"-491.3\" font-family=\"Times,serif\" font-size=\"14.00\" fill=\"#000000\">value = [5, 0]</text>\n<text text-anchor=\"middle\" x=\"3151.5\" y=\"-476.3\" font-family=\"Times,serif\" font-size=\"14.00\" fill=\"#000000\">class = P</text>\n</g>\n<!-- 122&#45;&gt;124 -->\n<g id=\"edge124\" class=\"edge\">\n<title>122&#45;&gt;124</title>\n<path fill=\"none\" stroke=\"#000000\" d=\"M3105.9826,-579.8796C3112.5156,-568.7735 3119.5875,-556.7513 3126.1652,-545.5691\"/>\n<polygon fill=\"#000000\" stroke=\"#000000\" points=\"3129.2613,-547.2089 3131.3147,-536.8149 3123.2277,-543.6597 3129.2613,-547.2089\"/>\n</g>\n<!-- 126 -->\n<g id=\"node127\" class=\"node\">\n<title>126</title>\n<polygon fill=\"#f2c09c\" stroke=\"#000000\" points=\"3323.5,-663 3205.5,-663 3205.5,-580 3323.5,-580 3323.5,-663\"/>\n<text text-anchor=\"middle\" x=\"3264.5\" y=\"-647.8\" font-family=\"Times,serif\" font-size=\"14.00\" fill=\"#000000\">Education &lt;= 4.1</text>\n<text text-anchor=\"middle\" x=\"3264.5\" y=\"-632.8\" font-family=\"Times,serif\" font-size=\"14.00\" fill=\"#000000\">gini = 0.444</text>\n<text text-anchor=\"middle\" x=\"3264.5\" y=\"-617.8\" font-family=\"Times,serif\" font-size=\"14.00\" fill=\"#000000\">samples = 3</text>\n<text text-anchor=\"middle\" x=\"3264.5\" y=\"-602.8\" font-family=\"Times,serif\" font-size=\"14.00\" fill=\"#000000\">value = [2, 1]</text>\n<text text-anchor=\"middle\" x=\"3264.5\" y=\"-587.8\" font-family=\"Times,serif\" font-size=\"14.00\" fill=\"#000000\">class = P</text>\n</g>\n<!-- 125&#45;&gt;126 -->\n<g id=\"edge126\" class=\"edge\">\n<title>125&#45;&gt;126</title>\n<path fill=\"none\" stroke=\"#000000\" d=\"M3253.4458,-698.8796C3254.6295,-690.5938 3255.886,-681.798 3257.1112,-673.2216\"/>\n<polygon fill=\"#000000\" stroke=\"#000000\" points=\"3260.5794,-673.6926 3258.5288,-663.2981 3253.6497,-672.7026 3260.5794,-673.6926\"/>\n</g>\n<!-- 129 -->\n<g id=\"node130\" class=\"node\">\n<title>129</title>\n<polygon fill=\"#49a5e7\" stroke=\"#000000\" points=\"3553.5,-663 3449.5,-663 3449.5,-580 3553.5,-580 3553.5,-663\"/>\n<text text-anchor=\"middle\" x=\"3501.5\" y=\"-647.8\" font-family=\"Times,serif\" font-size=\"14.00\" fill=\"#000000\">CCAvg &lt;= 2.5</text>\n<text text-anchor=\"middle\" x=\"3501.5\" y=\"-632.8\" font-family=\"Times,serif\" font-size=\"14.00\" fill=\"#000000\">gini = 0.142</text>\n<text text-anchor=\"middle\" x=\"3501.5\" y=\"-617.8\" font-family=\"Times,serif\" font-size=\"14.00\" fill=\"#000000\">samples = 13</text>\n<text text-anchor=\"middle\" x=\"3501.5\" y=\"-602.8\" font-family=\"Times,serif\" font-size=\"14.00\" fill=\"#000000\">value = [1, 12]</text>\n<text text-anchor=\"middle\" x=\"3501.5\" y=\"-587.8\" font-family=\"Times,serif\" font-size=\"14.00\" fill=\"#000000\">class = e</text>\n</g>\n<!-- 125&#45;&gt;129 -->\n<g id=\"edge129\" class=\"edge\">\n<title>125&#45;&gt;129</title>\n<path fill=\"none\" stroke=\"#000000\" d=\"M3299.6232,-703.9899C3302.5898,-702.2423 3305.561,-700.5662 3308.5,-699 3350.8011,-676.4576 3401.1288,-656.4545 3439.7839,-642.4187\"/>\n<polygon fill=\"#000000\" stroke=\"#000000\" points=\"3441.1214,-645.6573 3449.348,-638.981 3438.7536,-639.0699 3441.1214,-645.6573\"/>\n</g>\n<!-- 127 -->\n<g id=\"node128\" class=\"node\">\n<title>127</title>\n<polygon fill=\"#e58139\" stroke=\"#000000\" points=\"3312,-536.5 3217,-536.5 3217,-468.5 3312,-468.5 3312,-536.5\"/>\n<text text-anchor=\"middle\" x=\"3264.5\" y=\"-521.3\" font-family=\"Times,serif\" font-size=\"14.00\" fill=\"#000000\">gini = 0.0</text>\n<text text-anchor=\"middle\" x=\"3264.5\" y=\"-506.3\" font-family=\"Times,serif\" font-size=\"14.00\" fill=\"#000000\">samples = 2</text>\n<text text-anchor=\"middle\" x=\"3264.5\" y=\"-491.3\" font-family=\"Times,serif\" font-size=\"14.00\" fill=\"#000000\">value = [2, 0]</text>\n<text text-anchor=\"middle\" x=\"3264.5\" y=\"-476.3\" font-family=\"Times,serif\" font-size=\"14.00\" fill=\"#000000\">class = P</text>\n</g>\n<!-- 126&#45;&gt;127 -->\n<g id=\"edge127\" class=\"edge\">\n<title>126&#45;&gt;127</title>\n<path fill=\"none\" stroke=\"#000000\" d=\"M3264.5,-579.8796C3264.5,-569.2134 3264.5,-557.7021 3264.5,-546.9015\"/>\n<polygon fill=\"#000000\" stroke=\"#000000\" points=\"3268.0001,-546.8149 3264.5,-536.8149 3261.0001,-546.815 3268.0001,-546.8149\"/>\n</g>\n<!-- 128 -->\n<g id=\"node129\" class=\"node\">\n<title>128</title>\n<polygon fill=\"#399de5\" stroke=\"#000000\" points=\"3425,-536.5 3330,-536.5 3330,-468.5 3425,-468.5 3425,-536.5\"/>\n<text text-anchor=\"middle\" x=\"3377.5\" y=\"-521.3\" font-family=\"Times,serif\" font-size=\"14.00\" fill=\"#000000\">gini = 0.0</text>\n<text text-anchor=\"middle\" x=\"3377.5\" y=\"-506.3\" font-family=\"Times,serif\" font-size=\"14.00\" fill=\"#000000\">samples = 1</text>\n<text text-anchor=\"middle\" x=\"3377.5\" y=\"-491.3\" font-family=\"Times,serif\" font-size=\"14.00\" fill=\"#000000\">value = [0, 1]</text>\n<text text-anchor=\"middle\" x=\"3377.5\" y=\"-476.3\" font-family=\"Times,serif\" font-size=\"14.00\" fill=\"#000000\">class = e</text>\n</g>\n<!-- 126&#45;&gt;128 -->\n<g id=\"edge128\" class=\"edge\">\n<title>126&#45;&gt;128</title>\n<path fill=\"none\" stroke=\"#000000\" d=\"M3304.0219,-579.8796C3314.9857,-568.3337 3326.8897,-555.7976 3337.8601,-544.2446\"/>\n<polygon fill=\"#000000\" stroke=\"#000000\" points=\"3340.5673,-546.4766 3344.9152,-536.8149 3335.4913,-541.6564 3340.5673,-546.4766\"/>\n</g>\n<!-- 130 -->\n<g id=\"node131\" class=\"node\">\n<title>130</title>\n<polygon fill=\"#61b1ea\" stroke=\"#000000\" points=\"3560,-544 3443,-544 3443,-461 3560,-461 3560,-544\"/>\n<text text-anchor=\"middle\" x=\"3501.5\" y=\"-528.8\" font-family=\"Times,serif\" font-size=\"14.00\" fill=\"#000000\">Income &lt;= 109.5</text>\n<text text-anchor=\"middle\" x=\"3501.5\" y=\"-513.8\" font-family=\"Times,serif\" font-size=\"14.00\" fill=\"#000000\">gini = 0.278</text>\n<text text-anchor=\"middle\" x=\"3501.5\" y=\"-498.8\" font-family=\"Times,serif\" font-size=\"14.00\" fill=\"#000000\">samples = 6</text>\n<text text-anchor=\"middle\" x=\"3501.5\" y=\"-483.8\" font-family=\"Times,serif\" font-size=\"14.00\" fill=\"#000000\">value = [1, 5]</text>\n<text text-anchor=\"middle\" x=\"3501.5\" y=\"-468.8\" font-family=\"Times,serif\" font-size=\"14.00\" fill=\"#000000\">class = e</text>\n</g>\n<!-- 129&#45;&gt;130 -->\n<g id=\"edge130\" class=\"edge\">\n<title>129&#45;&gt;130</title>\n<path fill=\"none\" stroke=\"#000000\" d=\"M3501.5,-579.8796C3501.5,-571.6838 3501.5,-562.9891 3501.5,-554.5013\"/>\n<polygon fill=\"#000000\" stroke=\"#000000\" points=\"3505.0001,-554.298 3501.5,-544.2981 3498.0001,-554.2981 3505.0001,-554.298\"/>\n</g>\n<!-- 135 -->\n<g id=\"node136\" class=\"node\">\n<title>135</title>\n<polygon fill=\"#399de5\" stroke=\"#000000\" points=\"3673,-536.5 3578,-536.5 3578,-468.5 3673,-468.5 3673,-536.5\"/>\n<text text-anchor=\"middle\" x=\"3625.5\" y=\"-521.3\" font-family=\"Times,serif\" font-size=\"14.00\" fill=\"#000000\">gini = 0.0</text>\n<text text-anchor=\"middle\" x=\"3625.5\" y=\"-506.3\" font-family=\"Times,serif\" font-size=\"14.00\" fill=\"#000000\">samples = 7</text>\n<text text-anchor=\"middle\" x=\"3625.5\" y=\"-491.3\" font-family=\"Times,serif\" font-size=\"14.00\" fill=\"#000000\">value = [0, 7]</text>\n<text text-anchor=\"middle\" x=\"3625.5\" y=\"-476.3\" font-family=\"Times,serif\" font-size=\"14.00\" fill=\"#000000\">class = e</text>\n</g>\n<!-- 129&#45;&gt;135 -->\n<g id=\"edge135\" class=\"edge\">\n<title>129&#45;&gt;135</title>\n<path fill=\"none\" stroke=\"#000000\" d=\"M3544.8692,-579.8796C3557.0148,-568.2237 3570.2119,-555.5587 3582.3451,-543.9148\"/>\n<polygon fill=\"#000000\" stroke=\"#000000\" points=\"3584.9516,-546.2643 3589.7433,-536.8149 3580.1047,-541.2138 3584.9516,-546.2643\"/>\n</g>\n<!-- 131 -->\n<g id=\"node132\" class=\"node\">\n<title>131</title>\n<polygon fill=\"#9ccef2\" stroke=\"#000000\" points=\"3498,-425 3381,-425 3381,-342 3498,-342 3498,-425\"/>\n<text text-anchor=\"middle\" x=\"3439.5\" y=\"-409.8\" font-family=\"Times,serif\" font-size=\"14.00\" fill=\"#000000\">Income &lt;= 106.0</text>\n<text text-anchor=\"middle\" x=\"3439.5\" y=\"-394.8\" font-family=\"Times,serif\" font-size=\"14.00\" fill=\"#000000\">gini = 0.444</text>\n<text text-anchor=\"middle\" x=\"3439.5\" y=\"-379.8\" font-family=\"Times,serif\" font-size=\"14.00\" fill=\"#000000\">samples = 3</text>\n<text text-anchor=\"middle\" x=\"3439.5\" y=\"-364.8\" font-family=\"Times,serif\" font-size=\"14.00\" fill=\"#000000\">value = [1, 2]</text>\n<text text-anchor=\"middle\" x=\"3439.5\" y=\"-349.8\" font-family=\"Times,serif\" font-size=\"14.00\" fill=\"#000000\">class = e</text>\n</g>\n<!-- 130&#45;&gt;131 -->\n<g id=\"edge131\" class=\"edge\">\n<title>130&#45;&gt;131</title>\n<path fill=\"none\" stroke=\"#000000\" d=\"M3479.8154,-460.8796C3475.3577,-452.3236 3470.6166,-443.2238 3466.0106,-434.3833\"/>\n<polygon fill=\"#000000\" stroke=\"#000000\" points=\"3469.0017,-432.5494 3461.2771,-425.2981 3462.7938,-435.7838 3469.0017,-432.5494\"/>\n</g>\n<!-- 134 -->\n<g id=\"node135\" class=\"node\">\n<title>134</title>\n<polygon fill=\"#399de5\" stroke=\"#000000\" points=\"3611,-417.5 3516,-417.5 3516,-349.5 3611,-349.5 3611,-417.5\"/>\n<text text-anchor=\"middle\" x=\"3563.5\" y=\"-402.3\" font-family=\"Times,serif\" font-size=\"14.00\" fill=\"#000000\">gini = 0.0</text>\n<text text-anchor=\"middle\" x=\"3563.5\" y=\"-387.3\" font-family=\"Times,serif\" font-size=\"14.00\" fill=\"#000000\">samples = 3</text>\n<text text-anchor=\"middle\" x=\"3563.5\" y=\"-372.3\" font-family=\"Times,serif\" font-size=\"14.00\" fill=\"#000000\">value = [0, 3]</text>\n<text text-anchor=\"middle\" x=\"3563.5\" y=\"-357.3\" font-family=\"Times,serif\" font-size=\"14.00\" fill=\"#000000\">class = e</text>\n</g>\n<!-- 130&#45;&gt;134 -->\n<g id=\"edge134\" class=\"edge\">\n<title>130&#45;&gt;134</title>\n<path fill=\"none\" stroke=\"#000000\" d=\"M3523.1846,-460.8796C3528.9136,-449.8835 3535.1106,-437.9893 3540.8874,-426.9015\"/>\n<polygon fill=\"#000000\" stroke=\"#000000\" points=\"3544.105,-428.3007 3545.6216,-417.8149 3537.897,-425.0662 3544.105,-428.3007\"/>\n</g>\n<!-- 132 -->\n<g id=\"node133\" class=\"node\">\n<title>132</title>\n<polygon fill=\"#399de5\" stroke=\"#000000\" points=\"3430,-298.5 3335,-298.5 3335,-230.5 3430,-230.5 3430,-298.5\"/>\n<text text-anchor=\"middle\" x=\"3382.5\" y=\"-283.3\" font-family=\"Times,serif\" font-size=\"14.00\" fill=\"#000000\">gini = 0.0</text>\n<text text-anchor=\"middle\" x=\"3382.5\" y=\"-268.3\" font-family=\"Times,serif\" font-size=\"14.00\" fill=\"#000000\">samples = 2</text>\n<text text-anchor=\"middle\" x=\"3382.5\" y=\"-253.3\" font-family=\"Times,serif\" font-size=\"14.00\" fill=\"#000000\">value = [0, 2]</text>\n<text text-anchor=\"middle\" x=\"3382.5\" y=\"-238.3\" font-family=\"Times,serif\" font-size=\"14.00\" fill=\"#000000\">class = e</text>\n</g>\n<!-- 131&#45;&gt;132 -->\n<g id=\"edge132\" class=\"edge\">\n<title>131&#45;&gt;132</title>\n<path fill=\"none\" stroke=\"#000000\" d=\"M3419.5642,-341.8796C3414.2971,-330.8835 3408.5999,-318.9893 3403.289,-307.9015\"/>\n<polygon fill=\"#000000\" stroke=\"#000000\" points=\"3406.4131,-306.3217 3398.9366,-298.8149 3400.1,-309.3457 3406.4131,-306.3217\"/>\n</g>\n<!-- 133 -->\n<g id=\"node134\" class=\"node\">\n<title>133</title>\n<polygon fill=\"#e58139\" stroke=\"#000000\" points=\"3543,-298.5 3448,-298.5 3448,-230.5 3543,-230.5 3543,-298.5\"/>\n<text text-anchor=\"middle\" x=\"3495.5\" y=\"-283.3\" font-family=\"Times,serif\" font-size=\"14.00\" fill=\"#000000\">gini = 0.0</text>\n<text text-anchor=\"middle\" x=\"3495.5\" y=\"-268.3\" font-family=\"Times,serif\" font-size=\"14.00\" fill=\"#000000\">samples = 1</text>\n<text text-anchor=\"middle\" x=\"3495.5\" y=\"-253.3\" font-family=\"Times,serif\" font-size=\"14.00\" fill=\"#000000\">value = [1, 0]</text>\n<text text-anchor=\"middle\" x=\"3495.5\" y=\"-238.3\" font-family=\"Times,serif\" font-size=\"14.00\" fill=\"#000000\">class = P</text>\n</g>\n<!-- 131&#45;&gt;133 -->\n<g id=\"edge133\" class=\"edge\">\n<title>131&#45;&gt;133</title>\n<path fill=\"none\" stroke=\"#000000\" d=\"M3459.0861,-341.8796C3464.2607,-330.8835 3469.858,-318.9893 3475.0758,-307.9015\"/>\n<polygon fill=\"#000000\" stroke=\"#000000\" points=\"3478.2606,-309.3534 3479.3518,-298.8149 3471.9269,-306.3728 3478.2606,-309.3534\"/>\n</g>\n<!-- 137 -->\n<g id=\"node138\" class=\"node\">\n<title>137</title>\n<polygon fill=\"#e58139\" stroke=\"#000000\" points=\"3413,-774.5 3318,-774.5 3318,-706.5 3413,-706.5 3413,-774.5\"/>\n<text text-anchor=\"middle\" x=\"3365.5\" y=\"-759.3\" font-family=\"Times,serif\" font-size=\"14.00\" fill=\"#000000\">gini = 0.0</text>\n<text text-anchor=\"middle\" x=\"3365.5\" y=\"-744.3\" font-family=\"Times,serif\" font-size=\"14.00\" fill=\"#000000\">samples = 3</text>\n<text text-anchor=\"middle\" x=\"3365.5\" y=\"-729.3\" font-family=\"Times,serif\" font-size=\"14.00\" fill=\"#000000\">value = [3, 0]</text>\n<text text-anchor=\"middle\" x=\"3365.5\" y=\"-714.3\" font-family=\"Times,serif\" font-size=\"14.00\" fill=\"#000000\">class = P</text>\n</g>\n<!-- 136&#45;&gt;137 -->\n<g id=\"edge137\" class=\"edge\">\n<title>136&#45;&gt;137</title>\n<path fill=\"none\" stroke=\"#000000\" d=\"M3365.5,-817.8796C3365.5,-807.2134 3365.5,-795.7021 3365.5,-784.9015\"/>\n<polygon fill=\"#000000\" stroke=\"#000000\" points=\"3369.0001,-784.8149 3365.5,-774.8149 3362.0001,-784.815 3369.0001,-784.8149\"/>\n</g>\n<!-- 138 -->\n<g id=\"node139\" class=\"node\">\n<title>138</title>\n<polygon fill=\"#399de5\" stroke=\"#000000\" points=\"3526,-774.5 3431,-774.5 3431,-706.5 3526,-706.5 3526,-774.5\"/>\n<text text-anchor=\"middle\" x=\"3478.5\" y=\"-759.3\" font-family=\"Times,serif\" font-size=\"14.00\" fill=\"#000000\">gini = 0.0</text>\n<text text-anchor=\"middle\" x=\"3478.5\" y=\"-744.3\" font-family=\"Times,serif\" font-size=\"14.00\" fill=\"#000000\">samples = 1</text>\n<text text-anchor=\"middle\" x=\"3478.5\" y=\"-729.3\" font-family=\"Times,serif\" font-size=\"14.00\" fill=\"#000000\">value = [0, 1]</text>\n<text text-anchor=\"middle\" x=\"3478.5\" y=\"-714.3\" font-family=\"Times,serif\" font-size=\"14.00\" fill=\"#000000\">class = e</text>\n</g>\n<!-- 136&#45;&gt;138 -->\n<g id=\"edge138\" class=\"edge\">\n<title>136&#45;&gt;138</title>\n<path fill=\"none\" stroke=\"#000000\" d=\"M3405.0219,-817.8796C3415.9857,-806.3337 3427.8897,-793.7976 3438.8601,-782.2446\"/>\n<polygon fill=\"#000000\" stroke=\"#000000\" points=\"3441.5673,-784.4766 3445.9152,-774.8149 3436.4913,-779.6564 3441.5673,-784.4766\"/>\n</g>\n</g>\n</svg>\n"
          },
          "metadata": {
            "tags": []
          },
          "execution_count": 452
        }
      ]
    },
    {
      "cell_type": "markdown",
      "metadata": {
        "id": "M0P1ujRZL7X3"
      },
      "source": [
        "# Stratified "
      ]
    },
    {
      "cell_type": "code",
      "metadata": {
        "colab": {
          "base_uri": "https://localhost:8080/"
        },
        "id": "sPDa5pj0RkVa",
        "outputId": "9220de0e-6364-4125-e090-7fa330f4a05a"
      },
      "source": [
        "from sklearn.model_selection import StratifiedKFold\n",
        "skf = StratifiedKFold(n_splits=2)\n",
        "skf.get_n_splits(x, y)"
      ],
      "execution_count": 453,
      "outputs": [
        {
          "output_type": "execute_result",
          "data": {
            "text/plain": [
              "2"
            ]
          },
          "metadata": {
            "tags": []
          },
          "execution_count": 453
        }
      ]
    },
    {
      "cell_type": "code",
      "metadata": {
        "colab": {
          "base_uri": "https://localhost:8080/"
        },
        "id": "G2MDPWRGSv7x",
        "outputId": "1a278a0a-72ce-44d7-e3a7-d16b6ffeeb59"
      },
      "source": [
        "for train_index, test_index in skf.split(x, y):\n",
        "  x_train, x_test = x.iloc[train_index], x.iloc[test_index]\n",
        "  y_train, y_test = y.iloc[train_index], y.iloc[test_index]\n",
        "  rf_mdl = RandomForestClassifier(n_estimators=100,oob_score=True)\n",
        "  rf_mdl.fit(x_train,y_train)\n",
        "  y_pred = rf_mdl.predict(x_test)\n",
        "  print(metrics.accuracy_score(y_test, y_pred))\n",
        "  cm = confusion_matrix(y_test,y_pred)\n",
        "  print(classification_report(y_test, y_pred, target_names=['class0','class1']))\n",
        "  print(cm)"
      ],
      "execution_count": 454,
      "outputs": [
        {
          "output_type": "stream",
          "text": [
            "0.9843624699278268\n",
            "              precision    recall  f1-score   support\n",
            "\n",
            "      class0       0.99      1.00      0.99      2254\n",
            "      class1       0.97      0.87      0.91       240\n",
            "\n",
            "    accuracy                           0.98      2494\n",
            "   macro avg       0.98      0.93      0.95      2494\n",
            "weighted avg       0.98      0.98      0.98      2494\n",
            "\n",
            "[[2247    7]\n",
            " [  32  208]]\n",
            "0.9859606899318091\n",
            "              precision    recall  f1-score   support\n",
            "\n",
            "      class0       0.99      1.00      0.99      2253\n",
            "      class1       0.96      0.90      0.92       240\n",
            "\n",
            "    accuracy                           0.99      2493\n",
            "   macro avg       0.97      0.95      0.96      2493\n",
            "weighted avg       0.99      0.99      0.99      2493\n",
            "\n",
            "[[2243   10]\n",
            " [  25  215]]\n"
          ],
          "name": "stdout"
        }
      ]
    },
    {
      "cell_type": "markdown",
      "metadata": {
        "id": "zIbmXznrqFFy"
      },
      "source": [
        "#K-nearest neighbour"
      ]
    },
    {
      "cell_type": "code",
      "metadata": {
        "id": "l4KjNo0Djyqy"
      },
      "source": [
        "import pandas as pd\n",
        "import numpy as np\n",
        "from sklearn.model_selection import train_test_split\n",
        "from sklearn import preprocessing\n",
        "from sklearn import neighbors\n",
        "from sklearn.metrics import confusion_matrix,accuracy_score"
      ],
      "execution_count": 455,
      "outputs": []
    },
    {
      "cell_type": "code",
      "metadata": {
        "id": "Qy0lAh4ep03P"
      },
      "source": [
        "x = df[['Income', 'CCAvg', 'Education','CD Account','Mortgage']]\n",
        "y = df['Personal Loan']"
      ],
      "execution_count": 456,
      "outputs": []
    },
    {
      "cell_type": "code",
      "metadata": {
        "id": "y4pIgqvmgSt7",
        "colab": {
          "base_uri": "https://localhost:8080/"
        },
        "outputId": "f2f82707-1a98-445a-c9f1-85503d066a4b"
      },
      "source": [
        "# spliting the dataset\n",
        "x_train,x_test,y_train,y_test = train_test_split(x,y,test_size=0.20,random_state=0)\n",
        "knn=neighbors.KNeighborsClassifier(n_neighbors=2)\n",
        "knn.fit(x_train,y_train)"
      ],
      "execution_count": 457,
      "outputs": [
        {
          "output_type": "execute_result",
          "data": {
            "text/plain": [
              "KNeighborsClassifier(algorithm='auto', leaf_size=30, metric='minkowski',\n",
              "                     metric_params=None, n_jobs=None, n_neighbors=2, p=2,\n",
              "                     weights='uniform')"
            ]
          },
          "metadata": {
            "tags": []
          },
          "execution_count": 457
        }
      ]
    },
    {
      "cell_type": "code",
      "metadata": {
        "id": "_vUQpSg9gSwn",
        "colab": {
          "base_uri": "https://localhost:8080/"
        },
        "outputId": "4044b790-7625-4489-d002-f3c715fac912"
      },
      "source": [
        "knn.score(x_train,y_train)"
      ],
      "execution_count": 458,
      "outputs": [
        {
          "output_type": "execute_result",
          "data": {
            "text/plain": [
              "0.9563800451240912"
            ]
          },
          "metadata": {
            "tags": []
          },
          "execution_count": 458
        }
      ]
    },
    {
      "cell_type": "code",
      "metadata": {
        "id": "fO2rnLYKAlA4"
      },
      "source": [
        "y_pred =knn.predict(x_test)"
      ],
      "execution_count": 459,
      "outputs": []
    },
    {
      "cell_type": "code",
      "metadata": {
        "colab": {
          "base_uri": "https://localhost:8080/"
        },
        "id": "vEWXNsC_iazg",
        "outputId": "be344c86-483e-4bb0-9017-573bff051390"
      },
      "source": [
        "accuracy_score(y_test,y_pred)"
      ],
      "execution_count": 460,
      "outputs": [
        {
          "output_type": "execute_result",
          "data": {
            "text/plain": [
              "0.9258517034068137"
            ]
          },
          "metadata": {
            "tags": []
          },
          "execution_count": 460
        }
      ]
    },
    {
      "cell_type": "code",
      "metadata": {
        "colab": {
          "base_uri": "https://localhost:8080/"
        },
        "id": "flwznzQyp8Xh",
        "outputId": "7e0a1d38-d87b-4f1a-c14f-eb8e936bca41"
      },
      "source": [
        "from sklearn.metrics import classification_report\n",
        "print(classification_report(y_test, y_pred, target_names=['class0','class1']))"
      ],
      "execution_count": 461,
      "outputs": [
        {
          "output_type": "stream",
          "text": [
            "              precision    recall  f1-score   support\n",
            "\n",
            "      class0       0.94      0.98      0.96       914\n",
            "      class1       0.61      0.32      0.42        84\n",
            "\n",
            "    accuracy                           0.93       998\n",
            "   macro avg       0.78      0.65      0.69       998\n",
            "weighted avg       0.91      0.93      0.92       998\n",
            "\n"
          ],
          "name": "stdout"
        }
      ]
    },
    {
      "cell_type": "code",
      "metadata": {
        "colab": {
          "base_uri": "https://localhost:8080/",
          "height": 282
        },
        "id": "7McKNjgTqAEJ",
        "outputId": "d89bcb6f-3662-4b2e-d0d1-e1fc2c1f322a"
      },
      "source": [
        "from sklearn.metrics import confusion_matrix\n",
        "import seaborn as sns\n",
        "cm = confusion_matrix(y_test,y_pred) \n",
        "sns.heatmap(cm,annot=True,cbar=True)"
      ],
      "execution_count": 462,
      "outputs": [
        {
          "output_type": "execute_result",
          "data": {
            "text/plain": [
              "<matplotlib.axes._subplots.AxesSubplot at 0x7f7bcff794d0>"
            ]
          },
          "metadata": {
            "tags": []
          },
          "execution_count": 462
        },
        {
          "output_type": "display_data",
          "data": {
            "image/png": "[encoded data removed]",
            "text/plain": [
              "<Figure size 432x288 with 2 Axes>"
            ]
          },
          "metadata": {
            "tags": [],
            "needs_background": "light"
          }
        }
      ]
    },
    {
      "cell_type": "markdown",
      "metadata": {
        "id": "gO2vXFUUqNCp"
      },
      "source": [
        "# SVM"
      ]
    },
    {
      "cell_type": "code",
      "metadata": {
        "id": "9Uo7CG1iia4f",
        "colab": {
          "base_uri": "https://localhost:8080/"
        },
        "outputId": "1cba1020-176f-4b87-ea63-e9a8c6557f76"
      },
      "source": [
        "from sklearn.svm import SVC\n",
        "svm_mdl = svm.SVC(gamma=0.001,C=100) \n",
        "svm_mdl.fit(x_train,y_train)"
      ],
      "execution_count": 463,
      "outputs": [
        {
          "output_type": "execute_result",
          "data": {
            "text/plain": [
              "SVC(C=100, break_ties=False, cache_size=200, class_weight=None, coef0=0.0,\n",
              "    decision_function_shape='ovr', degree=3, gamma=0.001, kernel='rbf',\n",
              "    max_iter=-1, probability=False, random_state=None, shrinking=True,\n",
              "    tol=0.001, verbose=False)"
            ]
          },
          "metadata": {
            "tags": []
          },
          "execution_count": 463
        }
      ]
    },
    {
      "cell_type": "code",
      "metadata": {
        "colab": {
          "base_uri": "https://localhost:8080/"
        },
        "id": "XVihpzgiwynp",
        "outputId": "aaa0c64e-fe0d-4b82-ffa0-23c001cc4207"
      },
      "source": [
        "svm_mdl.score(x_train,y_train)"
      ],
      "execution_count": 464,
      "outputs": [
        {
          "output_type": "execute_result",
          "data": {
            "text/plain": [
              "0.9714214088744046"
            ]
          },
          "metadata": {
            "tags": []
          },
          "execution_count": 464
        }
      ]
    },
    {
      "cell_type": "code",
      "metadata": {
        "id": "khGg4pnPwyx5"
      },
      "source": [
        "y_pred=svm_mdl.predict(x_test)"
      ],
      "execution_count": 465,
      "outputs": []
    },
    {
      "cell_type": "code",
      "metadata": {
        "colab": {
          "base_uri": "https://localhost:8080/"
        },
        "id": "9A4IA-ugxD6m",
        "outputId": "42690d6c-a3ca-4c61-9950-68f6b4456e5b"
      },
      "source": [
        "accuracy_score(y_test,y_pred)"
      ],
      "execution_count": 466,
      "outputs": [
        {
          "output_type": "execute_result",
          "data": {
            "text/plain": [
              "0.9529058116232465"
            ]
          },
          "metadata": {
            "tags": []
          },
          "execution_count": 466
        }
      ]
    },
    {
      "cell_type": "code",
      "metadata": {
        "id": "H1L5kyjFxDWs",
        "colab": {
          "base_uri": "https://localhost:8080/"
        },
        "outputId": "a6caf1af-4cb1-4fa9-864e-395dbec66feb"
      },
      "source": [
        "from sklearn.metrics import classification_report\n",
        "print(classification_report(y_test, y_pred, target_names=['class0','class1']))"
      ],
      "execution_count": 467,
      "outputs": [
        {
          "output_type": "stream",
          "text": [
            "              precision    recall  f1-score   support\n",
            "\n",
            "      class0       0.97      0.98      0.97       914\n",
            "      class1       0.75      0.67      0.70        84\n",
            "\n",
            "    accuracy                           0.95       998\n",
            "   macro avg       0.86      0.82      0.84       998\n",
            "weighted avg       0.95      0.95      0.95       998\n",
            "\n"
          ],
          "name": "stdout"
        }
      ]
    },
    {
      "cell_type": "code",
      "metadata": {
        "colab": {
          "base_uri": "https://localhost:8080/",
          "height": 282
        },
        "id": "DERBQQl2qVZF",
        "outputId": "925cbcbc-66d9-4e17-8da2-3378991f309d"
      },
      "source": [
        "from sklearn.metrics import confusion_matrix\n",
        "import seaborn as sns\n",
        "cm = confusion_matrix(y_test,y_pred) \n",
        "sns.heatmap(cm,annot=True,cbar=True)"
      ],
      "execution_count": 468,
      "outputs": [
        {
          "output_type": "execute_result",
          "data": {
            "text/plain": [
              "<matplotlib.axes._subplots.AxesSubplot at 0x7f7bd040c8d0>"
            ]
          },
          "metadata": {
            "tags": []
          },
          "execution_count": 468
        },
        {
          "output_type": "display_data",
          "data": {
            "image/png": "[encoded data removed]",
            "text/plain": [
              "<Figure size 432x288 with 2 Axes>"
            ]
          },
          "metadata": {
            "tags": [],
            "needs_background": "light"
          }
        }
      ]
    },
    {
      "cell_type": "code",
      "metadata": {
        "id": "_HU8L_tbqgzj"
      },
      "source": [
        ""
      ],
      "execution_count": 468,
      "outputs": []
    }
  ]
}